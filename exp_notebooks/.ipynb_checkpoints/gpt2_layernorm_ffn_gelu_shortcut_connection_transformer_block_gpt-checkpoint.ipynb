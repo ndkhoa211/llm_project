{
  "nbformat": 4,
  "nbformat_minor": 0,
  "metadata": {
    "colab": {
      "provenance": []
    },
    "kernelspec": {
      "name": "python3",
      "display_name": "Python 3"
    },
    "language_info": {
      "name": "python"
    }
  },
  "cells": [
    {
      "cell_type": "code",
      "source": [
        "import time\n",
        "notebook_start_time = time.time()"
      ],
      "metadata": {
        "id": "80lwPwQjVVKS"
      },
      "execution_count": 1,
      "outputs": []
    },
    {
      "cell_type": "markdown",
      "source": [
        "# An LLM Architecture (Backbone)"
      ],
      "metadata": {
        "id": "cjrfqGg19--I"
      }
    },
    {
      "cell_type": "markdown",
      "source": [
        "Let's set the configuration:"
      ],
      "metadata": {
        "id": "K0wX2QPw-Kig"
      }
    },
    {
      "cell_type": "code",
      "execution_count": 2,
      "metadata": {
        "id": "jMThqIsL9CQO"
      },
      "outputs": [],
      "source": [
        "GPT_CONFIG_124M = {\n",
        "    \"vocab_size\": 50257,    # Vocabulary size\n",
        "    \"context_length\": 1024, # Context length\n",
        "    \"emb_dim\": 768,         # Embedding dimension\n",
        "    \"n_heads\": 12,          # Number of attention heads\n",
        "    \"n_layers\": 12,         # Number of layers\n",
        "    \"drop_rate\": 0.1,       # Dropout rate\n",
        "    \"qkv_bias\": False       # Query-Key-Value bias\n",
        "}"
      ]
    },
    {
      "cell_type": "markdown",
      "source": [
        "## A Placeholder GPT2 Model Architecture Class"
      ],
      "metadata": {
        "id": "nVMi_qlRZkUz"
      }
    },
    {
      "cell_type": "code",
      "source": [
        "import torch\n",
        "import torch.nn as nn\n",
        "\n",
        "class DummyGPTModel(nn.Module):\n",
        "  def __init__(self,\n",
        "               config\n",
        "               ):\n",
        "    super().__init__()\n",
        "    self.token_emb = nn.Embedding(config[\"vocab_size\"],\n",
        "                                  config[\"emb_dim\"])\n",
        "    self.position_emb = nn.Embedding(config[\"context_length\"],\n",
        "                                     config[\"emb_dim\"])\n",
        "    self.drop_emb = nn.Dropout(config[\"drop_rate\"])\n",
        "\n",
        "    # a placeholder for TransformerBlock\n",
        "    self.transformer_blocks = nn.Sequential(\n",
        "        *[DummyTransformerBlock(config) for _ in range(config[\"n_layers\"])])\n",
        "\n",
        "    # a placeholder for LayerNorm\n",
        "    self.final_norm = DummyLayerNorm(config[\"emb_dim\"])\n",
        "\n",
        "    self.out_head = nn.Linear(config[\"emb_dim\"],\n",
        "                              config[\"vocab_size\"],\n",
        "                              bias=False)\n",
        "\n",
        "  def forward(self, input_token):\n",
        "    batch_size, sequence_length = input_token.shape\n",
        "    token_embeds = self.token_emb(input_token)\n",
        "    position_embeds = self.position_emb(\n",
        "        torch.arange(sequence_length,\n",
        "                     device=input_token.device))\n",
        "    embeds = token_embeds + position_embeds\n",
        "    x = self.drop_emb(embeds)\n",
        "    x = self.transformer_blocks(x)\n",
        "    x = self.final_norm(x)\n",
        "    logits = self.out_head(x)\n",
        "    return logits\n",
        "\n",
        "\n",
        "# placeholder\n",
        "class DummyTransformerBlock(nn.Module):\n",
        "  def __init__(self, config):\n",
        "    super().__init__()\n",
        "\n",
        "  def forward(self, x):\n",
        "    return x\n",
        "\n",
        "\n",
        "# placeholder\n",
        "class DummyLayerNorm(nn.Module):\n",
        "  def __init__(self, config):\n",
        "    super().__init__()\n",
        "\n",
        "  def forward(self, x):\n",
        "    return x"
      ],
      "metadata": {
        "id": "KaxnqgJS-wT5"
      },
      "execution_count": 3,
      "outputs": []
    },
    {
      "cell_type": "code",
      "source": [
        "# setup example\n",
        "import tiktoken\n",
        "\n",
        "bpe_tokenizer = tiktoken.get_encoding(\"gpt2\")\n",
        "\n",
        "batch = []\n",
        "\n",
        "txt1 = \"Every effort moves you\"\n",
        "txt2 = \"Every day holds a\"\n",
        "\n",
        "batch.append(torch.tensor(bpe_tokenizer.encode(txt1)))\n",
        "batch.append(torch.tensor(bpe_tokenizer.encode(txt2)))\n",
        "batch = torch.stack(batch)\n",
        "batch"
      ],
      "metadata": {
        "colab": {
          "base_uri": "https://localhost:8080/"
        },
        "id": "o-ezJkcmc7nB",
        "outputId": "4522fc60-03d4-47ad-f3f8-ced50dc03d69"
      },
      "execution_count": 4,
      "outputs": [
        {
          "output_type": "execute_result",
          "data": {
            "text/plain": [
              "tensor([[6109, 3626, 6100,  345],\n",
              "        [6109, 1110, 6622,  257]])"
            ]
          },
          "metadata": {},
          "execution_count": 4
        }
      ]
    },
    {
      "cell_type": "code",
      "source": [
        "# create an instance\n",
        "torch.manual_seed(211)\n",
        "model = DummyGPTModel(GPT_CONFIG_124M)\n",
        "\n",
        "logits = model(batch)\n",
        "print(\"output shape: \", logits.shape)\n",
        "logits"
      ],
      "metadata": {
        "colab": {
          "base_uri": "https://localhost:8080/"
        },
        "id": "Lp5JsM-HdeTi",
        "outputId": "424af401-6b87-447e-f91a-6eb754587d72"
      },
      "execution_count": 5,
      "outputs": [
        {
          "output_type": "stream",
          "name": "stdout",
          "text": [
            "output shape:  torch.Size([2, 4, 50257])\n"
          ]
        },
        {
          "output_type": "execute_result",
          "data": {
            "text/plain": [
              "tensor([[[-0.4087, -1.2679,  0.3791,  ...,  0.2964,  0.7493,  0.3239],\n",
              "         [-0.2316,  0.2405, -0.4450,  ...,  0.3991,  0.0026,  0.1075],\n",
              "         [-0.0059,  0.2291, -0.9134,  ..., -1.7940, -0.0074, -0.3314],\n",
              "         [ 1.5600, -0.6588,  0.6326,  ..., -0.5926, -0.8299,  2.0698]],\n",
              "\n",
              "        [[-0.8229, -1.3703,  0.1186,  ...,  0.2430,  0.7330,  0.2529],\n",
              "         [-0.7035, -0.2469, -0.4727,  ...,  0.0581,  0.4801,  0.4443],\n",
              "         [ 0.6955, -0.2896,  0.0219,  ..., -1.2846,  0.4151, -0.0240],\n",
              "         [ 0.5667, -0.1500, -0.0109,  ..., -1.5656, -1.3297,  2.0111]]],\n",
              "       grad_fn=<UnsafeViewBackward0>)"
            ]
          },
          "metadata": {},
          "execution_count": 5
        }
      ]
    },
    {
      "cell_type": "markdown",
      "source": [
        "# Implement LayerNorm"
      ],
      "metadata": {
        "id": "ev8RMHLOeZgE"
      }
    },
    {
      "cell_type": "markdown",
      "source": [
        "Let's experiment:"
      ],
      "metadata": {
        "id": "eAddun8Gepo-"
      }
    },
    {
      "cell_type": "code",
      "source": [
        "# example setup\n",
        "torch.manual_seed(211)\n",
        "\n",
        "# create 3 training examples with 5 dimensions each\n",
        "batch_example = torch.randn(3, 5)\n",
        "\n",
        "layer = nn.Sequential(nn.Linear(5, 7),\n",
        "                      nn.ReLU())\n",
        "\n",
        "output = layer(batch_example)\n",
        "output"
      ],
      "metadata": {
        "colab": {
          "base_uri": "https://localhost:8080/"
        },
        "id": "dPOnv_4vd7ja",
        "outputId": "b287b578-b8b5-4431-ea99-892afcc3ca9e"
      },
      "execution_count": 6,
      "outputs": [
        {
          "output_type": "execute_result",
          "data": {
            "text/plain": [
              "tensor([[1.0540, 0.2893, 0.0442, 0.0000, 0.0000, 0.0000, 0.0000],\n",
              "        [0.8197, 0.1849, 0.1102, 1.7938, 0.3290, 1.2042, 0.0000],\n",
              "        [0.3081, 0.1382, 0.2541, 0.0000, 0.5109, 0.0000, 0.0000]],\n",
              "       grad_fn=<ReluBackward0>)"
            ]
          },
          "metadata": {},
          "execution_count": 6
        }
      ]
    },
    {
      "cell_type": "code",
      "source": [
        "# compute mean and variance of each sample\n",
        "mean = output.mean(dim=-1, keepdim=True)\n",
        "var = output.var(dim=-1, keepdim=True)\n",
        "print(\"mean: \", mean)\n",
        "print(\"variance: \", var)"
      ],
      "metadata": {
        "colab": {
          "base_uri": "https://localhost:8080/"
        },
        "id": "tp4IIwPjfX6W",
        "outputId": "23af507d-4356-45d3-c4d3-654dabe402b4"
      },
      "execution_count": 7,
      "outputs": [
        {
          "output_type": "stream",
          "name": "stdout",
          "text": [
            "mean:  tensor([[0.1982],\n",
            "        [0.6345],\n",
            "        [0.1730]], grad_fn=<MeanBackward1>)\n",
            "variance:  tensor([[0.1536],\n",
            "        [0.4460],\n",
            "        [0.0383]], grad_fn=<VarBackward0>)\n"
          ]
        }
      ]
    },
    {
      "cell_type": "markdown",
      "source": [
        "Let's normalize (aka layer normalization) the output:"
      ],
      "metadata": {
        "id": "0-rhSYgqf-jy"
      }
    },
    {
      "cell_type": "code",
      "source": [
        "norm_output = (output - mean) / torch.sqrt(var)\n",
        "norm_mean = norm_output.mean(dim=-1, keepdim=True)\n",
        "norm_var = norm_output.var(dim=-1, keepdim=True)\n",
        "\n",
        "torch.set_printoptions(sci_mode=False)\n",
        "print(\"normalized mean: \\n\", norm_mean)\n",
        "print(\"normalized variance: \\n\", norm_var)\n",
        "print(\"normalized layer output: \\n\", norm_output)"
      ],
      "metadata": {
        "colab": {
          "base_uri": "https://localhost:8080/"
        },
        "id": "HLKzU-Jsf1w_",
        "outputId": "2b5b033c-2f85-4afd-dd15-f271a61142be"
      },
      "execution_count": 8,
      "outputs": [
        {
          "output_type": "stream",
          "name": "stdout",
          "text": [
            "normalized mean: \n",
            " tensor([[     0.0000],\n",
            "        [     0.0000],\n",
            "        [    -0.0000]], grad_fn=<MeanBackward1>)\n",
            "normalized variance: \n",
            " tensor([[1.0000],\n",
            "        [1.0000],\n",
            "        [1.0000]], grad_fn=<VarBackward0>)\n",
            "normalized layer output: \n",
            " tensor([[ 2.1836,  0.2324, -0.3930, -0.5058, -0.5058, -0.5058, -0.5058],\n",
            "        [ 0.2772, -0.6733, -0.7852,  1.7360, -0.4575,  0.8530, -0.9502],\n",
            "        [ 0.6897, -0.1777,  0.4139, -0.8838,  1.7256, -0.8838, -0.8838]],\n",
            "       grad_fn=<DivBackward0>)\n"
          ]
        }
      ]
    },
    {
      "cell_type": "markdown",
      "source": [
        "## Implement LayerNorm class"
      ],
      "metadata": {
        "id": "zAaAVob4hk33"
      }
    },
    {
      "cell_type": "code",
      "source": [
        "class LayerNorm(nn.Module):\n",
        "  def __init__(self, emb_dim):\n",
        "    super().__init__()\n",
        "    self.epsilon = 1e-5\n",
        "    self.scale = nn.Parameter(torch.ones(emb_dim))\n",
        "    self.shift = nn.Parameter(torch.zeros(emb_dim))\n",
        "\n",
        "  def forward(self, x):\n",
        "    mean = x.mean(dim=-1, keepdim=True)\n",
        "    var = x.var(dim=-1,\n",
        "                unbiased=False, # Bessel's correction (n-1)\n",
        "                keepdim=True)\n",
        "    norm_x = (x - mean) / torch.sqrt(var + self.epsilon)\n",
        "    return self.scale * norm_x + self.shift"
      ],
      "metadata": {
        "id": "SuIWCiaHgYnF"
      },
      "execution_count": 9,
      "outputs": []
    },
    {
      "cell_type": "code",
      "source": [
        "# setup example\n",
        "layer_norm = LayerNorm(emb_dim=5)\n",
        "layer_norm_output = layer_norm(batch_example)\n",
        "mean = layer_norm_output.mean(dim=-1, keepdim=True)\n",
        "var = layer_norm_output.var(dim=-1, unbiased=False, keepdim=True)\n",
        "\n",
        "print(\"normalized mean: \\n\", mean)\n",
        "print(\"normalized variance: \\n\", var)"
      ],
      "metadata": {
        "colab": {
          "base_uri": "https://localhost:8080/"
        },
        "id": "G5HDk-driSaW",
        "outputId": "10a2c1fb-4c56-47d6-cbe8-9ba99ad0f34c"
      },
      "execution_count": 10,
      "outputs": [
        {
          "output_type": "stream",
          "name": "stdout",
          "text": [
            "normalized mean: \n",
            " tensor([[    -0.0000],\n",
            "        [    -0.0000],\n",
            "        [    -0.0000]], grad_fn=<MeanBackward1>)\n",
            "normalized variance: \n",
            " tensor([[1.0000],\n",
            "        [1.0000],\n",
            "        [0.9999]], grad_fn=<VarBackward0>)\n"
          ]
        }
      ]
    },
    {
      "cell_type": "markdown",
      "source": [
        "# Implement a FFN With GELU Activations"
      ],
      "metadata": {
        "id": "yVz_hlRtjOpm"
      }
    },
    {
      "cell_type": "code",
      "source": [
        "# GELU activation function\n",
        "class GELU(nn.Module):\n",
        "  def __init__(self):\n",
        "    super().__init__()\n",
        "\n",
        "  def forward(self, x):\n",
        "    return 0.5 * x * ( 1 + torch.tanh(\n",
        "        torch.sqrt(torch.tensor(2.0 / torch.pi)) *\n",
        "        (x + 0.044715 * torch.pow(x, 3))\n",
        "        ))"
      ],
      "metadata": {
        "id": "GC3RkaKBjF-h"
      },
      "execution_count": 11,
      "outputs": []
    },
    {
      "cell_type": "code",
      "source": [
        "# plot GELU\n",
        "import matplotlib.pyplot as plt\n",
        "\n",
        "gelu = GELU()\n",
        "x = torch.linspace(-5, 5, 100)\n",
        "plt.plot(x, gelu(x))\n",
        "plt.title(\"GELU Activation Function\")\n",
        "plt.xlabel(\"x\")\n",
        "plt.ylabel(\"GELU(x)\")\n",
        "plt.grid()\n",
        "plt.tight_layout()\n",
        "plt.show()"
      ],
      "metadata": {
        "colab": {
          "base_uri": "https://localhost:8080/",
          "height": 487
        },
        "id": "gki8bcEDkhyA",
        "outputId": "e9fd7bbf-c850-4603-f130-0f03e02bdb73"
      },
      "execution_count": 12,
      "outputs": [
        {
          "output_type": "display_data",
          "data": {
            "text/plain": [
              "<Figure size 640x480 with 1 Axes>"
            ],
            "image/png": "[encoded data removed]"
          },
          "metadata": {}
        }
      ]
    },
    {
      "cell_type": "code",
      "source": [
        "# FFN module\n",
        "class FeedForward(nn.Module):\n",
        "  def __init__(self, config):\n",
        "    super().__init__()\n",
        "    self.layers = nn.Sequential(\n",
        "        nn.Linear(config[\"emb_dim\"],       # 768\n",
        "                  4 * config[\"emb_dim\"]),  # 3072\n",
        "        GELU(),                            # 3072\n",
        "        nn.Linear(4 * config[\"emb_dim\"],   # 3072\n",
        "                  config[\"emb_dim\"])       # 768\n",
        "        )\n",
        "\n",
        "  def forward(self, x):\n",
        "    return self.layers(x)"
      ],
      "metadata": {
        "id": "_xn7uy_TkuEH"
      },
      "execution_count": 13,
      "outputs": []
    },
    {
      "cell_type": "code",
      "source": [
        "# create an instance\n",
        "ffn = FeedForward(GPT_CONFIG_124M)\n",
        "x = torch.randn(3, 5, 768)\n",
        "output = ffn(x)\n",
        "output.shape"
      ],
      "metadata": {
        "colab": {
          "base_uri": "https://localhost:8080/"
        },
        "id": "kEnDAqRYlp07",
        "outputId": "a1334c04-c018-4419-dd17-52768d305e62"
      },
      "execution_count": 14,
      "outputs": [
        {
          "output_type": "execute_result",
          "data": {
            "text/plain": [
              "torch.Size([3, 5, 768])"
            ]
          },
          "metadata": {},
          "execution_count": 14
        }
      ]
    },
    {
      "cell_type": "markdown",
      "source": [
        "# Add Skip Connections"
      ],
      "metadata": {
        "id": "evrJcgC5m2Qm"
      }
    },
    {
      "cell_type": "markdown",
      "source": [
        "Let's make an example nn to show how skip connection affect learning ability of a model:"
      ],
      "metadata": {
        "id": "_HknY1CGnoKn"
      }
    },
    {
      "cell_type": "code",
      "source": [
        "class ExampleDeepNN(nn.Module):\n",
        "  def __init__(self, layer_sizes_list, use_skip_connection):\n",
        "    super().__init__()\n",
        "    self.use_skip_connection = use_skip_connection\n",
        "    self.layers = nn.ModuleList([\n",
        "            nn.Sequential(nn.Linear(layer_sizes[0], layer_sizes[1]), GELU()),\n",
        "            nn.Sequential(nn.Linear(layer_sizes[1], layer_sizes[2]), GELU()),\n",
        "            nn.Sequential(nn.Linear(layer_sizes[2], layer_sizes[3]), GELU()),\n",
        "            nn.Sequential(nn.Linear(layer_sizes[3], layer_sizes[4]), GELU()),\n",
        "            nn.Sequential(nn.Linear(layer_sizes[4], layer_sizes[5]), GELU())\n",
        "    ])\n",
        "\n",
        "  def forward(self, x):\n",
        "    for layer in self.layers:\n",
        "      # Compute the output of the current layer\n",
        "      layer_output = layer(x)\n",
        "      # Check if skip_connection can be applied\n",
        "      if self.use_skip_connection and x.shape == layer_output.shape:\n",
        "        x = x + layer_output\n",
        "      else:\n",
        "        x = layer_output\n",
        "    return x\n",
        "\n",
        "\n",
        "def print_gradients(model, x):\n",
        "    # forward pass\n",
        "    output = model(x)\n",
        "    target = torch.tensor([[0.]])\n",
        "\n",
        "    # calculate loss\n",
        "    loss = nn.MSELoss()\n",
        "    loss = loss(output, target)\n",
        "\n",
        "    # calculate the gradients\n",
        "    loss.backward()\n",
        "\n",
        "    for name, param in model.named_parameters():\n",
        "        if 'weight' in name:\n",
        "            # Print the mean absolute gradient of the weights\n",
        "            print(f\"{name} has gradient mean of {param.grad.abs().mean().item()}\")"
      ],
      "metadata": {
        "id": "6V6_1LmXmaXy"
      },
      "execution_count": 15,
      "outputs": []
    },
    {
      "cell_type": "code",
      "source": [
        "# example setup\n",
        "layer_sizes = [4, 4, 4, 4, 4, 1]\n",
        "sample_input = torch.tensor([[1., 0., -1., 1]])"
      ],
      "metadata": {
        "id": "_AqGy8QAo0qG"
      },
      "execution_count": 16,
      "outputs": []
    },
    {
      "cell_type": "code",
      "source": [
        "# without skip connection\n",
        "torch.manual_seed(211)\n",
        "model_wo_skip_connection = ExampleDeepNN(\n",
        "    layer_sizes, use_skip_connection=False\n",
        ")\n",
        "print_gradients(model_wo_skip_connection, sample_input)"
      ],
      "metadata": {
        "colab": {
          "base_uri": "https://localhost:8080/"
        },
        "id": "2I3YVLfqqFW6",
        "outputId": "2cf7da8d-0ae0-465d-b47e-1174712446c7"
      },
      "execution_count": 17,
      "outputs": [
        {
          "output_type": "stream",
          "name": "stdout",
          "text": [
            "layers.0.0.weight has gradient mean of 0.0001875293382909149\n",
            "layers.1.0.weight has gradient mean of 0.00015768714365549386\n",
            "layers.2.0.weight has gradient mean of 0.0004450336564332247\n",
            "layers.3.0.weight has gradient mean of 0.0012923781760036945\n",
            "layers.4.0.weight has gradient mean of 0.01807313971221447\n"
          ]
        }
      ]
    },
    {
      "cell_type": "code",
      "source": [
        "# with skip connection\n",
        "torch.manual_seed(211)\n",
        "model_w_skip_connection = ExampleDeepNN(\n",
        "    layer_sizes, use_skip_connection=True\n",
        ")\n",
        "print_gradients(model_w_skip_connection, sample_input)"
      ],
      "metadata": {
        "colab": {
          "base_uri": "https://localhost:8080/"
        },
        "id": "2SbMjIG0pj1M",
        "outputId": "ca50dc43-1674-4d78-9cde-d511b3158bfa"
      },
      "execution_count": 18,
      "outputs": [
        {
          "output_type": "stream",
          "name": "stdout",
          "text": [
            "layers.0.0.weight has gradient mean of 0.6975078582763672\n",
            "layers.1.0.weight has gradient mean of 0.6017700433731079\n",
            "layers.2.0.weight has gradient mean of 0.6710034012794495\n",
            "layers.3.0.weight has gradient mean of 0.4883677363395691\n",
            "layers.4.0.weight has gradient mean of 4.474058151245117\n"
          ]
        }
      ]
    },
    {
      "cell_type": "markdown",
      "source": [
        "# Implement Transformer Block"
      ],
      "metadata": {
        "id": "lio4bauuJlLx"
      }
    },
    {
      "cell_type": "code",
      "source": [
        "# from google.colab import files\n",
        "# uploaded = files.upload()"
      ],
      "metadata": {
        "id": "bHUYqA9fqIQw"
      },
      "execution_count": 19,
      "outputs": []
    },
    {
      "cell_type": "code",
      "source": [
        "from ch03 import MultiHeadAttention\n",
        "\n",
        "class TransformerBlock(nn.Module):\n",
        "  def __init__(self, config):\n",
        "    super().__init__()\n",
        "    self.attention = MultiHeadAttention(input_embedding_dim=config[\"emb_dim\"],\n",
        "                                        output_embedding_dim=config[\"emb_dim\"],\n",
        "                                        context_length=config[\"context_length\"],\n",
        "                                        dropout=config[\"drop_rate\"],\n",
        "                                        num_heads=config[\"n_heads\"],\n",
        "                                        qkv_bias=config[\"qkv_bias\"])\n",
        "    self.feed_forward = FeedForward(config)\n",
        "    self.layer_norm1 = LayerNorm(config[\"emb_dim\"])\n",
        "    self.layer_norm2 = LayerNorm(config[\"emb_dim\"])\n",
        "    self.drop_skip = nn.Dropout(config[\"drop_rate\"])\n",
        "\n",
        "  def forward(self, x):\n",
        "    # skip connection for attention block\n",
        "    shortcut = x\n",
        "    x = self.layer_norm1(x)\n",
        "    x = self.attention(x)  # shape: [batch_size, num_tokens, emb_size]\n",
        "    x = self.drop_skip(x)\n",
        "    x = shortcut + x # skip connection\n",
        "\n",
        "    # skip connection for feed forward block\n",
        "    shortcut = x\n",
        "    x = self.layer_norm2(x)\n",
        "    x = self.feed_forward(x)\n",
        "    x = self.drop_skip(x)\n",
        "    x = shortcut + x # skip connection\n",
        "\n",
        "    return x"
      ],
      "metadata": {
        "id": "MsRjs-REAsmb"
      },
      "execution_count": 20,
      "outputs": []
    },
    {
      "cell_type": "code",
      "source": [
        "# create an instance\n",
        "torch.manual_seed(211)\n",
        "x = torch.rand(3, 5, 768) # shape: [batch_size, num_tokens, emb_size]\n",
        "transformer_block = TransformerBlock(GPT_CONFIG_124M)\n",
        "output = transformer_block(x)\n",
        "\n",
        "print(\"input shape: \", x.shape)\n",
        "print(\"output shape: \", output.shape)"
      ],
      "metadata": {
        "colab": {
          "base_uri": "https://localhost:8080/"
        },
        "id": "vuhrbmnqEEJ3",
        "outputId": "ada95525-73eb-4c3a-eed0-a85c0494ff34"
      },
      "execution_count": 21,
      "outputs": [
        {
          "output_type": "stream",
          "name": "stdout",
          "text": [
            "input shape:  torch.Size([3, 5, 768])\n",
            "output shape:  torch.Size([3, 5, 768])\n"
          ]
        }
      ]
    },
    {
      "cell_type": "markdown",
      "source": [
        "# Implement The GPT2 Model"
      ],
      "metadata": {
        "id": "j7AdBXBoLrL2"
      }
    },
    {
      "cell_type": "code",
      "source": [
        "class GPT2Model(nn.Module):\n",
        "  def __init__(self, config):\n",
        "    super().__init__()\n",
        "    self.token_emb = nn.Embedding(config[\"vocab_size\"],\n",
        "                                  config[\"emb_dim\"])\n",
        "    self.position_emb = nn.Embedding(config[\"context_length\"],\n",
        "                                     config[\"emb_dim\"])\n",
        "    self.drop_emb = nn.Dropout(config[\"drop_rate\"])\n",
        "\n",
        "    self.transformer_blocks = nn.Sequential(\n",
        "        *[TransformerBlock(config) for _ in range(config[\"n_layers\"])])\n",
        "\n",
        "    self.final_norm = LayerNorm(config[\"emb_dim\"])\n",
        "\n",
        "    self.out_head = nn.Linear(config[\"emb_dim\"],\n",
        "                              config[\"vocab_size\"],\n",
        "                              bias=False)\n",
        "\n",
        "  def forward(self, input_token):\n",
        "    batch_size, sequence_length = input_token.shape\n",
        "    token_embeds = self.token_emb(input_token)\n",
        "    position_embeds = self.position_emb(\n",
        "        torch.arange(sequence_length,\n",
        "                     device=input_token.device))\n",
        "    embeds = token_embeds + position_embeds\n",
        "    x = self.drop_emb(embeds)\n",
        "    x = self.transformer_blocks(x)\n",
        "    x = self.final_norm(x)\n",
        "    logits = self.out_head(x)\n",
        "    return logits"
      ],
      "metadata": {
        "id": "iLo0pRoWG3NM"
      },
      "execution_count": 22,
      "outputs": []
    },
    {
      "cell_type": "code",
      "source": [
        "# create an instance\n",
        "torch.manual_seed(211)\n",
        "model = GPT2Model(GPT_CONFIG_124M)\n",
        "\n",
        "logits = model(batch)\n",
        "print(\"input batch: \\n\", batch)\n",
        "print(\"output shape: \", logits.shape)\n",
        "logits"
      ],
      "metadata": {
        "colab": {
          "base_uri": "https://localhost:8080/"
        },
        "id": "9IfWhCzxMjLf",
        "outputId": "e12d2df1-f12d-454c-ed64-d117046ddfe1"
      },
      "execution_count": 23,
      "outputs": [
        {
          "output_type": "stream",
          "name": "stdout",
          "text": [
            "input batch: \n",
            " tensor([[6109, 3626, 6100,  345],\n",
            "        [6109, 1110, 6622,  257]])\n",
            "output shape:  torch.Size([2, 4, 50257])\n"
          ]
        },
        {
          "output_type": "execute_result",
          "data": {
            "text/plain": [
              "tensor([[[ 0.1543,  0.2344, -0.8564,  ..., -0.2881,  0.2903,  0.1609],\n",
              "         [-0.3195,  0.1662, -1.0898,  ..., -0.3479,  0.1823, -0.1557],\n",
              "         [-0.3561, -1.0340, -1.0551,  ...,  0.0591, -0.5454, -0.2428],\n",
              "         [-0.3049, -0.2747, -0.7511,  ..., -0.3644,  0.7971,  1.3598]],\n",
              "\n",
              "        [[ 0.5644,  0.4271, -0.6928,  ...,  0.1898,  0.2794,  0.3338],\n",
              "         [ 0.1548,  1.1717, -1.0100,  ..., -0.1034,  0.4662, -0.0544],\n",
              "         [-0.1585,  0.4482, -0.4226,  ...,  0.6623,  0.0827, -0.5258],\n",
              "         [-0.0396, -0.0070, -1.1453,  ...,  0.2888,  0.4412, -0.0258]]],\n",
              "       grad_fn=<UnsafeViewBackward0>)"
            ]
          },
          "metadata": {},
          "execution_count": 23
        }
      ]
    },
    {
      "cell_type": "markdown",
      "source": [
        "Let's explore the model:"
      ],
      "metadata": {
        "id": "tSSvAdQEOCHw"
      }
    },
    {
      "cell_type": "code",
      "source": [
        "for name, param in model.named_parameters():\n",
        "    print(f\"{name}: {param.shape}\")\n",
        "    #print(f\"{name}:\\n{param}\\n\")"
      ],
      "metadata": {
        "colab": {
          "base_uri": "https://localhost:8080/"
        },
        "id": "UbmO5jwUNvkL",
        "outputId": "5f51042f-14b7-4605-d9fd-f2903a351dba"
      },
      "execution_count": 24,
      "outputs": [
        {
          "output_type": "stream",
          "name": "stdout",
          "text": [
            "token_emb.weight: torch.Size([50257, 768])\n",
            "position_emb.weight: torch.Size([1024, 768])\n",
            "transformer_blocks.0.attention.W_query.weight: torch.Size([768, 768])\n",
            "transformer_blocks.0.attention.W_key.weight: torch.Size([768, 768])\n",
            "transformer_blocks.0.attention.W_value.weight: torch.Size([768, 768])\n",
            "transformer_blocks.0.attention.output_projection.weight: torch.Size([768, 768])\n",
            "transformer_blocks.0.attention.output_projection.bias: torch.Size([768])\n",
            "transformer_blocks.0.feed_forward.layers.0.weight: torch.Size([3072, 768])\n",
            "transformer_blocks.0.feed_forward.layers.0.bias: torch.Size([3072])\n",
            "transformer_blocks.0.feed_forward.layers.2.weight: torch.Size([768, 3072])\n",
            "transformer_blocks.0.feed_forward.layers.2.bias: torch.Size([768])\n",
            "transformer_blocks.0.layer_norm1.scale: torch.Size([768])\n",
            "transformer_blocks.0.layer_norm1.shift: torch.Size([768])\n",
            "transformer_blocks.0.layer_norm2.scale: torch.Size([768])\n",
            "transformer_blocks.0.layer_norm2.shift: torch.Size([768])\n",
            "transformer_blocks.1.attention.W_query.weight: torch.Size([768, 768])\n",
            "transformer_blocks.1.attention.W_key.weight: torch.Size([768, 768])\n",
            "transformer_blocks.1.attention.W_value.weight: torch.Size([768, 768])\n",
            "transformer_blocks.1.attention.output_projection.weight: torch.Size([768, 768])\n",
            "transformer_blocks.1.attention.output_projection.bias: torch.Size([768])\n",
            "transformer_blocks.1.feed_forward.layers.0.weight: torch.Size([3072, 768])\n",
            "transformer_blocks.1.feed_forward.layers.0.bias: torch.Size([3072])\n",
            "transformer_blocks.1.feed_forward.layers.2.weight: torch.Size([768, 3072])\n",
            "transformer_blocks.1.feed_forward.layers.2.bias: torch.Size([768])\n",
            "transformer_blocks.1.layer_norm1.scale: torch.Size([768])\n",
            "transformer_blocks.1.layer_norm1.shift: torch.Size([768])\n",
            "transformer_blocks.1.layer_norm2.scale: torch.Size([768])\n",
            "transformer_blocks.1.layer_norm2.shift: torch.Size([768])\n",
            "transformer_blocks.2.attention.W_query.weight: torch.Size([768, 768])\n",
            "transformer_blocks.2.attention.W_key.weight: torch.Size([768, 768])\n",
            "transformer_blocks.2.attention.W_value.weight: torch.Size([768, 768])\n",
            "transformer_blocks.2.attention.output_projection.weight: torch.Size([768, 768])\n",
            "transformer_blocks.2.attention.output_projection.bias: torch.Size([768])\n",
            "transformer_blocks.2.feed_forward.layers.0.weight: torch.Size([3072, 768])\n",
            "transformer_blocks.2.feed_forward.layers.0.bias: torch.Size([3072])\n",
            "transformer_blocks.2.feed_forward.layers.2.weight: torch.Size([768, 3072])\n",
            "transformer_blocks.2.feed_forward.layers.2.bias: torch.Size([768])\n",
            "transformer_blocks.2.layer_norm1.scale: torch.Size([768])\n",
            "transformer_blocks.2.layer_norm1.shift: torch.Size([768])\n",
            "transformer_blocks.2.layer_norm2.scale: torch.Size([768])\n",
            "transformer_blocks.2.layer_norm2.shift: torch.Size([768])\n",
            "transformer_blocks.3.attention.W_query.weight: torch.Size([768, 768])\n",
            "transformer_blocks.3.attention.W_key.weight: torch.Size([768, 768])\n",
            "transformer_blocks.3.attention.W_value.weight: torch.Size([768, 768])\n",
            "transformer_blocks.3.attention.output_projection.weight: torch.Size([768, 768])\n",
            "transformer_blocks.3.attention.output_projection.bias: torch.Size([768])\n",
            "transformer_blocks.3.feed_forward.layers.0.weight: torch.Size([3072, 768])\n",
            "transformer_blocks.3.feed_forward.layers.0.bias: torch.Size([3072])\n",
            "transformer_blocks.3.feed_forward.layers.2.weight: torch.Size([768, 3072])\n",
            "transformer_blocks.3.feed_forward.layers.2.bias: torch.Size([768])\n",
            "transformer_blocks.3.layer_norm1.scale: torch.Size([768])\n",
            "transformer_blocks.3.layer_norm1.shift: torch.Size([768])\n",
            "transformer_blocks.3.layer_norm2.scale: torch.Size([768])\n",
            "transformer_blocks.3.layer_norm2.shift: torch.Size([768])\n",
            "transformer_blocks.4.attention.W_query.weight: torch.Size([768, 768])\n",
            "transformer_blocks.4.attention.W_key.weight: torch.Size([768, 768])\n",
            "transformer_blocks.4.attention.W_value.weight: torch.Size([768, 768])\n",
            "transformer_blocks.4.attention.output_projection.weight: torch.Size([768, 768])\n",
            "transformer_blocks.4.attention.output_projection.bias: torch.Size([768])\n",
            "transformer_blocks.4.feed_forward.layers.0.weight: torch.Size([3072, 768])\n",
            "transformer_blocks.4.feed_forward.layers.0.bias: torch.Size([3072])\n",
            "transformer_blocks.4.feed_forward.layers.2.weight: torch.Size([768, 3072])\n",
            "transformer_blocks.4.feed_forward.layers.2.bias: torch.Size([768])\n",
            "transformer_blocks.4.layer_norm1.scale: torch.Size([768])\n",
            "transformer_blocks.4.layer_norm1.shift: torch.Size([768])\n",
            "transformer_blocks.4.layer_norm2.scale: torch.Size([768])\n",
            "transformer_blocks.4.layer_norm2.shift: torch.Size([768])\n",
            "transformer_blocks.5.attention.W_query.weight: torch.Size([768, 768])\n",
            "transformer_blocks.5.attention.W_key.weight: torch.Size([768, 768])\n",
            "transformer_blocks.5.attention.W_value.weight: torch.Size([768, 768])\n",
            "transformer_blocks.5.attention.output_projection.weight: torch.Size([768, 768])\n",
            "transformer_blocks.5.attention.output_projection.bias: torch.Size([768])\n",
            "transformer_blocks.5.feed_forward.layers.0.weight: torch.Size([3072, 768])\n",
            "transformer_blocks.5.feed_forward.layers.0.bias: torch.Size([3072])\n",
            "transformer_blocks.5.feed_forward.layers.2.weight: torch.Size([768, 3072])\n",
            "transformer_blocks.5.feed_forward.layers.2.bias: torch.Size([768])\n",
            "transformer_blocks.5.layer_norm1.scale: torch.Size([768])\n",
            "transformer_blocks.5.layer_norm1.shift: torch.Size([768])\n",
            "transformer_blocks.5.layer_norm2.scale: torch.Size([768])\n",
            "transformer_blocks.5.layer_norm2.shift: torch.Size([768])\n",
            "transformer_blocks.6.attention.W_query.weight: torch.Size([768, 768])\n",
            "transformer_blocks.6.attention.W_key.weight: torch.Size([768, 768])\n",
            "transformer_blocks.6.attention.W_value.weight: torch.Size([768, 768])\n",
            "transformer_blocks.6.attention.output_projection.weight: torch.Size([768, 768])\n",
            "transformer_blocks.6.attention.output_projection.bias: torch.Size([768])\n",
            "transformer_blocks.6.feed_forward.layers.0.weight: torch.Size([3072, 768])\n",
            "transformer_blocks.6.feed_forward.layers.0.bias: torch.Size([3072])\n",
            "transformer_blocks.6.feed_forward.layers.2.weight: torch.Size([768, 3072])\n",
            "transformer_blocks.6.feed_forward.layers.2.bias: torch.Size([768])\n",
            "transformer_blocks.6.layer_norm1.scale: torch.Size([768])\n",
            "transformer_blocks.6.layer_norm1.shift: torch.Size([768])\n",
            "transformer_blocks.6.layer_norm2.scale: torch.Size([768])\n",
            "transformer_blocks.6.layer_norm2.shift: torch.Size([768])\n",
            "transformer_blocks.7.attention.W_query.weight: torch.Size([768, 768])\n",
            "transformer_blocks.7.attention.W_key.weight: torch.Size([768, 768])\n",
            "transformer_blocks.7.attention.W_value.weight: torch.Size([768, 768])\n",
            "transformer_blocks.7.attention.output_projection.weight: torch.Size([768, 768])\n",
            "transformer_blocks.7.attention.output_projection.bias: torch.Size([768])\n",
            "transformer_blocks.7.feed_forward.layers.0.weight: torch.Size([3072, 768])\n",
            "transformer_blocks.7.feed_forward.layers.0.bias: torch.Size([3072])\n",
            "transformer_blocks.7.feed_forward.layers.2.weight: torch.Size([768, 3072])\n",
            "transformer_blocks.7.feed_forward.layers.2.bias: torch.Size([768])\n",
            "transformer_blocks.7.layer_norm1.scale: torch.Size([768])\n",
            "transformer_blocks.7.layer_norm1.shift: torch.Size([768])\n",
            "transformer_blocks.7.layer_norm2.scale: torch.Size([768])\n",
            "transformer_blocks.7.layer_norm2.shift: torch.Size([768])\n",
            "transformer_blocks.8.attention.W_query.weight: torch.Size([768, 768])\n",
            "transformer_blocks.8.attention.W_key.weight: torch.Size([768, 768])\n",
            "transformer_blocks.8.attention.W_value.weight: torch.Size([768, 768])\n",
            "transformer_blocks.8.attention.output_projection.weight: torch.Size([768, 768])\n",
            "transformer_blocks.8.attention.output_projection.bias: torch.Size([768])\n",
            "transformer_blocks.8.feed_forward.layers.0.weight: torch.Size([3072, 768])\n",
            "transformer_blocks.8.feed_forward.layers.0.bias: torch.Size([3072])\n",
            "transformer_blocks.8.feed_forward.layers.2.weight: torch.Size([768, 3072])\n",
            "transformer_blocks.8.feed_forward.layers.2.bias: torch.Size([768])\n",
            "transformer_blocks.8.layer_norm1.scale: torch.Size([768])\n",
            "transformer_blocks.8.layer_norm1.shift: torch.Size([768])\n",
            "transformer_blocks.8.layer_norm2.scale: torch.Size([768])\n",
            "transformer_blocks.8.layer_norm2.shift: torch.Size([768])\n",
            "transformer_blocks.9.attention.W_query.weight: torch.Size([768, 768])\n",
            "transformer_blocks.9.attention.W_key.weight: torch.Size([768, 768])\n",
            "transformer_blocks.9.attention.W_value.weight: torch.Size([768, 768])\n",
            "transformer_blocks.9.attention.output_projection.weight: torch.Size([768, 768])\n",
            "transformer_blocks.9.attention.output_projection.bias: torch.Size([768])\n",
            "transformer_blocks.9.feed_forward.layers.0.weight: torch.Size([3072, 768])\n",
            "transformer_blocks.9.feed_forward.layers.0.bias: torch.Size([3072])\n",
            "transformer_blocks.9.feed_forward.layers.2.weight: torch.Size([768, 3072])\n",
            "transformer_blocks.9.feed_forward.layers.2.bias: torch.Size([768])\n",
            "transformer_blocks.9.layer_norm1.scale: torch.Size([768])\n",
            "transformer_blocks.9.layer_norm1.shift: torch.Size([768])\n",
            "transformer_blocks.9.layer_norm2.scale: torch.Size([768])\n",
            "transformer_blocks.9.layer_norm2.shift: torch.Size([768])\n",
            "transformer_blocks.10.attention.W_query.weight: torch.Size([768, 768])\n",
            "transformer_blocks.10.attention.W_key.weight: torch.Size([768, 768])\n",
            "transformer_blocks.10.attention.W_value.weight: torch.Size([768, 768])\n",
            "transformer_blocks.10.attention.output_projection.weight: torch.Size([768, 768])\n",
            "transformer_blocks.10.attention.output_projection.bias: torch.Size([768])\n",
            "transformer_blocks.10.feed_forward.layers.0.weight: torch.Size([3072, 768])\n",
            "transformer_blocks.10.feed_forward.layers.0.bias: torch.Size([3072])\n",
            "transformer_blocks.10.feed_forward.layers.2.weight: torch.Size([768, 3072])\n",
            "transformer_blocks.10.feed_forward.layers.2.bias: torch.Size([768])\n",
            "transformer_blocks.10.layer_norm1.scale: torch.Size([768])\n",
            "transformer_blocks.10.layer_norm1.shift: torch.Size([768])\n",
            "transformer_blocks.10.layer_norm2.scale: torch.Size([768])\n",
            "transformer_blocks.10.layer_norm2.shift: torch.Size([768])\n",
            "transformer_blocks.11.attention.W_query.weight: torch.Size([768, 768])\n",
            "transformer_blocks.11.attention.W_key.weight: torch.Size([768, 768])\n",
            "transformer_blocks.11.attention.W_value.weight: torch.Size([768, 768])\n",
            "transformer_blocks.11.attention.output_projection.weight: torch.Size([768, 768])\n",
            "transformer_blocks.11.attention.output_projection.bias: torch.Size([768])\n",
            "transformer_blocks.11.feed_forward.layers.0.weight: torch.Size([3072, 768])\n",
            "transformer_blocks.11.feed_forward.layers.0.bias: torch.Size([3072])\n",
            "transformer_blocks.11.feed_forward.layers.2.weight: torch.Size([768, 3072])\n",
            "transformer_blocks.11.feed_forward.layers.2.bias: torch.Size([768])\n",
            "transformer_blocks.11.layer_norm1.scale: torch.Size([768])\n",
            "transformer_blocks.11.layer_norm1.shift: torch.Size([768])\n",
            "transformer_blocks.11.layer_norm2.scale: torch.Size([768])\n",
            "transformer_blocks.11.layer_norm2.shift: torch.Size([768])\n",
            "final_norm.scale: torch.Size([768])\n",
            "final_norm.shift: torch.Size([768])\n",
            "out_head.weight: torch.Size([50257, 768])\n"
          ]
        }
      ]
    },
    {
      "cell_type": "code",
      "source": [
        "# compute total number of params\n",
        "total_params = sum(p.numel() for p in model.parameters())\n",
        "trainable_params = sum(p.numel() for p in model.parameters()\n",
        "                        if p.requires_grad)\n",
        "print(f\"Total number of parameters: {total_params}\")\n",
        "print(f\"Total number of trainable parameters: {trainable_params}\")"
      ],
      "metadata": {
        "colab": {
          "base_uri": "https://localhost:8080/"
        },
        "id": "yhm4u5hTNVzI",
        "outputId": "a3ac346a-3dc3-42b8-bf15-d2f2b06ef79b"
      },
      "execution_count": 25,
      "outputs": [
        {
          "output_type": "stream",
          "name": "stdout",
          "text": [
            "Total number of parameters: 163009536\n",
            "Total number of trainable parameters: 163009536\n"
          ]
        }
      ]
    },
    {
      "cell_type": "code",
      "source": [
        "# can retrieve weights and layer names with state_dict()\n",
        "for name, weights in model.state_dict().items():\n",
        "    print(f\"{name} → {weights.shape}\")"
      ],
      "metadata": {
        "colab": {
          "base_uri": "https://localhost:8080/"
        },
        "id": "-leGItDQNtq4",
        "outputId": "8963cbc1-0f57-49b2-8d24-953c77ddd7b8"
      },
      "execution_count": 26,
      "outputs": [
        {
          "output_type": "stream",
          "name": "stdout",
          "text": [
            "token_emb.weight → torch.Size([50257, 768])\n",
            "position_emb.weight → torch.Size([1024, 768])\n",
            "transformer_blocks.0.attention.mask → torch.Size([1024, 1024])\n",
            "transformer_blocks.0.attention.W_query.weight → torch.Size([768, 768])\n",
            "transformer_blocks.0.attention.W_key.weight → torch.Size([768, 768])\n",
            "transformer_blocks.0.attention.W_value.weight → torch.Size([768, 768])\n",
            "transformer_blocks.0.attention.output_projection.weight → torch.Size([768, 768])\n",
            "transformer_blocks.0.attention.output_projection.bias → torch.Size([768])\n",
            "transformer_blocks.0.feed_forward.layers.0.weight → torch.Size([3072, 768])\n",
            "transformer_blocks.0.feed_forward.layers.0.bias → torch.Size([3072])\n",
            "transformer_blocks.0.feed_forward.layers.2.weight → torch.Size([768, 3072])\n",
            "transformer_blocks.0.feed_forward.layers.2.bias → torch.Size([768])\n",
            "transformer_blocks.0.layer_norm1.scale → torch.Size([768])\n",
            "transformer_blocks.0.layer_norm1.shift → torch.Size([768])\n",
            "transformer_blocks.0.layer_norm2.scale → torch.Size([768])\n",
            "transformer_blocks.0.layer_norm2.shift → torch.Size([768])\n",
            "transformer_blocks.1.attention.mask → torch.Size([1024, 1024])\n",
            "transformer_blocks.1.attention.W_query.weight → torch.Size([768, 768])\n",
            "transformer_blocks.1.attention.W_key.weight → torch.Size([768, 768])\n",
            "transformer_blocks.1.attention.W_value.weight → torch.Size([768, 768])\n",
            "transformer_blocks.1.attention.output_projection.weight → torch.Size([768, 768])\n",
            "transformer_blocks.1.attention.output_projection.bias → torch.Size([768])\n",
            "transformer_blocks.1.feed_forward.layers.0.weight → torch.Size([3072, 768])\n",
            "transformer_blocks.1.feed_forward.layers.0.bias → torch.Size([3072])\n",
            "transformer_blocks.1.feed_forward.layers.2.weight → torch.Size([768, 3072])\n",
            "transformer_blocks.1.feed_forward.layers.2.bias → torch.Size([768])\n",
            "transformer_blocks.1.layer_norm1.scale → torch.Size([768])\n",
            "transformer_blocks.1.layer_norm1.shift → torch.Size([768])\n",
            "transformer_blocks.1.layer_norm2.scale → torch.Size([768])\n",
            "transformer_blocks.1.layer_norm2.shift → torch.Size([768])\n",
            "transformer_blocks.2.attention.mask → torch.Size([1024, 1024])\n",
            "transformer_blocks.2.attention.W_query.weight → torch.Size([768, 768])\n",
            "transformer_blocks.2.attention.W_key.weight → torch.Size([768, 768])\n",
            "transformer_blocks.2.attention.W_value.weight → torch.Size([768, 768])\n",
            "transformer_blocks.2.attention.output_projection.weight → torch.Size([768, 768])\n",
            "transformer_blocks.2.attention.output_projection.bias → torch.Size([768])\n",
            "transformer_blocks.2.feed_forward.layers.0.weight → torch.Size([3072, 768])\n",
            "transformer_blocks.2.feed_forward.layers.0.bias → torch.Size([3072])\n",
            "transformer_blocks.2.feed_forward.layers.2.weight → torch.Size([768, 3072])\n",
            "transformer_blocks.2.feed_forward.layers.2.bias → torch.Size([768])\n",
            "transformer_blocks.2.layer_norm1.scale → torch.Size([768])\n",
            "transformer_blocks.2.layer_norm1.shift → torch.Size([768])\n",
            "transformer_blocks.2.layer_norm2.scale → torch.Size([768])\n",
            "transformer_blocks.2.layer_norm2.shift → torch.Size([768])\n",
            "transformer_blocks.3.attention.mask → torch.Size([1024, 1024])\n",
            "transformer_blocks.3.attention.W_query.weight → torch.Size([768, 768])\n",
            "transformer_blocks.3.attention.W_key.weight → torch.Size([768, 768])\n",
            "transformer_blocks.3.attention.W_value.weight → torch.Size([768, 768])\n",
            "transformer_blocks.3.attention.output_projection.weight → torch.Size([768, 768])\n",
            "transformer_blocks.3.attention.output_projection.bias → torch.Size([768])\n",
            "transformer_blocks.3.feed_forward.layers.0.weight → torch.Size([3072, 768])\n",
            "transformer_blocks.3.feed_forward.layers.0.bias → torch.Size([3072])\n",
            "transformer_blocks.3.feed_forward.layers.2.weight → torch.Size([768, 3072])\n",
            "transformer_blocks.3.feed_forward.layers.2.bias → torch.Size([768])\n",
            "transformer_blocks.3.layer_norm1.scale → torch.Size([768])\n",
            "transformer_blocks.3.layer_norm1.shift → torch.Size([768])\n",
            "transformer_blocks.3.layer_norm2.scale → torch.Size([768])\n",
            "transformer_blocks.3.layer_norm2.shift → torch.Size([768])\n",
            "transformer_blocks.4.attention.mask → torch.Size([1024, 1024])\n",
            "transformer_blocks.4.attention.W_query.weight → torch.Size([768, 768])\n",
            "transformer_blocks.4.attention.W_key.weight → torch.Size([768, 768])\n",
            "transformer_blocks.4.attention.W_value.weight → torch.Size([768, 768])\n",
            "transformer_blocks.4.attention.output_projection.weight → torch.Size([768, 768])\n",
            "transformer_blocks.4.attention.output_projection.bias → torch.Size([768])\n",
            "transformer_blocks.4.feed_forward.layers.0.weight → torch.Size([3072, 768])\n",
            "transformer_blocks.4.feed_forward.layers.0.bias → torch.Size([3072])\n",
            "transformer_blocks.4.feed_forward.layers.2.weight → torch.Size([768, 3072])\n",
            "transformer_blocks.4.feed_forward.layers.2.bias → torch.Size([768])\n",
            "transformer_blocks.4.layer_norm1.scale → torch.Size([768])\n",
            "transformer_blocks.4.layer_norm1.shift → torch.Size([768])\n",
            "transformer_blocks.4.layer_norm2.scale → torch.Size([768])\n",
            "transformer_blocks.4.layer_norm2.shift → torch.Size([768])\n",
            "transformer_blocks.5.attention.mask → torch.Size([1024, 1024])\n",
            "transformer_blocks.5.attention.W_query.weight → torch.Size([768, 768])\n",
            "transformer_blocks.5.attention.W_key.weight → torch.Size([768, 768])\n",
            "transformer_blocks.5.attention.W_value.weight → torch.Size([768, 768])\n",
            "transformer_blocks.5.attention.output_projection.weight → torch.Size([768, 768])\n",
            "transformer_blocks.5.attention.output_projection.bias → torch.Size([768])\n",
            "transformer_blocks.5.feed_forward.layers.0.weight → torch.Size([3072, 768])\n",
            "transformer_blocks.5.feed_forward.layers.0.bias → torch.Size([3072])\n",
            "transformer_blocks.5.feed_forward.layers.2.weight → torch.Size([768, 3072])\n",
            "transformer_blocks.5.feed_forward.layers.2.bias → torch.Size([768])\n",
            "transformer_blocks.5.layer_norm1.scale → torch.Size([768])\n",
            "transformer_blocks.5.layer_norm1.shift → torch.Size([768])\n",
            "transformer_blocks.5.layer_norm2.scale → torch.Size([768])\n",
            "transformer_blocks.5.layer_norm2.shift → torch.Size([768])\n",
            "transformer_blocks.6.attention.mask → torch.Size([1024, 1024])\n",
            "transformer_blocks.6.attention.W_query.weight → torch.Size([768, 768])\n",
            "transformer_blocks.6.attention.W_key.weight → torch.Size([768, 768])\n",
            "transformer_blocks.6.attention.W_value.weight → torch.Size([768, 768])\n",
            "transformer_blocks.6.attention.output_projection.weight → torch.Size([768, 768])\n",
            "transformer_blocks.6.attention.output_projection.bias → torch.Size([768])\n",
            "transformer_blocks.6.feed_forward.layers.0.weight → torch.Size([3072, 768])\n",
            "transformer_blocks.6.feed_forward.layers.0.bias → torch.Size([3072])\n",
            "transformer_blocks.6.feed_forward.layers.2.weight → torch.Size([768, 3072])\n",
            "transformer_blocks.6.feed_forward.layers.2.bias → torch.Size([768])\n",
            "transformer_blocks.6.layer_norm1.scale → torch.Size([768])\n",
            "transformer_blocks.6.layer_norm1.shift → torch.Size([768])\n",
            "transformer_blocks.6.layer_norm2.scale → torch.Size([768])\n",
            "transformer_blocks.6.layer_norm2.shift → torch.Size([768])\n",
            "transformer_blocks.7.attention.mask → torch.Size([1024, 1024])\n",
            "transformer_blocks.7.attention.W_query.weight → torch.Size([768, 768])\n",
            "transformer_blocks.7.attention.W_key.weight → torch.Size([768, 768])\n",
            "transformer_blocks.7.attention.W_value.weight → torch.Size([768, 768])\n",
            "transformer_blocks.7.attention.output_projection.weight → torch.Size([768, 768])\n",
            "transformer_blocks.7.attention.output_projection.bias → torch.Size([768])\n",
            "transformer_blocks.7.feed_forward.layers.0.weight → torch.Size([3072, 768])\n",
            "transformer_blocks.7.feed_forward.layers.0.bias → torch.Size([3072])\n",
            "transformer_blocks.7.feed_forward.layers.2.weight → torch.Size([768, 3072])\n",
            "transformer_blocks.7.feed_forward.layers.2.bias → torch.Size([768])\n",
            "transformer_blocks.7.layer_norm1.scale → torch.Size([768])\n",
            "transformer_blocks.7.layer_norm1.shift → torch.Size([768])\n",
            "transformer_blocks.7.layer_norm2.scale → torch.Size([768])\n",
            "transformer_blocks.7.layer_norm2.shift → torch.Size([768])\n",
            "transformer_blocks.8.attention.mask → torch.Size([1024, 1024])\n",
            "transformer_blocks.8.attention.W_query.weight → torch.Size([768, 768])\n",
            "transformer_blocks.8.attention.W_key.weight → torch.Size([768, 768])\n",
            "transformer_blocks.8.attention.W_value.weight → torch.Size([768, 768])\n",
            "transformer_blocks.8.attention.output_projection.weight → torch.Size([768, 768])\n",
            "transformer_blocks.8.attention.output_projection.bias → torch.Size([768])\n",
            "transformer_blocks.8.feed_forward.layers.0.weight → torch.Size([3072, 768])\n",
            "transformer_blocks.8.feed_forward.layers.0.bias → torch.Size([3072])\n",
            "transformer_blocks.8.feed_forward.layers.2.weight → torch.Size([768, 3072])\n",
            "transformer_blocks.8.feed_forward.layers.2.bias → torch.Size([768])\n",
            "transformer_blocks.8.layer_norm1.scale → torch.Size([768])\n",
            "transformer_blocks.8.layer_norm1.shift → torch.Size([768])\n",
            "transformer_blocks.8.layer_norm2.scale → torch.Size([768])\n",
            "transformer_blocks.8.layer_norm2.shift → torch.Size([768])\n",
            "transformer_blocks.9.attention.mask → torch.Size([1024, 1024])\n",
            "transformer_blocks.9.attention.W_query.weight → torch.Size([768, 768])\n",
            "transformer_blocks.9.attention.W_key.weight → torch.Size([768, 768])\n",
            "transformer_blocks.9.attention.W_value.weight → torch.Size([768, 768])\n",
            "transformer_blocks.9.attention.output_projection.weight → torch.Size([768, 768])\n",
            "transformer_blocks.9.attention.output_projection.bias → torch.Size([768])\n",
            "transformer_blocks.9.feed_forward.layers.0.weight → torch.Size([3072, 768])\n",
            "transformer_blocks.9.feed_forward.layers.0.bias → torch.Size([3072])\n",
            "transformer_blocks.9.feed_forward.layers.2.weight → torch.Size([768, 3072])\n",
            "transformer_blocks.9.feed_forward.layers.2.bias → torch.Size([768])\n",
            "transformer_blocks.9.layer_norm1.scale → torch.Size([768])\n",
            "transformer_blocks.9.layer_norm1.shift → torch.Size([768])\n",
            "transformer_blocks.9.layer_norm2.scale → torch.Size([768])\n",
            "transformer_blocks.9.layer_norm2.shift → torch.Size([768])\n",
            "transformer_blocks.10.attention.mask → torch.Size([1024, 1024])\n",
            "transformer_blocks.10.attention.W_query.weight → torch.Size([768, 768])\n",
            "transformer_blocks.10.attention.W_key.weight → torch.Size([768, 768])\n",
            "transformer_blocks.10.attention.W_value.weight → torch.Size([768, 768])\n",
            "transformer_blocks.10.attention.output_projection.weight → torch.Size([768, 768])\n",
            "transformer_blocks.10.attention.output_projection.bias → torch.Size([768])\n",
            "transformer_blocks.10.feed_forward.layers.0.weight → torch.Size([3072, 768])\n",
            "transformer_blocks.10.feed_forward.layers.0.bias → torch.Size([3072])\n",
            "transformer_blocks.10.feed_forward.layers.2.weight → torch.Size([768, 3072])\n",
            "transformer_blocks.10.feed_forward.layers.2.bias → torch.Size([768])\n",
            "transformer_blocks.10.layer_norm1.scale → torch.Size([768])\n",
            "transformer_blocks.10.layer_norm1.shift → torch.Size([768])\n",
            "transformer_blocks.10.layer_norm2.scale → torch.Size([768])\n",
            "transformer_blocks.10.layer_norm2.shift → torch.Size([768])\n",
            "transformer_blocks.11.attention.mask → torch.Size([1024, 1024])\n",
            "transformer_blocks.11.attention.W_query.weight → torch.Size([768, 768])\n",
            "transformer_blocks.11.attention.W_key.weight → torch.Size([768, 768])\n",
            "transformer_blocks.11.attention.W_value.weight → torch.Size([768, 768])\n",
            "transformer_blocks.11.attention.output_projection.weight → torch.Size([768, 768])\n",
            "transformer_blocks.11.attention.output_projection.bias → torch.Size([768])\n",
            "transformer_blocks.11.feed_forward.layers.0.weight → torch.Size([3072, 768])\n",
            "transformer_blocks.11.feed_forward.layers.0.bias → torch.Size([3072])\n",
            "transformer_blocks.11.feed_forward.layers.2.weight → torch.Size([768, 3072])\n",
            "transformer_blocks.11.feed_forward.layers.2.bias → torch.Size([768])\n",
            "transformer_blocks.11.layer_norm1.scale → torch.Size([768])\n",
            "transformer_blocks.11.layer_norm1.shift → torch.Size([768])\n",
            "transformer_blocks.11.layer_norm2.scale → torch.Size([768])\n",
            "transformer_blocks.11.layer_norm2.shift → torch.Size([768])\n",
            "final_norm.scale → torch.Size([768])\n",
            "final_norm.shift → torch.Size([768])\n",
            "out_head.weight → torch.Size([50257, 768])\n"
          ]
        }
      ]
    },
    {
      "cell_type": "markdown",
      "source": [
        "later we will use `weight tying`:"
      ],
      "metadata": {
        "id": "nYmRzS5SPSwX"
      }
    },
    {
      "cell_type": "code",
      "source": [
        "# weight tying\n",
        "print(\"token embedding layer shape: \", model.token_emb.weight.shape)\n",
        "print(\"output embedding layer shape: \", model.out_head.weight.shape)"
      ],
      "metadata": {
        "colab": {
          "base_uri": "https://localhost:8080/"
        },
        "id": "kIToC8RoOpiM",
        "outputId": "2bd6a7d3-ba9f-429f-dd30-36f6613a99e9"
      },
      "execution_count": 27,
      "outputs": [
        {
          "output_type": "stream",
          "name": "stdout",
          "text": [
            "token embedding layer shape:  torch.Size([50257, 768])\n",
            "output embedding layer shape:  torch.Size([50257, 768])\n"
          ]
        }
      ]
    },
    {
      "cell_type": "code",
      "source": [
        "total_params_gpt2 = (\n",
        "    total_params - sum(p.numel()\n",
        "    for p in model.out_head.parameters())\n",
        ")\n",
        "\n",
        "print(f\"Total number of parameters in GPT-2: {total_params_gpt2}\")"
      ],
      "metadata": {
        "colab": {
          "base_uri": "https://localhost:8080/"
        },
        "id": "NWt2rt2NPPk9",
        "outputId": "5e30fd94-6580-44ed-9ea5-4e9a1391af43"
      },
      "execution_count": 28,
      "outputs": [
        {
          "output_type": "stream",
          "name": "stdout",
          "text": [
            "Total number of parameters in GPT-2: 124412160\n"
          ]
        }
      ]
    },
    {
      "cell_type": "markdown",
      "source": [
        "Let's compute the memory requirements:"
      ],
      "metadata": {
        "id": "mAPuiic4Pxb3"
      }
    },
    {
      "cell_type": "code",
      "source": [
        "total_size_bytes = total_params * 4\n",
        "total_size_mb = total_size_bytes / (1024 * 1024)\n",
        "print(f\"Total size of GPT-2 in MB: {total_size_mb:.2f} MB\")"
      ],
      "metadata": {
        "colab": {
          "base_uri": "https://localhost:8080/"
        },
        "id": "oHyCpqVePnHg",
        "outputId": "c0e39fe5-96a7-49ca-f904-84d3f49c4704"
      },
      "execution_count": 29,
      "outputs": [
        {
          "output_type": "stream",
          "name": "stdout",
          "text": [
            "Total size of GPT-2 in MB: 621.83 MB\n"
          ]
        }
      ]
    },
    {
      "cell_type": "markdown",
      "source": [
        "# Generate Text"
      ],
      "metadata": {
        "id": "vGnCW2AwQWZt"
      }
    },
    {
      "cell_type": "code",
      "source": [
        "def generate_text_simple(model,\n",
        "                         input_batch, # [batch, num_tokens]\n",
        "                         max_new_tokens, # numbers of new tokens to be predicted\n",
        "                         context_size):\n",
        "  for _ in range(max_new_tokens):\n",
        "    # crop current context if it exceeds the supported context_size\n",
        "    crop_input_batch = input_batch[:, -context_size:]\n",
        "\n",
        "    # predict next token\n",
        "    with torch.no_grad():\n",
        "      logits = model(crop_input_batch)\n",
        "\n",
        "    # consider only logits of the last token\n",
        "    logits = logits[:, -1, :] # (batch, n_tokens, vocab_size) -> (batch, vocab_size)\n",
        "    probas = torch.softmax(logits, dim=-1) # (batch, vocab_size)\n",
        "    predicted_tokens = torch.argmax(probas, dim=-1, keepdim=True) # (batch, 1)\n",
        "    # update input_batch (append predicted tokens to the sequences)\n",
        "    input_batch = torch.cat([input_batch, predicted_tokens], dim=-1) # [batch, num_tokens+1]\n",
        "\n",
        "  return input_batch"
      ],
      "metadata": {
        "id": "rMNfdh6XP9aX"
      },
      "execution_count": 30,
      "outputs": []
    },
    {
      "cell_type": "code",
      "source": [
        "# example setup\n",
        "start_context = \"Hi, my name is\"\n",
        "encoded = bpe_tokenizer.encode(start_context)\n",
        "print(\"encoded: \", encoded)\n",
        "encoded_tensor = torch.tensor(encoded).unsqueeze(0)\n",
        "print(\"encoded tensor: \\n\", encoded_tensor)\n",
        "print(\"encoded tensor shape: \", encoded_tensor.shape)"
      ],
      "metadata": {
        "colab": {
          "base_uri": "https://localhost:8080/"
        },
        "id": "e72rAU1ATmGE",
        "outputId": "aceed3c4-76f5-4846-eb39-a4233630a477"
      },
      "execution_count": 31,
      "outputs": [
        {
          "output_type": "stream",
          "name": "stdout",
          "text": [
            "encoded:  [17250, 11, 616, 1438, 318]\n",
            "encoded tensor: \n",
            " tensor([[17250,    11,   616,  1438,   318]])\n",
            "encoded tensor shape:  torch.Size([1, 5])\n"
          ]
        }
      ]
    },
    {
      "cell_type": "markdown",
      "source": [
        "Since, we now don't have to train, let's put the model in `.eval()` mode:"
      ],
      "metadata": {
        "id": "N6UXNhDQUYJd"
      }
    },
    {
      "cell_type": "code",
      "source": [
        "model.eval()\n",
        "output = generate_text_simple(\n",
        "    model=model,\n",
        "    input_batch=encoded_tensor,\n",
        "    max_new_tokens=10,\n",
        "    context_size=GPT_CONFIG_124M[\"context_length\"]\n",
        ")\n",
        "\n",
        "print(\"output length: \", output.shape[1])\n",
        "print(\"output: \\n\", output)"
      ],
      "metadata": {
        "colab": {
          "base_uri": "https://localhost:8080/"
        },
        "id": "UMT1IrZ8T9ZO",
        "outputId": "7b1d7e27-28f7-4360-d075-a4b723a53231"
      },
      "execution_count": 32,
      "outputs": [
        {
          "output_type": "stream",
          "name": "stdout",
          "text": [
            "output length:  15\n",
            "output: \n",
            " tensor([[17250,    11,   616,  1438,   318,  5465, 26393,  9713, 28268, 31268,\n",
            "         30338,  7535, 37875, 35793,  2332]])\n"
          ]
        }
      ]
    },
    {
      "cell_type": "code",
      "source": [
        "decoded_text = bpe_tokenizer.decode(output.squeeze().tolist())\n",
        "print(decoded_text)"
      ],
      "metadata": {
        "colab": {
          "base_uri": "https://localhost:8080/"
        },
        "id": "Jecz4g7SU40o",
        "outputId": "c0e9f674-95be-4438-9507-c162c8e5c9f7"
      },
      "execution_count": 33,
      "outputs": [
        {
          "output_type": "stream",
          "name": "stdout",
          "text": [
            "Hi, my name is hate orc studiedracuse Corinth gloomython Kard)=( Her\n"
          ]
        }
      ]
    },
    {
      "cell_type": "code",
      "source": [
        "notebook_end_time = time.time()\n",
        "runtime_in_seconds = notebook_end_time - notebook_start_time\n",
        "\n",
        "# format as minutes and seconds\n",
        "minutes, seconds = divmod(runtime_in_seconds, 60)\n",
        "print(f\"Notebook runtime: {int(minutes)} min {seconds:.2f} sec\")"
      ],
      "metadata": {
        "colab": {
          "base_uri": "https://localhost:8080/"
        },
        "id": "FL2jl7CcVF1v",
        "outputId": "c2b28b08-715a-415f-f351-a82af206040d"
      },
      "execution_count": 34,
      "outputs": [
        {
          "output_type": "stream",
          "name": "stdout",
          "text": [
            "Notebook runtime: 0 min 14.34 sec\n"
          ]
        }
      ]
    }
  ]
}