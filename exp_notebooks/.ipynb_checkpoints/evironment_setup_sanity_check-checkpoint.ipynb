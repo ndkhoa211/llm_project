{
 "cells": [
  {
   "cell_type": "code",
   "execution_count": 1,
   "id": "ae5589f0-9fd7-4e4b-89bc-4cbec086cdd4",
   "metadata": {},
   "outputs": [
    {
     "name": "stdout",
     "output_type": "stream",
     "text": [
      "C:\\Users\\user\\Desktop\\llm_project\\.venv\\Scripts\\python.exe\n",
      "['C:\\\\Users\\\\user\\\\Desktop\\\\llm_project\\\\.venv',\n",
      " 'C:\\\\Users\\\\user\\\\Desktop\\\\llm_project\\\\.venv\\\\Lib\\\\site-packages']\n",
      "tiktoken version: 0.9.0\n"
     ]
    }
   ],
   "source": [
    "import sys, site, pprint, tiktoken\n",
    "print(sys.executable)\n",
    "pprint.pprint(site.getsitepackages())\n",
    "print(\"tiktoken version:\", tiktoken.__version__)"
   ]
  },
  {
   "cell_type": "code",
   "execution_count": null,
   "id": "7df715b3-0436-46ac-b14d-77a18d6dae0a",
   "metadata": {},
   "outputs": [],
   "source": []
  }
 ],
 "metadata": {
  "kernelspec": {
   "display_name": "LLMs from scratch (uv)",
   "language": "python",
   "name": "llms_uv"
  },
  "language_info": {
   "codemirror_mode": {
    "name": "ipython",
    "version": 3
   },
   "file_extension": ".py",
   "mimetype": "text/x-python",
   "name": "python",
   "nbconvert_exporter": "python",
   "pygments_lexer": "ipython3",
   "version": "3.12.7"
  }
 },
 "nbformat": 4,
 "nbformat_minor": 5
}
