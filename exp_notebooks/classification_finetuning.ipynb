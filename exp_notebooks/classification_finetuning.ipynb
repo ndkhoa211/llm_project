{
 "nbformat": 4,
 "nbformat_minor": 0,
 "metadata": {
  "colab": {
   "provenance": [],
   "machine_shape": "hm",
   "gpuType": "A100"
  },
  "kernelspec": {
   "name": "python3",
   "display_name": "Python 3"
  },
  "language_info": {
   "name": "python"
  },
  "accelerator": "GPU"
 },
 "cells": [
  {
   "cell_type": "code",
   "source": [
    "import time\n",
    "notebook_start_time = time.time()"
   ],
   "metadata": {
    "id": "1CwVgnSzsX3k"
   },
   "execution_count": 1,
   "outputs": []
  },
  {
   "cell_type": "markdown",
   "source": [
    "# 0. Setup"
   ],
   "metadata": {
    "id": "7CDG6VLJ4cci"
   }
  },
  {
   "cell_type": "code",
   "execution_count": 2,
   "metadata": {
    "id": "cgYUr06RSJFh",
    "outputId": "7223b844-ab91-46c0-873b-4229e9b183de",
    "colab": {
     "base_uri": "https://localhost:8080/"
    }
   },
   "outputs": [
    {
     "output_type": "stream",
     "name": "stdout",
     "text": [
      "matplotlib version: 3.10.0\n",
      "numpy version: 2.0.2\n",
      "tiktoken version: 0.9.0\n",
      "torch version: 2.6.0+cu124\n",
      "tensorflow version: 2.18.0\n",
      "pandas version: 2.2.2\n"
     ]
    }
   ],
   "source": [
    "from importlib.metadata import version\n",
    "\n",
    "pkgs = [\"matplotlib\",  # Plotting library\n",
    "        \"numpy\",       # PyTorch & TensorFlow dependency\n",
    "        \"tiktoken\",    # Tokenizer\n",
    "        \"torch\",       # Deep learning library\n",
    "        \"tensorflow\",  # For OpenAI's pretrained weights\n",
    "        \"pandas\"       # Dataset loading\n",
    "       ]\n",
    "for p in pkgs:\n",
    "    print(f\"{p} version: {version(p)}\")"
   ]
  },
  {
   "cell_type": "markdown",
   "source": [
    "# 1. Preparing the dataset\n",
    "\n"
   ],
   "metadata": {
    "id": "rvU88QLl4imS"
   }
  },
  {
   "cell_type": "code",
   "source": [
    "import urllib.request\n",
    "import zipfile\n",
    "import os\n",
    "from pathlib import Path\n",
    "\n",
    "url = \"https://archive.ics.uci.edu/static/public/228/sms+spam+collection.zip\"\n",
    "zip_path = \"sms_spam_collection.zip\"\n",
    "extracted_path = \"sms_spam_collection\"\n",
    "data_file_path = Path(extracted_path) / \"SMSSpamCollection.tsv\"\n",
    "\n",
    "def download_and_unzip_spam_data(url, zip_path, extracted_path, data_file_path):\n",
    "    if data_file_path.exists():\n",
    "        print(f\"{data_file_path} already exists. Skipping download and extraction.\")\n",
    "        return\n",
    "\n",
    "    # Downloading the file\n",
    "    with urllib.request.urlopen(url) as response:\n",
    "        with open(zip_path, \"wb\") as out_file:\n",
    "            out_file.write(response.read())\n",
    "\n",
    "    # Unzipping the file\n",
    "    with zipfile.ZipFile(zip_path, \"r\") as zip_ref:\n",
    "        zip_ref.extractall(extracted_path)\n",
    "\n",
    "    # Add .tsv file extension\n",
    "    original_file_path = Path(extracted_path) / \"SMSSpamCollection\"\n",
    "    os.rename(original_file_path, data_file_path)\n",
    "    print(f\"File downloaded and saved as {data_file_path}\")\n",
    "\n",
    "try:\n",
    "    download_and_unzip_spam_data(url, zip_path, extracted_path, data_file_path)\n",
    "except (urllib.error.HTTPError, urllib.error.URLError, TimeoutError) as e:\n",
    "    print(f\"Primary URL failed: {e}. Trying backup URL...\")\n",
    "    url = \"https://f001.backblazeb2.com/file/LLMs-from-scratch/sms%2Bspam%2Bcollection.zip\"\n",
    "    download_and_unzip_spam_data(url, zip_path, extracted_path, data_file_path)"
   ],
   "metadata": {
    "colab": {
     "base_uri": "https://localhost:8080/"
    },
    "id": "YkWX-OSs3ul0",
    "outputId": "180d1455-1939-4ce8-8ab0-f2cb08948bb9"
   },
   "execution_count": 3,
   "outputs": [
    {
     "output_type": "stream",
     "name": "stdout",
     "text": [
      "sms_spam_collection/SMSSpamCollection.tsv already exists. Skipping download and extraction.\n"
     ]
    }
   ]
  },
  {
   "cell_type": "code",
   "source": [
    "import pandas as pd\n",
    "\n",
    "df = pd.read_csv(data_file_path, sep=\"\\t\", header=None, names=[\"Label\", \"Text\"])\n",
    "df"
   ],
   "metadata": {
    "colab": {
     "base_uri": "https://localhost:8080/",
     "height": 423
    },
    "id": "jdCtLu024J1_",
    "outputId": "6578c1d6-e594-49f9-e6fe-4915240a6d03"
   },
   "execution_count": 4,
   "outputs": [
    {
     "output_type": "execute_result",
     "data": {
      "text/plain": [
       "     Label                                               Text\n",
       "0      ham  Go until jurong point, crazy.. Available only ...\n",
       "1      ham                      Ok lar... Joking wif u oni...\n",
       "2     spam  Free entry in 2 a wkly comp to win FA Cup fina...\n",
       "3      ham  U dun say so early hor... U c already then say...\n",
       "4      ham  Nah I don't think he goes to usf, he lives aro...\n",
       "...    ...                                                ...\n",
       "5567  spam  This is the 2nd time we have tried 2 contact u...\n",
       "5568   ham               Will ü b going to esplanade fr home?\n",
       "5569   ham  Pity, * was in mood for that. So...any other s...\n",
       "5570   ham  The guy did some bitching but I acted like i'd...\n",
       "5571   ham                         Rofl. Its true to its name\n",
       "\n",
       "[5572 rows x 2 columns]"
      ],
      "text/html": [
       "\n",
       "  <div id=\"df-09d5c0ac-1bd7-452e-94ba-e070ecd2a6f7\" class=\"colab-df-container\">\n",
       "    <div>\n",
       "<style scoped>\n",
       "    .dataframe tbody tr th:only-of-type {\n",
       "        vertical-align: middle;\n",
       "    }\n",
       "\n",
       "    .dataframe tbody tr th {\n",
       "        vertical-align: top;\n",
       "    }\n",
       "\n",
       "    .dataframe thead th {\n",
       "        text-align: right;\n",
       "    }\n",
       "</style>\n",
       "<table border=\"1\" class=\"dataframe\">\n",
       "  <thead>\n",
       "    <tr style=\"text-align: right;\">\n",
       "      <th></th>\n",
       "      <th>Label</th>\n",
       "      <th>Text</th>\n",
       "    </tr>\n",
       "  </thead>\n",
       "  <tbody>\n",
       "    <tr>\n",
       "      <th>0</th>\n",
       "      <td>ham</td>\n",
       "      <td>Go until jurong point, crazy.. Available only ...</td>\n",
       "    </tr>\n",
       "    <tr>\n",
       "      <th>1</th>\n",
       "      <td>ham</td>\n",
       "      <td>Ok lar... Joking wif u oni...</td>\n",
       "    </tr>\n",
       "    <tr>\n",
       "      <th>2</th>\n",
       "      <td>spam</td>\n",
       "      <td>Free entry in 2 a wkly comp to win FA Cup fina...</td>\n",
       "    </tr>\n",
       "    <tr>\n",
       "      <th>3</th>\n",
       "      <td>ham</td>\n",
       "      <td>U dun say so early hor... U c already then say...</td>\n",
       "    </tr>\n",
       "    <tr>\n",
       "      <th>4</th>\n",
       "      <td>ham</td>\n",
       "      <td>Nah I don't think he goes to usf, he lives aro...</td>\n",
       "    </tr>\n",
       "    <tr>\n",
       "      <th>...</th>\n",
       "      <td>...</td>\n",
       "      <td>...</td>\n",
       "    </tr>\n",
       "    <tr>\n",
       "      <th>5567</th>\n",
       "      <td>spam</td>\n",
       "      <td>This is the 2nd time we have tried 2 contact u...</td>\n",
       "    </tr>\n",
       "    <tr>\n",
       "      <th>5568</th>\n",
       "      <td>ham</td>\n",
       "      <td>Will ü b going to esplanade fr home?</td>\n",
       "    </tr>\n",
       "    <tr>\n",
       "      <th>5569</th>\n",
       "      <td>ham</td>\n",
       "      <td>Pity, * was in mood for that. So...any other s...</td>\n",
       "    </tr>\n",
       "    <tr>\n",
       "      <th>5570</th>\n",
       "      <td>ham</td>\n",
       "      <td>The guy did some bitching but I acted like i'd...</td>\n",
       "    </tr>\n",
       "    <tr>\n",
       "      <th>5571</th>\n",
       "      <td>ham</td>\n",
       "      <td>Rofl. Its true to its name</td>\n",
       "    </tr>\n",
       "  </tbody>\n",
       "</table>\n",
       "<p>5572 rows × 2 columns</p>\n",
       "</div>\n",
       "    <div class=\"colab-df-buttons\">\n",
       "\n",
       "  <div class=\"colab-df-container\">\n",
       "    <button class=\"colab-df-convert\" onclick=\"convertToInteractive('df-09d5c0ac-1bd7-452e-94ba-e070ecd2a6f7')\"\n",
       "            title=\"Convert this dataframe to an interactive table.\"\n",
       "            style=\"display:none;\">\n",
       "\n",
       "  <svg xmlns=\"http://www.w3.org/2000/svg\" height=\"24px\" viewBox=\"0 -960 960 960\">\n",
       "    <path d=\"M120-120v-720h720v720H120Zm60-500h600v-160H180v160Zm220 220h160v-160H400v160Zm0 220h160v-160H400v160ZM180-400h160v-160H180v160Zm440 0h160v-160H620v160ZM180-180h160v-160H180v160Zm440 0h160v-160H620v160Z\"/>\n",
       "  </svg>\n",
       "    </button>\n",
       "\n",
       "  <style>\n",
       "    .colab-df-container {\n",
       "      display:flex;\n",
       "      gap: 12px;\n",
       "    }\n",
       "\n",
       "    .colab-df-convert {\n",
       "      background-color: #E8F0FE;\n",
       "      border: none;\n",
       "      border-radius: 50%;\n",
       "      cursor: pointer;\n",
       "      display: none;\n",
       "      fill: #1967D2;\n",
       "      height: 32px;\n",
       "      padding: 0 0 0 0;\n",
       "      width: 32px;\n",
       "    }\n",
       "\n",
       "    .colab-df-convert:hover {\n",
       "      background-color: #E2EBFA;\n",
       "      box-shadow: 0px 1px 2px rgba(60, 64, 67, 0.3), 0px 1px 3px 1px rgba(60, 64, 67, 0.15);\n",
       "      fill: #174EA6;\n",
       "    }\n",
       "\n",
       "    .colab-df-buttons div {\n",
       "      margin-bottom: 4px;\n",
       "    }\n",
       "\n",
       "    [theme=dark] .colab-df-convert {\n",
       "      background-color: #3B4455;\n",
       "      fill: #D2E3FC;\n",
       "    }\n",
       "\n",
       "    [theme=dark] .colab-df-convert:hover {\n",
       "      background-color: #434B5C;\n",
       "      box-shadow: 0px 1px 3px 1px rgba(0, 0, 0, 0.15);\n",
       "      filter: drop-shadow(0px 1px 2px rgba(0, 0, 0, 0.3));\n",
       "      fill: #FFFFFF;\n",
       "    }\n",
       "  </style>\n",
       "\n",
       "    <script>\n",
       "      const buttonEl =\n",
       "        document.querySelector('#df-09d5c0ac-1bd7-452e-94ba-e070ecd2a6f7 button.colab-df-convert');\n",
       "      buttonEl.style.display =\n",
       "        google.colab.kernel.accessAllowed ? 'block' : 'none';\n",
       "\n",
       "      async function convertToInteractive(key) {\n",
       "        const element = document.querySelector('#df-09d5c0ac-1bd7-452e-94ba-e070ecd2a6f7');\n",
       "        const dataTable =\n",
       "          await google.colab.kernel.invokeFunction('convertToInteractive',\n",
       "                                                    [key], {});\n",
       "        if (!dataTable) return;\n",
       "\n",
       "        const docLinkHtml = 'Like what you see? Visit the ' +\n",
       "          '<a target=\"_blank\" href=https://colab.research.google.com/notebooks/data_table.ipynb>data table notebook</a>'\n",
       "          + ' to learn more about interactive tables.';\n",
       "        element.innerHTML = '';\n",
       "        dataTable['output_type'] = 'display_data';\n",
       "        await google.colab.output.renderOutput(dataTable, element);\n",
       "        const docLink = document.createElement('div');\n",
       "        docLink.innerHTML = docLinkHtml;\n",
       "        element.appendChild(docLink);\n",
       "      }\n",
       "    </script>\n",
       "  </div>\n",
       "\n",
       "\n",
       "    <div id=\"df-df80036b-6e61-4d17-8b52-2711483ec72d\">\n",
       "      <button class=\"colab-df-quickchart\" onclick=\"quickchart('df-df80036b-6e61-4d17-8b52-2711483ec72d')\"\n",
       "                title=\"Suggest charts\"\n",
       "                style=\"display:none;\">\n",
       "\n",
       "<svg xmlns=\"http://www.w3.org/2000/svg\" height=\"24px\"viewBox=\"0 0 24 24\"\n",
       "     width=\"24px\">\n",
       "    <g>\n",
       "        <path d=\"M19 3H5c-1.1 0-2 .9-2 2v14c0 1.1.9 2 2 2h14c1.1 0 2-.9 2-2V5c0-1.1-.9-2-2-2zM9 17H7v-7h2v7zm4 0h-2V7h2v10zm4 0h-2v-4h2v4z\"/>\n",
       "    </g>\n",
       "</svg>\n",
       "      </button>\n",
       "\n",
       "<style>\n",
       "  .colab-df-quickchart {\n",
       "      --bg-color: #E8F0FE;\n",
       "      --fill-color: #1967D2;\n",
       "      --hover-bg-color: #E2EBFA;\n",
       "      --hover-fill-color: #174EA6;\n",
       "      --disabled-fill-color: #AAA;\n",
       "      --disabled-bg-color: #DDD;\n",
       "  }\n",
       "\n",
       "  [theme=dark] .colab-df-quickchart {\n",
       "      --bg-color: #3B4455;\n",
       "      --fill-color: #D2E3FC;\n",
       "      --hover-bg-color: #434B5C;\n",
       "      --hover-fill-color: #FFFFFF;\n",
       "      --disabled-bg-color: #3B4455;\n",
       "      --disabled-fill-color: #666;\n",
       "  }\n",
       "\n",
       "  .colab-df-quickchart {\n",
       "    background-color: var(--bg-color);\n",
       "    border: none;\n",
       "    border-radius: 50%;\n",
       "    cursor: pointer;\n",
       "    display: none;\n",
       "    fill: var(--fill-color);\n",
       "    height: 32px;\n",
       "    padding: 0;\n",
       "    width: 32px;\n",
       "  }\n",
       "\n",
       "  .colab-df-quickchart:hover {\n",
       "    background-color: var(--hover-bg-color);\n",
       "    box-shadow: 0 1px 2px rgba(60, 64, 67, 0.3), 0 1px 3px 1px rgba(60, 64, 67, 0.15);\n",
       "    fill: var(--button-hover-fill-color);\n",
       "  }\n",
       "\n",
       "  .colab-df-quickchart-complete:disabled,\n",
       "  .colab-df-quickchart-complete:disabled:hover {\n",
       "    background-color: var(--disabled-bg-color);\n",
       "    fill: var(--disabled-fill-color);\n",
       "    box-shadow: none;\n",
       "  }\n",
       "\n",
       "  .colab-df-spinner {\n",
       "    border: 2px solid var(--fill-color);\n",
       "    border-color: transparent;\n",
       "    border-bottom-color: var(--fill-color);\n",
       "    animation:\n",
       "      spin 1s steps(1) infinite;\n",
       "  }\n",
       "\n",
       "  @keyframes spin {\n",
       "    0% {\n",
       "      border-color: transparent;\n",
       "      border-bottom-color: var(--fill-color);\n",
       "      border-left-color: var(--fill-color);\n",
       "    }\n",
       "    20% {\n",
       "      border-color: transparent;\n",
       "      border-left-color: var(--fill-color);\n",
       "      border-top-color: var(--fill-color);\n",
       "    }\n",
       "    30% {\n",
       "      border-color: transparent;\n",
       "      border-left-color: var(--fill-color);\n",
       "      border-top-color: var(--fill-color);\n",
       "      border-right-color: var(--fill-color);\n",
       "    }\n",
       "    40% {\n",
       "      border-color: transparent;\n",
       "      border-right-color: var(--fill-color);\n",
       "      border-top-color: var(--fill-color);\n",
       "    }\n",
       "    60% {\n",
       "      border-color: transparent;\n",
       "      border-right-color: var(--fill-color);\n",
       "    }\n",
       "    80% {\n",
       "      border-color: transparent;\n",
       "      border-right-color: var(--fill-color);\n",
       "      border-bottom-color: var(--fill-color);\n",
       "    }\n",
       "    90% {\n",
       "      border-color: transparent;\n",
       "      border-bottom-color: var(--fill-color);\n",
       "    }\n",
       "  }\n",
       "</style>\n",
       "\n",
       "      <script>\n",
       "        async function quickchart(key) {\n",
       "          const quickchartButtonEl =\n",
       "            document.querySelector('#' + key + ' button');\n",
       "          quickchartButtonEl.disabled = true;  // To prevent multiple clicks.\n",
       "          quickchartButtonEl.classList.add('colab-df-spinner');\n",
       "          try {\n",
       "            const charts = await google.colab.kernel.invokeFunction(\n",
       "                'suggestCharts', [key], {});\n",
       "          } catch (error) {\n",
       "            console.error('Error during call to suggestCharts:', error);\n",
       "          }\n",
       "          quickchartButtonEl.classList.remove('colab-df-spinner');\n",
       "          quickchartButtonEl.classList.add('colab-df-quickchart-complete');\n",
       "        }\n",
       "        (() => {\n",
       "          let quickchartButtonEl =\n",
       "            document.querySelector('#df-df80036b-6e61-4d17-8b52-2711483ec72d button');\n",
       "          quickchartButtonEl.style.display =\n",
       "            google.colab.kernel.accessAllowed ? 'block' : 'none';\n",
       "        })();\n",
       "      </script>\n",
       "    </div>\n",
       "\n",
       "  <div id=\"id_9cbaea1a-4ae8-473b-8a46-65baaad8f6cd\">\n",
       "    <style>\n",
       "      .colab-df-generate {\n",
       "        background-color: #E8F0FE;\n",
       "        border: none;\n",
       "        border-radius: 50%;\n",
       "        cursor: pointer;\n",
       "        display: none;\n",
       "        fill: #1967D2;\n",
       "        height: 32px;\n",
       "        padding: 0 0 0 0;\n",
       "        width: 32px;\n",
       "      }\n",
       "\n",
       "      .colab-df-generate:hover {\n",
       "        background-color: #E2EBFA;\n",
       "        box-shadow: 0px 1px 2px rgba(60, 64, 67, 0.3), 0px 1px 3px 1px rgba(60, 64, 67, 0.15);\n",
       "        fill: #174EA6;\n",
       "      }\n",
       "\n",
       "      [theme=dark] .colab-df-generate {\n",
       "        background-color: #3B4455;\n",
       "        fill: #D2E3FC;\n",
       "      }\n",
       "\n",
       "      [theme=dark] .colab-df-generate:hover {\n",
       "        background-color: #434B5C;\n",
       "        box-shadow: 0px 1px 3px 1px rgba(0, 0, 0, 0.15);\n",
       "        filter: drop-shadow(0px 1px 2px rgba(0, 0, 0, 0.3));\n",
       "        fill: #FFFFFF;\n",
       "      }\n",
       "    </style>\n",
       "    <button class=\"colab-df-generate\" onclick=\"generateWithVariable('df')\"\n",
       "            title=\"Generate code using this dataframe.\"\n",
       "            style=\"display:none;\">\n",
       "\n",
       "  <svg xmlns=\"http://www.w3.org/2000/svg\" height=\"24px\"viewBox=\"0 0 24 24\"\n",
       "       width=\"24px\">\n",
       "    <path d=\"M7,19H8.4L18.45,9,17,7.55,7,17.6ZM5,21V16.75L18.45,3.32a2,2,0,0,1,2.83,0l1.4,1.43a1.91,1.91,0,0,1,.58,1.4,1.91,1.91,0,0,1-.58,1.4L9.25,21ZM18.45,9,17,7.55Zm-12,3A5.31,5.31,0,0,0,4.9,8.1,5.31,5.31,0,0,0,1,6.5,5.31,5.31,0,0,0,4.9,4.9,5.31,5.31,0,0,0,6.5,1,5.31,5.31,0,0,0,8.1,4.9,5.31,5.31,0,0,0,12,6.5,5.46,5.46,0,0,0,6.5,12Z\"/>\n",
       "  </svg>\n",
       "    </button>\n",
       "    <script>\n",
       "      (() => {\n",
       "      const buttonEl =\n",
       "        document.querySelector('#id_9cbaea1a-4ae8-473b-8a46-65baaad8f6cd button.colab-df-generate');\n",
       "      buttonEl.style.display =\n",
       "        google.colab.kernel.accessAllowed ? 'block' : 'none';\n",
       "\n",
       "      buttonEl.onclick = () => {\n",
       "        google.colab.notebook.generateWithVariable('df');\n",
       "      }\n",
       "      })();\n",
       "    </script>\n",
       "  </div>\n",
       "\n",
       "    </div>\n",
       "  </div>\n"
      ],
      "application/vnd.google.colaboratory.intrinsic+json": {
       "type": "dataframe",
       "variable_name": "df",
       "summary": "{\n  \"name\": \"df\",\n  \"rows\": 5572,\n  \"fields\": [\n    {\n      \"column\": \"Label\",\n      \"properties\": {\n        \"dtype\": \"category\",\n        \"num_unique_values\": 2,\n        \"samples\": [\n          \"spam\",\n          \"ham\"\n        ],\n        \"semantic_type\": \"\",\n        \"description\": \"\"\n      }\n    },\n    {\n      \"column\": \"Text\",\n      \"properties\": {\n        \"dtype\": \"string\",\n        \"num_unique_values\": 5169,\n        \"samples\": [\n          \"K, makes sense, btw carlos is being difficult so you guys are gonna smoke while I go pick up the second batch and get gas\",\n          \"URGENT! Your mobile No *********** WON a \\u00a32,000 Bonus Caller Prize on 02/06/03! This is the 2nd attempt to reach YOU! Call 09066362220 ASAP! BOX97N7QP, 150ppm\"\n        ],\n        \"semantic_type\": \"\",\n        \"description\": \"\"\n      }\n    }\n  ]\n}"
      }
     },
     "metadata": {},
     "execution_count": 4
    }
   ]
  },
  {
   "cell_type": "markdown",
   "source": [
    "- let's check the class distribution:"
   ],
   "metadata": {
    "id": "HIMlGFo1UgJD"
   }
  },
  {
   "cell_type": "code",
   "source": [
    "print(df[\"Label\"].value_counts())"
   ],
   "metadata": {
    "colab": {
     "base_uri": "https://localhost:8080/"
    },
    "id": "z8uZDsho4YHY",
    "outputId": "09efd042-65f4-4e98-ed64-69ef8a4926cf"
   },
   "execution_count": 5,
   "outputs": [
    {
     "output_type": "stream",
     "name": "stdout",
     "text": [
      "Label\n",
      "ham     4825\n",
      "spam     747\n",
      "Name: count, dtype: int64\n"
     ]
    }
   ]
  },
  {
   "cell_type": "markdown",
   "source": [
    "- now we should subsample the dataset so that we have a balanced dataset with the same number of data for `ham` and `spam`:"
   ],
   "metadata": {
    "id": "rVcpTX6mU6zj"
   }
  },
  {
   "cell_type": "code",
   "source": [
    "print(\"\\n\\n\\n**********df['Label']**********:\\n\", df[\"Label\"].head(5))\n",
    "\n",
    "print(\"\\n\\n\\n**********df['Label'] == 'spam'**********:\\n\", df[\"Label\"].head(5) == \"spam\")\n",
    "\n",
    "print(\"\\n\\n\\n**********df[df['Label'] == 'spam']**********:\\n\", df[df[\"Label\"] == \"spam\"].head(5))\n",
    "\n",
    "print(\"\\n\\n\\n**********df[df['Label'] == 'spam'].shape**********:\\n\", df[df[\"Label\"] == \"spam\"].shape)\n"
   ],
   "metadata": {
    "colab": {
     "base_uri": "https://localhost:8080/"
    },
    "id": "aEjMwEcSVv2h",
    "outputId": "9038b039-9293-4dd1-e1b0-f1a6ee951705"
   },
   "execution_count": 6,
   "outputs": [
    {
     "output_type": "stream",
     "name": "stdout",
     "text": [
      "\n",
      "\n",
      "\n",
      "**********df['Label']**********:\n",
      " 0     ham\n",
      "1     ham\n",
      "2    spam\n",
      "3     ham\n",
      "4     ham\n",
      "Name: Label, dtype: object\n",
      "\n",
      "\n",
      "\n",
      "**********df['Label'] == 'spam'**********:\n",
      " 0    False\n",
      "1    False\n",
      "2     True\n",
      "3    False\n",
      "4    False\n",
      "Name: Label, dtype: bool\n",
      "\n",
      "\n",
      "\n",
      "**********df[df['Label'] == 'spam']**********:\n",
      "    Label                                               Text\n",
      "2   spam  Free entry in 2 a wkly comp to win FA Cup fina...\n",
      "5   spam  FreeMsg Hey there darling it's been 3 week's n...\n",
      "8   spam  WINNER!! As a valued network customer you have...\n",
      "9   spam  Had your mobile 11 months or more? U R entitle...\n",
      "11  spam  SIX chances to win CASH! From 100 to 20,000 po...\n",
      "\n",
      "\n",
      "\n",
      "**********df[df['Label'] == 'spam'].shape**********:\n",
      " (747, 2)\n"
     ]
    }
   ]
  },
  {
   "cell_type": "code",
   "source": [
    "import numpy as np\n",
    "\n",
    "def create_balanced_dataset(df):\n",
    "  # count the instances of `spam`\n",
    "  num_spam = df[df[\"Label\"] == \"spam\"].shape[0]\n",
    "\n",
    "  # randomly sub-sample \"ham\" with `num_spam` rows\n",
    "  ham_sub = df[df[\"Label\"] == \"ham\"].sample(num_spam, random_state=123)\n",
    "\n",
    "  # concatenate subsets\n",
    "  balanced_df = pd.concat([ham_sub, df[df[\"Label\"] == \"spam\"]])\n",
    "\n",
    "  return balanced_df\n",
    "\n",
    "\n",
    "balanced_df = create_balanced_dataset(df)\n",
    "\n",
    "# show first 5 and last 5 rows\n",
    "print(balanced_df.iloc[np.r_[0:5, -5:0]])\n",
    "\n",
    "# check label/class distribution\n",
    "print(balanced_df[\"Label\"].value_counts())"
   ],
   "metadata": {
    "colab": {
     "base_uri": "https://localhost:8080/"
    },
    "id": "0ZBA8sb3Un--",
    "outputId": "ddb67742-1631-4305-b893-63133f0c554a"
   },
   "execution_count": 7,
   "outputs": [
    {
     "output_type": "stream",
     "name": "stdout",
     "text": [
      "     Label                                               Text\n",
      "4307   ham  Awww dat is sweet! We can think of something t...\n",
      "4138   ham                             Just got to  &lt;#&gt;\n",
      "4831   ham  The word \"Checkmate\" in chess comes from the P...\n",
      "4461   ham  This is wishing you a great day. Moji told me ...\n",
      "5440   ham      Thank you. do you generally date the brothas?\n",
      "5537  spam  Want explicit SEX in 30 secs? Ring 02073162414...\n",
      "5540  spam  ASKED 3MOBILE IF 0870 CHATLINES INCLU IN FREE ...\n",
      "5547  spam  Had your contract mobile 11 Mnths? Latest Moto...\n",
      "5566  spam  REMINDER FROM O2: To get 2.50 pounds free call...\n",
      "5567  spam  This is the 2nd time we have tried 2 contact u...\n",
      "Label\n",
      "ham     747\n",
      "spam    747\n",
      "Name: count, dtype: int64\n"
     ]
    }
   ]
  },
  {
   "cell_type": "markdown",
   "source": [
    "- Next, turn our \"Label\" into integer class labels:"
   ],
   "metadata": {
    "id": "5SZ_hsj0aSIU"
   }
  },
  {
   "cell_type": "code",
   "source": [
    "balanced_df[\"Label\"] = balanced_df[\"Label\"].map({\"ham\": 0, \"spam\": 1})\n",
    "\n",
    "# show first 5 and last 5 rows\n",
    "print(balanced_df.iloc[np.r_[0:5, -5:0]])"
   ],
   "metadata": {
    "colab": {
     "base_uri": "https://localhost:8080/"
    },
    "id": "cbpLXZSTYild",
    "outputId": "e92590a1-4816-4550-f79e-b34cb9722157"
   },
   "execution_count": 8,
   "outputs": [
    {
     "output_type": "stream",
     "name": "stdout",
     "text": [
      "      Label                                               Text\n",
      "4307      0  Awww dat is sweet! We can think of something t...\n",
      "4138      0                             Just got to  &lt;#&gt;\n",
      "4831      0  The word \"Checkmate\" in chess comes from the P...\n",
      "4461      0  This is wishing you a great day. Moji told me ...\n",
      "5440      0      Thank you. do you generally date the brothas?\n",
      "5537      1  Want explicit SEX in 30 secs? Ring 02073162414...\n",
      "5540      1  ASKED 3MOBILE IF 0870 CHATLINES INCLU IN FREE ...\n",
      "5547      1  Had your contract mobile 11 Mnths? Latest Moto...\n",
      "5566      1  REMINDER FROM O2: To get 2.50 pounds free call...\n",
      "5567      1  This is the 2nd time we have tried 2 contact u...\n"
     ]
    }
   ]
  },
  {
   "cell_type": "markdown",
   "source": [
    "- Now, let's split the dataset:"
   ],
   "metadata": {
    "id": "CEhQjMvza6Yl"
   }
  },
  {
   "cell_type": "code",
   "source": [
    "balanced_df.sample(frac=0.005, # fraction of the dataset to be subsample\n",
    "                   random_state=211)"
   ],
   "metadata": {
    "colab": {
     "base_uri": "https://localhost:8080/",
     "height": 269
    },
    "id": "o2ic9-HScCUY",
    "outputId": "c6e25db5-126c-4230-af88-3f3988008d97"
   },
   "execution_count": 9,
   "outputs": [
    {
     "output_type": "execute_result",
     "data": {
      "text/plain": [
       "      Label                                               Text\n",
       "5440      0      Thank you. do you generally date the brothas?\n",
       "5251      0  Yeah work is fine, started last week, all the ...\n",
       "1793      1  WIN: We have a winner! Mr. T. Foley won an iPo...\n",
       "238       0             Where are you?when wil you reach here?\n",
       "4371      1  Do you want a new Video handset? 750 any time ...\n",
       "4678      0               Wewa is 130. Iriver 255. All 128 mb.\n",
       "2295      1   You have 1 new message. Please call 08718738034."
      ],
      "text/html": [
       "\n",
       "  <div id=\"df-e56a1e78-22c6-469d-b950-644958e4a84b\" class=\"colab-df-container\">\n",
       "    <div>\n",
       "<style scoped>\n",
       "    .dataframe tbody tr th:only-of-type {\n",
       "        vertical-align: middle;\n",
       "    }\n",
       "\n",
       "    .dataframe tbody tr th {\n",
       "        vertical-align: top;\n",
       "    }\n",
       "\n",
       "    .dataframe thead th {\n",
       "        text-align: right;\n",
       "    }\n",
       "</style>\n",
       "<table border=\"1\" class=\"dataframe\">\n",
       "  <thead>\n",
       "    <tr style=\"text-align: right;\">\n",
       "      <th></th>\n",
       "      <th>Label</th>\n",
       "      <th>Text</th>\n",
       "    </tr>\n",
       "  </thead>\n",
       "  <tbody>\n",
       "    <tr>\n",
       "      <th>5440</th>\n",
       "      <td>0</td>\n",
       "      <td>Thank you. do you generally date the brothas?</td>\n",
       "    </tr>\n",
       "    <tr>\n",
       "      <th>5251</th>\n",
       "      <td>0</td>\n",
       "      <td>Yeah work is fine, started last week, all the ...</td>\n",
       "    </tr>\n",
       "    <tr>\n",
       "      <th>1793</th>\n",
       "      <td>1</td>\n",
       "      <td>WIN: We have a winner! Mr. T. Foley won an iPo...</td>\n",
       "    </tr>\n",
       "    <tr>\n",
       "      <th>238</th>\n",
       "      <td>0</td>\n",
       "      <td>Where are you?when wil you reach here?</td>\n",
       "    </tr>\n",
       "    <tr>\n",
       "      <th>4371</th>\n",
       "      <td>1</td>\n",
       "      <td>Do you want a new Video handset? 750 any time ...</td>\n",
       "    </tr>\n",
       "    <tr>\n",
       "      <th>4678</th>\n",
       "      <td>0</td>\n",
       "      <td>Wewa is 130. Iriver 255. All 128 mb.</td>\n",
       "    </tr>\n",
       "    <tr>\n",
       "      <th>2295</th>\n",
       "      <td>1</td>\n",
       "      <td>You have 1 new message. Please call 08718738034.</td>\n",
       "    </tr>\n",
       "  </tbody>\n",
       "</table>\n",
       "</div>\n",
       "    <div class=\"colab-df-buttons\">\n",
       "\n",
       "  <div class=\"colab-df-container\">\n",
       "    <button class=\"colab-df-convert\" onclick=\"convertToInteractive('df-e56a1e78-22c6-469d-b950-644958e4a84b')\"\n",
       "            title=\"Convert this dataframe to an interactive table.\"\n",
       "            style=\"display:none;\">\n",
       "\n",
       "  <svg xmlns=\"http://www.w3.org/2000/svg\" height=\"24px\" viewBox=\"0 -960 960 960\">\n",
       "    <path d=\"M120-120v-720h720v720H120Zm60-500h600v-160H180v160Zm220 220h160v-160H400v160Zm0 220h160v-160H400v160ZM180-400h160v-160H180v160Zm440 0h160v-160H620v160ZM180-180h160v-160H180v160Zm440 0h160v-160H620v160Z\"/>\n",
       "  </svg>\n",
       "    </button>\n",
       "\n",
       "  <style>\n",
       "    .colab-df-container {\n",
       "      display:flex;\n",
       "      gap: 12px;\n",
       "    }\n",
       "\n",
       "    .colab-df-convert {\n",
       "      background-color: #E8F0FE;\n",
       "      border: none;\n",
       "      border-radius: 50%;\n",
       "      cursor: pointer;\n",
       "      display: none;\n",
       "      fill: #1967D2;\n",
       "      height: 32px;\n",
       "      padding: 0 0 0 0;\n",
       "      width: 32px;\n",
       "    }\n",
       "\n",
       "    .colab-df-convert:hover {\n",
       "      background-color: #E2EBFA;\n",
       "      box-shadow: 0px 1px 2px rgba(60, 64, 67, 0.3), 0px 1px 3px 1px rgba(60, 64, 67, 0.15);\n",
       "      fill: #174EA6;\n",
       "    }\n",
       "\n",
       "    .colab-df-buttons div {\n",
       "      margin-bottom: 4px;\n",
       "    }\n",
       "\n",
       "    [theme=dark] .colab-df-convert {\n",
       "      background-color: #3B4455;\n",
       "      fill: #D2E3FC;\n",
       "    }\n",
       "\n",
       "    [theme=dark] .colab-df-convert:hover {\n",
       "      background-color: #434B5C;\n",
       "      box-shadow: 0px 1px 3px 1px rgba(0, 0, 0, 0.15);\n",
       "      filter: drop-shadow(0px 1px 2px rgba(0, 0, 0, 0.3));\n",
       "      fill: #FFFFFF;\n",
       "    }\n",
       "  </style>\n",
       "\n",
       "    <script>\n",
       "      const buttonEl =\n",
       "        document.querySelector('#df-e56a1e78-22c6-469d-b950-644958e4a84b button.colab-df-convert');\n",
       "      buttonEl.style.display =\n",
       "        google.colab.kernel.accessAllowed ? 'block' : 'none';\n",
       "\n",
       "      async function convertToInteractive(key) {\n",
       "        const element = document.querySelector('#df-e56a1e78-22c6-469d-b950-644958e4a84b');\n",
       "        const dataTable =\n",
       "          await google.colab.kernel.invokeFunction('convertToInteractive',\n",
       "                                                    [key], {});\n",
       "        if (!dataTable) return;\n",
       "\n",
       "        const docLinkHtml = 'Like what you see? Visit the ' +\n",
       "          '<a target=\"_blank\" href=https://colab.research.google.com/notebooks/data_table.ipynb>data table notebook</a>'\n",
       "          + ' to learn more about interactive tables.';\n",
       "        element.innerHTML = '';\n",
       "        dataTable['output_type'] = 'display_data';\n",
       "        await google.colab.output.renderOutput(dataTable, element);\n",
       "        const docLink = document.createElement('div');\n",
       "        docLink.innerHTML = docLinkHtml;\n",
       "        element.appendChild(docLink);\n",
       "      }\n",
       "    </script>\n",
       "  </div>\n",
       "\n",
       "\n",
       "    <div id=\"df-e05c5c43-0156-480a-95f5-2f7972d41c55\">\n",
       "      <button class=\"colab-df-quickchart\" onclick=\"quickchart('df-e05c5c43-0156-480a-95f5-2f7972d41c55')\"\n",
       "                title=\"Suggest charts\"\n",
       "                style=\"display:none;\">\n",
       "\n",
       "<svg xmlns=\"http://www.w3.org/2000/svg\" height=\"24px\"viewBox=\"0 0 24 24\"\n",
       "     width=\"24px\">\n",
       "    <g>\n",
       "        <path d=\"M19 3H5c-1.1 0-2 .9-2 2v14c0 1.1.9 2 2 2h14c1.1 0 2-.9 2-2V5c0-1.1-.9-2-2-2zM9 17H7v-7h2v7zm4 0h-2V7h2v10zm4 0h-2v-4h2v4z\"/>\n",
       "    </g>\n",
       "</svg>\n",
       "      </button>\n",
       "\n",
       "<style>\n",
       "  .colab-df-quickchart {\n",
       "      --bg-color: #E8F0FE;\n",
       "      --fill-color: #1967D2;\n",
       "      --hover-bg-color: #E2EBFA;\n",
       "      --hover-fill-color: #174EA6;\n",
       "      --disabled-fill-color: #AAA;\n",
       "      --disabled-bg-color: #DDD;\n",
       "  }\n",
       "\n",
       "  [theme=dark] .colab-df-quickchart {\n",
       "      --bg-color: #3B4455;\n",
       "      --fill-color: #D2E3FC;\n",
       "      --hover-bg-color: #434B5C;\n",
       "      --hover-fill-color: #FFFFFF;\n",
       "      --disabled-bg-color: #3B4455;\n",
       "      --disabled-fill-color: #666;\n",
       "  }\n",
       "\n",
       "  .colab-df-quickchart {\n",
       "    background-color: var(--bg-color);\n",
       "    border: none;\n",
       "    border-radius: 50%;\n",
       "    cursor: pointer;\n",
       "    display: none;\n",
       "    fill: var(--fill-color);\n",
       "    height: 32px;\n",
       "    padding: 0;\n",
       "    width: 32px;\n",
       "  }\n",
       "\n",
       "  .colab-df-quickchart:hover {\n",
       "    background-color: var(--hover-bg-color);\n",
       "    box-shadow: 0 1px 2px rgba(60, 64, 67, 0.3), 0 1px 3px 1px rgba(60, 64, 67, 0.15);\n",
       "    fill: var(--button-hover-fill-color);\n",
       "  }\n",
       "\n",
       "  .colab-df-quickchart-complete:disabled,\n",
       "  .colab-df-quickchart-complete:disabled:hover {\n",
       "    background-color: var(--disabled-bg-color);\n",
       "    fill: var(--disabled-fill-color);\n",
       "    box-shadow: none;\n",
       "  }\n",
       "\n",
       "  .colab-df-spinner {\n",
       "    border: 2px solid var(--fill-color);\n",
       "    border-color: transparent;\n",
       "    border-bottom-color: var(--fill-color);\n",
       "    animation:\n",
       "      spin 1s steps(1) infinite;\n",
       "  }\n",
       "\n",
       "  @keyframes spin {\n",
       "    0% {\n",
       "      border-color: transparent;\n",
       "      border-bottom-color: var(--fill-color);\n",
       "      border-left-color: var(--fill-color);\n",
       "    }\n",
       "    20% {\n",
       "      border-color: transparent;\n",
       "      border-left-color: var(--fill-color);\n",
       "      border-top-color: var(--fill-color);\n",
       "    }\n",
       "    30% {\n",
       "      border-color: transparent;\n",
       "      border-left-color: var(--fill-color);\n",
       "      border-top-color: var(--fill-color);\n",
       "      border-right-color: var(--fill-color);\n",
       "    }\n",
       "    40% {\n",
       "      border-color: transparent;\n",
       "      border-right-color: var(--fill-color);\n",
       "      border-top-color: var(--fill-color);\n",
       "    }\n",
       "    60% {\n",
       "      border-color: transparent;\n",
       "      border-right-color: var(--fill-color);\n",
       "    }\n",
       "    80% {\n",
       "      border-color: transparent;\n",
       "      border-right-color: var(--fill-color);\n",
       "      border-bottom-color: var(--fill-color);\n",
       "    }\n",
       "    90% {\n",
       "      border-color: transparent;\n",
       "      border-bottom-color: var(--fill-color);\n",
       "    }\n",
       "  }\n",
       "</style>\n",
       "\n",
       "      <script>\n",
       "        async function quickchart(key) {\n",
       "          const quickchartButtonEl =\n",
       "            document.querySelector('#' + key + ' button');\n",
       "          quickchartButtonEl.disabled = true;  // To prevent multiple clicks.\n",
       "          quickchartButtonEl.classList.add('colab-df-spinner');\n",
       "          try {\n",
       "            const charts = await google.colab.kernel.invokeFunction(\n",
       "                'suggestCharts', [key], {});\n",
       "          } catch (error) {\n",
       "            console.error('Error during call to suggestCharts:', error);\n",
       "          }\n",
       "          quickchartButtonEl.classList.remove('colab-df-spinner');\n",
       "          quickchartButtonEl.classList.add('colab-df-quickchart-complete');\n",
       "        }\n",
       "        (() => {\n",
       "          let quickchartButtonEl =\n",
       "            document.querySelector('#df-e05c5c43-0156-480a-95f5-2f7972d41c55 button');\n",
       "          quickchartButtonEl.style.display =\n",
       "            google.colab.kernel.accessAllowed ? 'block' : 'none';\n",
       "        })();\n",
       "      </script>\n",
       "    </div>\n",
       "\n",
       "    </div>\n",
       "  </div>\n"
      ],
      "application/vnd.google.colaboratory.intrinsic+json": {
       "type": "dataframe",
       "summary": "{\n  \"name\": \"                   random_state=211)\",\n  \"rows\": 7,\n  \"fields\": [\n    {\n      \"column\": \"Label\",\n      \"properties\": {\n        \"dtype\": \"number\",\n        \"std\": 0,\n        \"min\": 0,\n        \"max\": 1,\n        \"num_unique_values\": 2,\n        \"samples\": [\n          1,\n          0\n        ],\n        \"semantic_type\": \"\",\n        \"description\": \"\"\n      }\n    },\n    {\n      \"column\": \"Text\",\n      \"properties\": {\n        \"dtype\": \"string\",\n        \"num_unique_values\": 7,\n        \"samples\": [\n          \"Thank you. do you generally date the brothas?\",\n          \"Yeah work is fine, started last week, all the same stuff as before, dull but easy and guys are fun!\"\n        ],\n        \"semantic_type\": \"\",\n        \"description\": \"\"\n      }\n    }\n  ]\n}"
      }
     },
     "metadata": {},
     "execution_count": 9
    }
   ]
  },
  {
   "cell_type": "code",
   "source": [
    "balanced_df.sample(frac=0.005, random_state=211).reset_index(drop=True)"
   ],
   "metadata": {
    "colab": {
     "base_uri": "https://localhost:8080/",
     "height": 269
    },
    "id": "6JEC7o9cbi-0",
    "outputId": "bc9d5f08-46cf-4ace-bff3-d0d31bd5eca1"
   },
   "execution_count": 10,
   "outputs": [
    {
     "output_type": "execute_result",
     "data": {
      "text/plain": [
       "   Label                                               Text\n",
       "0      0      Thank you. do you generally date the brothas?\n",
       "1      0  Yeah work is fine, started last week, all the ...\n",
       "2      1  WIN: We have a winner! Mr. T. Foley won an iPo...\n",
       "3      0             Where are you?when wil you reach here?\n",
       "4      1  Do you want a new Video handset? 750 any time ...\n",
       "5      0               Wewa is 130. Iriver 255. All 128 mb.\n",
       "6      1   You have 1 new message. Please call 08718738034."
      ],
      "text/html": [
       "\n",
       "  <div id=\"df-0764c0fd-661e-49ec-9657-c100619f832e\" class=\"colab-df-container\">\n",
       "    <div>\n",
       "<style scoped>\n",
       "    .dataframe tbody tr th:only-of-type {\n",
       "        vertical-align: middle;\n",
       "    }\n",
       "\n",
       "    .dataframe tbody tr th {\n",
       "        vertical-align: top;\n",
       "    }\n",
       "\n",
       "    .dataframe thead th {\n",
       "        text-align: right;\n",
       "    }\n",
       "</style>\n",
       "<table border=\"1\" class=\"dataframe\">\n",
       "  <thead>\n",
       "    <tr style=\"text-align: right;\">\n",
       "      <th></th>\n",
       "      <th>Label</th>\n",
       "      <th>Text</th>\n",
       "    </tr>\n",
       "  </thead>\n",
       "  <tbody>\n",
       "    <tr>\n",
       "      <th>0</th>\n",
       "      <td>0</td>\n",
       "      <td>Thank you. do you generally date the brothas?</td>\n",
       "    </tr>\n",
       "    <tr>\n",
       "      <th>1</th>\n",
       "      <td>0</td>\n",
       "      <td>Yeah work is fine, started last week, all the ...</td>\n",
       "    </tr>\n",
       "    <tr>\n",
       "      <th>2</th>\n",
       "      <td>1</td>\n",
       "      <td>WIN: We have a winner! Mr. T. Foley won an iPo...</td>\n",
       "    </tr>\n",
       "    <tr>\n",
       "      <th>3</th>\n",
       "      <td>0</td>\n",
       "      <td>Where are you?when wil you reach here?</td>\n",
       "    </tr>\n",
       "    <tr>\n",
       "      <th>4</th>\n",
       "      <td>1</td>\n",
       "      <td>Do you want a new Video handset? 750 any time ...</td>\n",
       "    </tr>\n",
       "    <tr>\n",
       "      <th>5</th>\n",
       "      <td>0</td>\n",
       "      <td>Wewa is 130. Iriver 255. All 128 mb.</td>\n",
       "    </tr>\n",
       "    <tr>\n",
       "      <th>6</th>\n",
       "      <td>1</td>\n",
       "      <td>You have 1 new message. Please call 08718738034.</td>\n",
       "    </tr>\n",
       "  </tbody>\n",
       "</table>\n",
       "</div>\n",
       "    <div class=\"colab-df-buttons\">\n",
       "\n",
       "  <div class=\"colab-df-container\">\n",
       "    <button class=\"colab-df-convert\" onclick=\"convertToInteractive('df-0764c0fd-661e-49ec-9657-c100619f832e')\"\n",
       "            title=\"Convert this dataframe to an interactive table.\"\n",
       "            style=\"display:none;\">\n",
       "\n",
       "  <svg xmlns=\"http://www.w3.org/2000/svg\" height=\"24px\" viewBox=\"0 -960 960 960\">\n",
       "    <path d=\"M120-120v-720h720v720H120Zm60-500h600v-160H180v160Zm220 220h160v-160H400v160Zm0 220h160v-160H400v160ZM180-400h160v-160H180v160Zm440 0h160v-160H620v160ZM180-180h160v-160H180v160Zm440 0h160v-160H620v160Z\"/>\n",
       "  </svg>\n",
       "    </button>\n",
       "\n",
       "  <style>\n",
       "    .colab-df-container {\n",
       "      display:flex;\n",
       "      gap: 12px;\n",
       "    }\n",
       "\n",
       "    .colab-df-convert {\n",
       "      background-color: #E8F0FE;\n",
       "      border: none;\n",
       "      border-radius: 50%;\n",
       "      cursor: pointer;\n",
       "      display: none;\n",
       "      fill: #1967D2;\n",
       "      height: 32px;\n",
       "      padding: 0 0 0 0;\n",
       "      width: 32px;\n",
       "    }\n",
       "\n",
       "    .colab-df-convert:hover {\n",
       "      background-color: #E2EBFA;\n",
       "      box-shadow: 0px 1px 2px rgba(60, 64, 67, 0.3), 0px 1px 3px 1px rgba(60, 64, 67, 0.15);\n",
       "      fill: #174EA6;\n",
       "    }\n",
       "\n",
       "    .colab-df-buttons div {\n",
       "      margin-bottom: 4px;\n",
       "    }\n",
       "\n",
       "    [theme=dark] .colab-df-convert {\n",
       "      background-color: #3B4455;\n",
       "      fill: #D2E3FC;\n",
       "    }\n",
       "\n",
       "    [theme=dark] .colab-df-convert:hover {\n",
       "      background-color: #434B5C;\n",
       "      box-shadow: 0px 1px 3px 1px rgba(0, 0, 0, 0.15);\n",
       "      filter: drop-shadow(0px 1px 2px rgba(0, 0, 0, 0.3));\n",
       "      fill: #FFFFFF;\n",
       "    }\n",
       "  </style>\n",
       "\n",
       "    <script>\n",
       "      const buttonEl =\n",
       "        document.querySelector('#df-0764c0fd-661e-49ec-9657-c100619f832e button.colab-df-convert');\n",
       "      buttonEl.style.display =\n",
       "        google.colab.kernel.accessAllowed ? 'block' : 'none';\n",
       "\n",
       "      async function convertToInteractive(key) {\n",
       "        const element = document.querySelector('#df-0764c0fd-661e-49ec-9657-c100619f832e');\n",
       "        const dataTable =\n",
       "          await google.colab.kernel.invokeFunction('convertToInteractive',\n",
       "                                                    [key], {});\n",
       "        if (!dataTable) return;\n",
       "\n",
       "        const docLinkHtml = 'Like what you see? Visit the ' +\n",
       "          '<a target=\"_blank\" href=https://colab.research.google.com/notebooks/data_table.ipynb>data table notebook</a>'\n",
       "          + ' to learn more about interactive tables.';\n",
       "        element.innerHTML = '';\n",
       "        dataTable['output_type'] = 'display_data';\n",
       "        await google.colab.output.renderOutput(dataTable, element);\n",
       "        const docLink = document.createElement('div');\n",
       "        docLink.innerHTML = docLinkHtml;\n",
       "        element.appendChild(docLink);\n",
       "      }\n",
       "    </script>\n",
       "  </div>\n",
       "\n",
       "\n",
       "    <div id=\"df-749f0e91-22d0-4b92-9fb3-fe3fc249b25b\">\n",
       "      <button class=\"colab-df-quickchart\" onclick=\"quickchart('df-749f0e91-22d0-4b92-9fb3-fe3fc249b25b')\"\n",
       "                title=\"Suggest charts\"\n",
       "                style=\"display:none;\">\n",
       "\n",
       "<svg xmlns=\"http://www.w3.org/2000/svg\" height=\"24px\"viewBox=\"0 0 24 24\"\n",
       "     width=\"24px\">\n",
       "    <g>\n",
       "        <path d=\"M19 3H5c-1.1 0-2 .9-2 2v14c0 1.1.9 2 2 2h14c1.1 0 2-.9 2-2V5c0-1.1-.9-2-2-2zM9 17H7v-7h2v7zm4 0h-2V7h2v10zm4 0h-2v-4h2v4z\"/>\n",
       "    </g>\n",
       "</svg>\n",
       "      </button>\n",
       "\n",
       "<style>\n",
       "  .colab-df-quickchart {\n",
       "      --bg-color: #E8F0FE;\n",
       "      --fill-color: #1967D2;\n",
       "      --hover-bg-color: #E2EBFA;\n",
       "      --hover-fill-color: #174EA6;\n",
       "      --disabled-fill-color: #AAA;\n",
       "      --disabled-bg-color: #DDD;\n",
       "  }\n",
       "\n",
       "  [theme=dark] .colab-df-quickchart {\n",
       "      --bg-color: #3B4455;\n",
       "      --fill-color: #D2E3FC;\n",
       "      --hover-bg-color: #434B5C;\n",
       "      --hover-fill-color: #FFFFFF;\n",
       "      --disabled-bg-color: #3B4455;\n",
       "      --disabled-fill-color: #666;\n",
       "  }\n",
       "\n",
       "  .colab-df-quickchart {\n",
       "    background-color: var(--bg-color);\n",
       "    border: none;\n",
       "    border-radius: 50%;\n",
       "    cursor: pointer;\n",
       "    display: none;\n",
       "    fill: var(--fill-color);\n",
       "    height: 32px;\n",
       "    padding: 0;\n",
       "    width: 32px;\n",
       "  }\n",
       "\n",
       "  .colab-df-quickchart:hover {\n",
       "    background-color: var(--hover-bg-color);\n",
       "    box-shadow: 0 1px 2px rgba(60, 64, 67, 0.3), 0 1px 3px 1px rgba(60, 64, 67, 0.15);\n",
       "    fill: var(--button-hover-fill-color);\n",
       "  }\n",
       "\n",
       "  .colab-df-quickchart-complete:disabled,\n",
       "  .colab-df-quickchart-complete:disabled:hover {\n",
       "    background-color: var(--disabled-bg-color);\n",
       "    fill: var(--disabled-fill-color);\n",
       "    box-shadow: none;\n",
       "  }\n",
       "\n",
       "  .colab-df-spinner {\n",
       "    border: 2px solid var(--fill-color);\n",
       "    border-color: transparent;\n",
       "    border-bottom-color: var(--fill-color);\n",
       "    animation:\n",
       "      spin 1s steps(1) infinite;\n",
       "  }\n",
       "\n",
       "  @keyframes spin {\n",
       "    0% {\n",
       "      border-color: transparent;\n",
       "      border-bottom-color: var(--fill-color);\n",
       "      border-left-color: var(--fill-color);\n",
       "    }\n",
       "    20% {\n",
       "      border-color: transparent;\n",
       "      border-left-color: var(--fill-color);\n",
       "      border-top-color: var(--fill-color);\n",
       "    }\n",
       "    30% {\n",
       "      border-color: transparent;\n",
       "      border-left-color: var(--fill-color);\n",
       "      border-top-color: var(--fill-color);\n",
       "      border-right-color: var(--fill-color);\n",
       "    }\n",
       "    40% {\n",
       "      border-color: transparent;\n",
       "      border-right-color: var(--fill-color);\n",
       "      border-top-color: var(--fill-color);\n",
       "    }\n",
       "    60% {\n",
       "      border-color: transparent;\n",
       "      border-right-color: var(--fill-color);\n",
       "    }\n",
       "    80% {\n",
       "      border-color: transparent;\n",
       "      border-right-color: var(--fill-color);\n",
       "      border-bottom-color: var(--fill-color);\n",
       "    }\n",
       "    90% {\n",
       "      border-color: transparent;\n",
       "      border-bottom-color: var(--fill-color);\n",
       "    }\n",
       "  }\n",
       "</style>\n",
       "\n",
       "      <script>\n",
       "        async function quickchart(key) {\n",
       "          const quickchartButtonEl =\n",
       "            document.querySelector('#' + key + ' button');\n",
       "          quickchartButtonEl.disabled = true;  // To prevent multiple clicks.\n",
       "          quickchartButtonEl.classList.add('colab-df-spinner');\n",
       "          try {\n",
       "            const charts = await google.colab.kernel.invokeFunction(\n",
       "                'suggestCharts', [key], {});\n",
       "          } catch (error) {\n",
       "            console.error('Error during call to suggestCharts:', error);\n",
       "          }\n",
       "          quickchartButtonEl.classList.remove('colab-df-spinner');\n",
       "          quickchartButtonEl.classList.add('colab-df-quickchart-complete');\n",
       "        }\n",
       "        (() => {\n",
       "          let quickchartButtonEl =\n",
       "            document.querySelector('#df-749f0e91-22d0-4b92-9fb3-fe3fc249b25b button');\n",
       "          quickchartButtonEl.style.display =\n",
       "            google.colab.kernel.accessAllowed ? 'block' : 'none';\n",
       "        })();\n",
       "      </script>\n",
       "    </div>\n",
       "\n",
       "    </div>\n",
       "  </div>\n"
      ],
      "application/vnd.google.colaboratory.intrinsic+json": {
       "type": "dataframe",
       "summary": "{\n  \"name\": \"balanced_df\",\n  \"rows\": 7,\n  \"fields\": [\n    {\n      \"column\": \"Label\",\n      \"properties\": {\n        \"dtype\": \"number\",\n        \"std\": 0,\n        \"min\": 0,\n        \"max\": 1,\n        \"num_unique_values\": 2,\n        \"samples\": [\n          1,\n          0\n        ],\n        \"semantic_type\": \"\",\n        \"description\": \"\"\n      }\n    },\n    {\n      \"column\": \"Text\",\n      \"properties\": {\n        \"dtype\": \"string\",\n        \"num_unique_values\": 7,\n        \"samples\": [\n          \"Thank you. do you generally date the brothas?\",\n          \"Yeah work is fine, started last week, all the same stuff as before, dull but easy and guys are fun!\"\n        ],\n        \"semantic_type\": \"\",\n        \"description\": \"\"\n      }\n    }\n  ]\n}"
      }
     },
     "metadata": {},
     "execution_count": 10
    }
   ]
  },
  {
   "cell_type": "code",
   "source": [
    "def random_split(df, train_frac, validation_frac):\n",
    "\n",
    "  # shuffle dataset\n",
    "  df = df.sample(frac=1, random_state=211).reset_index(drop=True)\n",
    "\n",
    "  # compute split range\n",
    "  train_end = int(len(df) * train_frac)\n",
    "  validation_end = train_end + int(len(df) * validation_frac)\n",
    "\n",
    "  # split\n",
    "  train_df = df[:train_end]\n",
    "  validation_df = df[train_end:validation_end]\n",
    "  test_df = df[validation_end:]\n",
    "\n",
    "  return train_df, validation_df, test_df\n",
    "\n",
    "\n",
    "train_df, validation_df, test_df = random_split(balanced_df, 0.7, 0.1)\n",
    "\n",
    "\n",
    "# save splitted dataframe into csv files\n",
    "train_df.to_csv(\"train.csv\", index=None)\n",
    "validation_df.to_csv(\"validation.csv\", index=None)\n",
    "test_df.to_csv(\"test.csv\", index=None)"
   ],
   "metadata": {
    "id": "7CwbnrKmar7n"
   },
   "execution_count": 11,
   "outputs": []
  },
  {
   "cell_type": "markdown",
   "source": [
    "# 2. Create DataLoaders"
   ],
   "metadata": {
    "id": "dI5VEf5EhdTb"
   }
  },
  {
   "cell_type": "markdown",
   "source": [
    "- But first, let's create a custom dataset:\n",
    "1. We need a tokenizer\n",
    "2. treat each line of the original raw dataset (aka `\"Text\"` column) as sequence of tokens\n",
    "3. we should pad special tokens (aka `\"<|endoftext|>\"`) to every sequence so that it matches with the longest sequence or pre-defined `sequence length`"
   ],
   "metadata": {
    "id": "YhWGADM7hg67"
   }
  },
  {
   "cell_type": "code",
   "source": [
    "import tiktoken\n",
    "\n",
    "tokenizer = tiktoken.get_encoding(\"gpt2\")\n",
    "print(tokenizer.encode(\"<|endoftext|>\", allowed_special={\"<|endoftext|>\"}))\n",
    "print(tokenizer.decode([50256]))\n",
    "print(tokenizer.n_vocab)"
   ],
   "metadata": {
    "colab": {
     "base_uri": "https://localhost:8080/"
    },
    "id": "LxGTL-NZg4tX",
    "outputId": "0a4368e6-ef20-41af-9186-8f9352965dba"
   },
   "execution_count": 12,
   "outputs": [
    {
     "output_type": "stream",
     "name": "stdout",
     "text": [
      "[50256]\n",
      "<|endoftext|>\n",
      "50257\n"
     ]
    }
   ]
  },
  {
   "cell_type": "code",
   "source": [
    "import torch\n",
    "from torch.utils.data import Dataset\n",
    "\n",
    "class SpamDataset(Dataset):\n",
    "  def __init__(self,\n",
    "               csv_file,\n",
    "               tokenizer,\n",
    "               max_length=None,\n",
    "               pad_token_id=50256):\n",
    "    self.data = pd.read_csv(csv_file)\n",
    "\n",
    "    # pre-tokenizer texts\n",
    "    self.encoded_texts = [tokenizer.encode(text) for text in self.data[\"Text\"]]\n",
    "\n",
    "    if max_length is None:\n",
    "      self.max_length = self._longest_encoded_length()\n",
    "    else:\n",
    "      self.max_length = max_length\n",
    "      # truncate sequences if they're longer than max_length\n",
    "      self.encoded_texts = [encoded_text[:self.max_length] for encoded_text in self.encoded_texts]\n",
    "\n",
    "    # pad tokens\n",
    "    self.encoded_texts = [\n",
    "        encoded_text + [pad_token_id] * (self.max_length - len(encoded_text))\n",
    "        for encoded_text in self.encoded_texts\n",
    "    ]\n",
    "\n",
    "\n",
    "  def __getitem__(self, index):\n",
    "    encoded_sequence = self.encoded_texts[index]\n",
    "    label = self.data.iloc[index][\"Label\"]\n",
    "    return (\n",
    "        torch.tensor(encoded_sequence, dtype=torch.long),\n",
    "        torch.tensor(label, dtype=torch.long)\n",
    "    )\n",
    "\n",
    "  def __len__(self):\n",
    "    return len(self.data)\n",
    "\n",
    "  def _longest_encoded_length(self):\n",
    "    return max(len(encoded_text) for encoded_text in self.encoded_texts)"
   ],
   "metadata": {
    "id": "N3AbqSKcg_OR"
   },
   "execution_count": 13,
   "outputs": []
  },
  {
   "cell_type": "markdown",
   "source": [
    "- Let's create our Datasets!!!"
   ],
   "metadata": {
    "id": "hUx9n863rTlO"
   }
  },
  {
   "cell_type": "code",
   "source": [
    "train_dataset = SpamDataset(\n",
    "    csv_file=\"train.csv\",\n",
    "    max_length=None,\n",
    "    tokenizer=tokenizer\n",
    ")\n",
    "\n",
    "print(train_dataset.max_length)\n",
    "\n",
    "val_dataset = SpamDataset(\n",
    "    csv_file=\"validation.csv\",\n",
    "    max_length=train_dataset.max_length,\n",
    "    tokenizer=tokenizer\n",
    ")\n",
    "test_dataset = SpamDataset(\n",
    "    csv_file=\"test.csv\",\n",
    "    max_length=train_dataset.max_length,\n",
    "    tokenizer=tokenizer\n",
    ")"
   ],
   "metadata": {
    "colab": {
     "base_uri": "https://localhost:8080/"
    },
    "id": "GA62PJwSqkr5",
    "outputId": "499dfd1f-e16e-46a4-92b3-5c5b382fbe7e"
   },
   "execution_count": 14,
   "outputs": [
    {
     "output_type": "stream",
     "name": "stdout",
     "text": [
      "120\n"
     ]
    }
   ]
  },
  {
   "cell_type": "markdown",
   "source": [
    "- Now create DataLoaders:"
   ],
   "metadata": {
    "id": "dvDm6GZArZOq"
   }
  },
  {
   "cell_type": "code",
   "source": [
    "from torch.utils.data import DataLoader\n",
    "\n",
    "num_workers = 0\n",
    "batch_size = 8\n",
    "\n",
    "torch.manual_seed(211)\n",
    "\n",
    "\n",
    "train_loader = DataLoader(\n",
    "    dataset=train_dataset,\n",
    "    batch_size=batch_size,\n",
    "    shuffle=True,\n",
    "    num_workers=num_workers,\n",
    "    drop_last=True\n",
    ")\n",
    "\n",
    "val_loader = DataLoader(\n",
    "    dataset=val_dataset,\n",
    "    batch_size=batch_size,\n",
    "    num_workers=num_workers,\n",
    "    drop_last=False,\n",
    ")\n",
    "\n",
    "test_loader = DataLoader(\n",
    "    dataset=test_dataset,\n",
    "    batch_size=batch_size,\n",
    "    num_workers=num_workers,\n",
    "    drop_last=False,\n",
    ")"
   ],
   "metadata": {
    "id": "eiki1pBFq8KV"
   },
   "execution_count": 15,
   "outputs": []
  },
  {
   "cell_type": "code",
   "source": [
    "print(\"Train loader:\")\n",
    "for input_batch, target_batch in train_loader:\n",
    "    pass\n",
    "\n",
    "print(\"Input batch dimensions:\", input_batch.shape)\n",
    "print(\"Label batch dimensions\", target_batch.shape)"
   ],
   "metadata": {
    "colab": {
     "base_uri": "https://localhost:8080/"
    },
    "id": "Jz8xF2eDr-_O",
    "outputId": "2764fd68-9989-45ab-ca18-81e5f4037e48"
   },
   "execution_count": 16,
   "outputs": [
    {
     "output_type": "stream",
     "name": "stdout",
     "text": [
      "Train loader:\n",
      "Input batch dimensions: torch.Size([8, 120])\n",
      "Label batch dimensions torch.Size([8])\n"
     ]
    }
   ]
  },
  {
   "cell_type": "code",
   "source": [
    "print(f\"{len(train_loader)} training batches\")\n",
    "print(f\"{len(val_loader)} validation batches\")\n",
    "print(f\"{len(test_loader)} test batches\")"
   ],
   "metadata": {
    "colab": {
     "base_uri": "https://localhost:8080/"
    },
    "id": "UiYVLlY_sDVE",
    "outputId": "aecad709-c305-4064-897b-fd6381696e47"
   },
   "execution_count": 17,
   "outputs": [
    {
     "output_type": "stream",
     "name": "stdout",
     "text": [
      "130 training batches\n",
      "19 validation batches\n",
      "38 test batches\n"
     ]
    }
   ]
  },
  {
   "cell_type": "markdown",
   "source": [
    "# 3. Initializing a model with pretrained weights"
   ],
   "metadata": {
    "id": "ldmZ1tR6sO8D"
   }
  },
  {
   "cell_type": "markdown",
   "source": [
    "Let's reuse the code from the previous experiments:"
   ],
   "metadata": {
    "id": "cprS0YxEsu49"
   }
  },
  {
   "cell_type": "code",
   "source": [
    "CHOOSE_MODEL = \"gpt2-small (124M)\"\n",
    "INPUT_PROMPT = \"Every effort moves\"\n",
    "\n",
    "BASE_CONFIG = {\n",
    "    \"vocab_size\": 50257,     # Vocabulary size\n",
    "    \"context_length\": 1024,  # Context length\n",
    "    \"drop_rate\": 0.0,        # Dropout rate\n",
    "    \"qkv_bias\": True         # Query-key-value bias\n",
    "}\n",
    "\n",
    "model_configs = {\n",
    "    \"gpt2-small (124M)\": {\"emb_dim\": 768, \"n_layers\": 12, \"n_heads\": 12},\n",
    "    \"gpt2-medium (355M)\": {\"emb_dim\": 1024, \"n_layers\": 24, \"n_heads\": 16},\n",
    "    \"gpt2-large (774M)\": {\"emb_dim\": 1280, \"n_layers\": 36, \"n_heads\": 20},\n",
    "    \"gpt2-xl (1558M)\": {\"emb_dim\": 1600, \"n_layers\": 48, \"n_heads\": 25},\n",
    "}\n",
    "\n",
    "BASE_CONFIG.update(model_configs[CHOOSE_MODEL])\n",
    "\n",
    "assert train_dataset.max_length <= BASE_CONFIG[\"context_length\"], (\n",
    "    f\"Dataset length {train_dataset.max_length} exceeds model's context \"\n",
    "    f\"length {BASE_CONFIG['context_length']}. Reinitialize data sets with \"\n",
    "    f\"`max_length={BASE_CONFIG['context_length']}`\"\n",
    ")"
   ],
   "metadata": {
    "id": "qT-XfrsAsIRl"
   },
   "execution_count": 18,
   "outputs": []
  },
  {
   "cell_type": "code",
   "source": [
    "import urllib.request\n",
    "\n",
    "url = (\n",
    "    \"https://raw.githubusercontent.com/rasbt/\"\n",
    "    \"LLMs-from-scratch/main/ch05/\"\n",
    "    \"01_main-chapter-code/gpt_download.py\"\n",
    ")\n",
    "filename = url.split(\"/\")[-1]\n",
    "urllib.request.urlretrieve(url, filename)"
   ],
   "metadata": {
    "colab": {
     "base_uri": "https://localhost:8080/"
    },
    "id": "k2O4zR9ctGD2",
    "outputId": "967a53ec-fd49-4dd2-9bf1-2d8ef6d867da"
   },
   "execution_count": 19,
   "outputs": [
    {
     "output_type": "execute_result",
     "data": {
      "text/plain": [
       "('gpt_download.py', <http.client.HTTPMessage at 0x7cb2728314d0>)"
      ]
     },
     "metadata": {},
     "execution_count": 19
    }
   ]
  },
  {
   "cell_type": "code",
   "source": [
    "from gpt_download import download_and_load_gpt2\n",
    "import torch\n",
    "import torch.nn as nn\n",
    "import numpy as np\n",
    "\n",
    "\n",
    "\n",
    "class MultiHeadAttention(nn.Module):\n",
    "    def __init__(self,\n",
    "                 input_embedding_dim,\n",
    "                 output_embedding_dim,\n",
    "                 context_length,\n",
    "                 dropout,\n",
    "                 num_heads,\n",
    "                 qkv_bias=False):\n",
    "        super().__init__()\n",
    "        assert (output_embedding_dim % num_heads == 0), \\\n",
    "            \"output_embedding_dim must be divisible by num_heads\"\n",
    "\n",
    "        self.output_embedding_dim = output_embedding_dim\n",
    "        self.num_heads = num_heads\n",
    "        self.head_dim = output_embedding_dim // num_heads\n",
    "        self.W_query = nn.Linear(input_embedding_dim, output_embedding_dim,\n",
    "                                 bias=qkv_bias)\n",
    "        self.W_key = nn.Linear(input_embedding_dim, output_embedding_dim,\n",
    "                               bias=qkv_bias)\n",
    "        self.W_value = nn.Linear(input_embedding_dim, output_embedding_dim,\n",
    "                                 bias=qkv_bias)\n",
    "        self.output_projection = nn.Linear(output_embedding_dim,\n",
    "                                           output_embedding_dim)  # to combine head outputs\n",
    "        self.dropout = nn.Dropout(dropout)\n",
    "        self.register_buffer(\n",
    "            \"mask\",\n",
    "            torch.triu(torch.ones(context_length, context_length),\n",
    "                       diagonal=1))\n",
    "\n",
    "    def forward(self, inputs):\n",
    "        batch, num_tokens, input_embedding_dim = inputs.shape\n",
    "\n",
    "        # qkv shapes : (batch, num_tokens, output_embedding_dim)\n",
    "        keys = self.W_key(inputs)\n",
    "        values = self.W_value(inputs)\n",
    "        queries = self.W_query(inputs)\n",
    "\n",
    "        # qkv shapes : (batch, num_tokens, num_heads, head_dim)\n",
    "        keys = keys.view(batch, num_tokens, self.num_heads, self.head_dim)\n",
    "        values = values.view(batch, num_tokens, self.num_heads, self.head_dim)\n",
    "        queries = queries.view(batch, num_tokens, self.num_heads, self.head_dim)\n",
    "\n",
    "        # qkv shapes : (batch, num_heads, num_tokens, head_dim)\n",
    "        keys = keys.transpose(1, 2)\n",
    "        values = values.transpose(1, 2)\n",
    "        queries = queries.transpose(1, 2)\n",
    "\n",
    "        # compute attention scores for each head\n",
    "        attention_scores = queries @ keys.transpose(3, 2)\n",
    "        attention_scores.masked_fill_(\n",
    "            self.mask.bool()[:num_tokens, :num_tokens], - torch.inf)\n",
    "\n",
    "        # compute attention weights + dropout\n",
    "        masked_attention_weight = torch.softmax(\n",
    "            attention_scores / (keys.shape[-1] ** 0.5),\n",
    "            dim=-1)\n",
    "        masked_attention_dropout_weight = self.dropout(masked_attention_weight)\n",
    "\n",
    "        # compute context vectors\n",
    "        # shape : (batch, num_tokens, num_heads, head_dim)\n",
    "        context_vector = (masked_attention_dropout_weight @ values).transpose(1, 2)\n",
    "\n",
    "        # combine heads, where self.d_out = self.num_heads * self.head_dim\n",
    "        # shape : (batch, num_tokens, output_embedding_dim)\n",
    "        context_vector = context_vector.contiguous().view(\n",
    "            batch, num_tokens, self.output_embedding_dim)\n",
    "\n",
    "        # linear projection (optional)\n",
    "        context_vector = self.output_projection(context_vector)\n",
    "\n",
    "        return context_vector\n",
    "\n",
    "\n",
    "\n",
    "\n",
    "\n",
    "\n",
    "\n",
    "\n",
    "class LayerNorm(nn.Module):\n",
    "    def __init__(self, emb_dim):\n",
    "        super().__init__()\n",
    "        self.epsilon = 1e-5\n",
    "        self.scale = nn.Parameter(torch.ones(emb_dim))\n",
    "        self.shift = nn.Parameter(torch.zeros(emb_dim))\n",
    "\n",
    "    def forward(self, x):\n",
    "        mean = x.mean(dim=-1, keepdim=True)\n",
    "        var = x.var(dim=-1,\n",
    "                    unbiased=False,  # Bessel's correction (n-1)\n",
    "                    keepdim=True)\n",
    "        norm_x = (x - mean) / torch.sqrt(var + self.epsilon)\n",
    "        return self.scale * norm_x + self.shift\n",
    "\n",
    "\n",
    "class GELU(nn.Module):\n",
    "    def __init__(self):\n",
    "        super().__init__()\n",
    "\n",
    "    def forward(self, x):\n",
    "        return 0.5 * x * (1 + torch.tanh(\n",
    "            torch.sqrt(torch.tensor(2.0 / torch.pi)) *\n",
    "            (x + 0.044715 * torch.pow(x, 3))\n",
    "        ))\n",
    "\n",
    "\n",
    "class FeedForward(nn.Module):\n",
    "    def __init__(self, config):\n",
    "        super().__init__()\n",
    "        self.layers = nn.Sequential(\n",
    "            nn.Linear(config[\"emb_dim\"],  # 768\n",
    "                      4 * config[\"emb_dim\"]),  # 3072\n",
    "            GELU(),  # 3072\n",
    "            nn.Linear(4 * config[\"emb_dim\"],  # 3072\n",
    "                      config[\"emb_dim\"])  # 768\n",
    "        )\n",
    "\n",
    "    def forward(self, x):\n",
    "        return self.layers(x)\n",
    "\n",
    "\n",
    "class TransformerBlock(nn.Module):\n",
    "    def __init__(self, config):\n",
    "        super().__init__()\n",
    "        self.attention = MultiHeadAttention(input_embedding_dim=config[\"emb_dim\"],\n",
    "                                            output_embedding_dim=config[\"emb_dim\"],\n",
    "                                            context_length=config[\"context_length\"],\n",
    "                                            dropout=config[\"drop_rate\"],\n",
    "                                            num_heads=config[\"n_heads\"],\n",
    "                                            qkv_bias=config[\"qkv_bias\"])\n",
    "        self.feed_forward = FeedForward(config)\n",
    "        self.layer_norm1 = LayerNorm(config[\"emb_dim\"])\n",
    "        self.layer_norm2 = LayerNorm(config[\"emb_dim\"])\n",
    "        self.drop_skip = nn.Dropout(config[\"drop_rate\"])\n",
    "\n",
    "    def forward(self, x):\n",
    "        # skip connection for attention block\n",
    "        shortcut = x\n",
    "        x = self.layer_norm1(x)\n",
    "        x = self.attention(x)  # shape: [batch_size, num_tokens, emb_size]\n",
    "        x = self.drop_skip(x)\n",
    "        x = shortcut + x  # skip connection\n",
    "\n",
    "        # skip connection for feed forward block\n",
    "        shortcut = x\n",
    "        x = self.layer_norm2(x)\n",
    "        x = self.feed_forward(x)\n",
    "        x = self.drop_skip(x)\n",
    "        x = shortcut + x  # skip connection\n",
    "\n",
    "        return x\n",
    "\n",
    "\n",
    "class GPT2Model(nn.Module):\n",
    "    def __init__(self, config):\n",
    "        super().__init__()\n",
    "        self.token_emb = nn.Embedding(config[\"vocab_size\"],\n",
    "                                      config[\"emb_dim\"])\n",
    "        self.position_emb = nn.Embedding(config[\"context_length\"],\n",
    "                                         config[\"emb_dim\"])\n",
    "        self.drop_emb = nn.Dropout(config[\"drop_rate\"])\n",
    "\n",
    "        self.transformer_blocks = nn.Sequential(\n",
    "            *[TransformerBlock(config) for _ in range(config[\"n_layers\"])])\n",
    "\n",
    "        self.final_norm = LayerNorm(config[\"emb_dim\"])\n",
    "\n",
    "        self.out_head = nn.Linear(config[\"emb_dim\"],\n",
    "                                  config[\"vocab_size\"],\n",
    "                                  bias=False)\n",
    "\n",
    "    def forward(self, input_token):\n",
    "        batch_size, sequence_length = input_token.shape\n",
    "        token_embeds = self.token_emb(input_token)\n",
    "        position_embeds = self.position_emb(\n",
    "            torch.arange(sequence_length,\n",
    "                         device=input_token.device))\n",
    "        embeds = token_embeds + position_embeds\n",
    "        x = self.drop_emb(embeds)\n",
    "        x = self.transformer_blocks(x)\n",
    "        x = self.final_norm(x)\n",
    "        logits = self.out_head(x)\n",
    "        return logits\n",
    "\n",
    "\n",
    "\n",
    "\n",
    "\n",
    "def assign(left, right):\n",
    "    if left.shape != right.shape:\n",
    "        raise ValueError(f\"Shape mismatch. Left: {left.shape}, Right: {right.shape}\")\n",
    "    return torch.nn.Parameter(torch.tensor(right))\n",
    "\n",
    "\n",
    "def load_weights_into_gpt(gpt, params):\n",
    "    gpt.position_emb.weight = assign(gpt.position_emb.weight, params['wpe'])\n",
    "    gpt.token_emb.weight = assign(gpt.token_emb.weight, params['wte'])\n",
    "\n",
    "    for b in range(len(params[\"blocks\"])):\n",
    "        q_w, k_w, v_w = np.split(\n",
    "            (params[\"blocks\"][b][\"attn\"][\"c_attn\"])[\"w\"], 3, axis=-1)\n",
    "        gpt.transformer_blocks[b].attention.W_query.weight = assign(\n",
    "            gpt.transformer_blocks[b].attention.W_query.weight, q_w.T)\n",
    "        gpt.transformer_blocks[b].attention.W_key.weight = assign(\n",
    "            gpt.transformer_blocks[b].attention.W_key.weight, k_w.T)\n",
    "        gpt.transformer_blocks[b].attention.W_value.weight = assign(\n",
    "            gpt.transformer_blocks[b].attention.W_value.weight, v_w.T)\n",
    "\n",
    "        q_b, k_b, v_b = np.split(\n",
    "            (params[\"blocks\"][b][\"attn\"][\"c_attn\"])[\"b\"], 3, axis=-1)\n",
    "        gpt.transformer_blocks[b].attention.W_query.bias = assign(\n",
    "            gpt.transformer_blocks[b].attention.W_query.bias, q_b)\n",
    "        gpt.transformer_blocks[b].attention.W_key.bias = assign(\n",
    "            gpt.transformer_blocks[b].attention.W_key.bias, k_b)\n",
    "        gpt.transformer_blocks[b].attention.W_value.bias = assign(\n",
    "            gpt.transformer_blocks[b].attention.W_value.bias, v_b)\n",
    "\n",
    "        gpt.transformer_blocks[b].attention.output_projection.weight = assign(\n",
    "            gpt.transformer_blocks[b].attention.output_projection.weight,\n",
    "            params[\"blocks\"][b][\"attn\"][\"c_proj\"][\"w\"].T)\n",
    "        gpt.transformer_blocks[b].attention.output_projection.bias = assign(\n",
    "            gpt.transformer_blocks[b].attention.output_projection.bias,\n",
    "            params[\"blocks\"][b][\"attn\"][\"c_proj\"][\"b\"])\n",
    "\n",
    "        gpt.transformer_blocks[b].feed_forward.layers[0].weight = assign(\n",
    "            gpt.transformer_blocks[b].feed_forward.layers[0].weight,\n",
    "            params[\"blocks\"][b][\"mlp\"][\"c_fc\"][\"w\"].T)\n",
    "        gpt.transformer_blocks[b].feed_forward.layers[0].bias = assign(\n",
    "            gpt.transformer_blocks[b].feed_forward.layers[0].bias,\n",
    "            params[\"blocks\"][b][\"mlp\"][\"c_fc\"][\"b\"])\n",
    "        gpt.transformer_blocks[b].feed_forward.layers[2].weight = assign(\n",
    "            gpt.transformer_blocks[b].feed_forward.layers[2].weight,\n",
    "            params[\"blocks\"][b][\"mlp\"][\"c_proj\"][\"w\"].T)\n",
    "        gpt.transformer_blocks[b].feed_forward.layers[2].bias = assign(\n",
    "            gpt.transformer_blocks[b].feed_forward.layers[2].bias,\n",
    "            params[\"blocks\"][b][\"mlp\"][\"c_proj\"][\"b\"])\n",
    "\n",
    "        gpt.transformer_blocks[b].layer_norm1.scale = assign(\n",
    "            gpt.transformer_blocks[b].layer_norm1.scale,\n",
    "            params[\"blocks\"][b][\"ln_1\"][\"g\"])\n",
    "        gpt.transformer_blocks[b].layer_norm1.shift = assign(\n",
    "            gpt.transformer_blocks[b].layer_norm1.shift,\n",
    "            params[\"blocks\"][b][\"ln_1\"][\"b\"])\n",
    "        gpt.transformer_blocks[b].layer_norm2.scale = assign(\n",
    "            gpt.transformer_blocks[b].layer_norm2.scale,\n",
    "            params[\"blocks\"][b][\"ln_2\"][\"g\"])\n",
    "        gpt.transformer_blocks[b].layer_norm2.shift = assign(\n",
    "            gpt.transformer_blocks[b].layer_norm2.shift,\n",
    "            params[\"blocks\"][b][\"ln_2\"][\"b\"])\n",
    "\n",
    "    gpt.final_norm.scale = assign(gpt.final_norm.scale, params[\"g\"])\n",
    "    gpt.final_norm.shift = assign(gpt.final_norm.shift, params[\"b\"])\n",
    "    gpt.out_head.weight = assign(gpt.out_head.weight, params[\"wte\"])"
   ],
   "metadata": {
    "id": "Tn4DFaAguVCG"
   },
   "execution_count": 20,
   "outputs": []
  },
  {
   "cell_type": "code",
   "source": [
    "model_size = CHOOSE_MODEL.split(\" \")[-1].lstrip(\"(\").rstrip(\")\")\n",
    "model_size"
   ],
   "metadata": {
    "colab": {
     "base_uri": "https://localhost:8080/",
     "height": 36
    },
    "id": "lXIqfZesvE1c",
    "outputId": "567aba62-570c-45c6-f653-7ddb4eaa2162"
   },
   "execution_count": 21,
   "outputs": [
    {
     "output_type": "execute_result",
     "data": {
      "text/plain": [
       "'124M'"
      ],
      "application/vnd.google.colaboratory.intrinsic+json": {
       "type": "string"
      }
     },
     "metadata": {},
     "execution_count": 21
    }
   ]
  },
  {
   "cell_type": "code",
   "source": [
    "settings, params = download_and_load_gpt2(model_size=model_size, models_dir=\"gpt2\")\n",
    "print(settings)\n",
    "print(params.keys())"
   ],
   "metadata": {
    "colab": {
     "base_uri": "https://localhost:8080/"
    },
    "id": "nRibV0axvJLr",
    "outputId": "365b04ba-5442-4f8b-cbd8-160610375bf4"
   },
   "execution_count": 22,
   "outputs": [
    {
     "output_type": "stream",
     "name": "stdout",
     "text": [
      "File already exists and is up-to-date: gpt2/124M/checkpoint\n",
      "File already exists and is up-to-date: gpt2/124M/encoder.json\n",
      "File already exists and is up-to-date: gpt2/124M/hparams.json\n",
      "File already exists and is up-to-date: gpt2/124M/model.ckpt.data-00000-of-00001\n",
      "File already exists and is up-to-date: gpt2/124M/model.ckpt.index\n",
      "File already exists and is up-to-date: gpt2/124M/model.ckpt.meta\n",
      "File already exists and is up-to-date: gpt2/124M/vocab.bpe\n",
      "{'n_vocab': 50257, 'n_ctx': 1024, 'n_embd': 768, 'n_head': 12, 'n_layer': 12}\n",
      "dict_keys(['blocks', 'b', 'g', 'wpe', 'wte'])\n"
     ]
    }
   ]
  },
  {
   "cell_type": "code",
   "source": [
    "model = GPT2Model(BASE_CONFIG)\n",
    "load_weights_into_gpt(model, params)\n",
    "model.eval();"
   ],
   "metadata": {
    "id": "wU3U7PuOvTO3"
   },
   "execution_count": 23,
   "outputs": []
  },
  {
   "cell_type": "markdown",
   "source": [
    "- Let's check whether the model generates coherent text:"
   ],
   "metadata": {
    "id": "lJ53X0mCwH_p"
   }
  },
  {
   "cell_type": "code",
   "source": [
    "import tiktoken\n",
    "\n",
    "def text_to_token_ids(text, tokenizer):\n",
    "  encoded = tokenizer.encode(text, allowed_special={\"<|endoftext|>\"})\n",
    "\n",
    "  # turn the list of token IDs into tensor with batch dimension\n",
    "  encoded_tensor = torch.tensor(encoded).unsqueeze(0)\n",
    "  return encoded_tensor\n",
    "\n",
    "def token_ids_to_text(encoded_tensor, tokenizer):\n",
    "  # turn tensor without batch dimension to list\n",
    "  token_ids = encoded_tensor.squeeze(0).tolist()\n",
    "  text = tokenizer.decode(token_ids)\n",
    "  return text\n",
    "\n",
    "\n",
    "def generate_text(model,\n",
    "                  input_batch,\n",
    "                  max_new_tokens,\n",
    "                  context_size,\n",
    "                  temperature=0.0,\n",
    "                  top_k=None,\n",
    "                  eos_id=None):\n",
    "  for _ in range(max_new_tokens):\n",
    "    # crop current context if it exceeds the supported context_size\n",
    "    crop_input_batch = input_batch[:, -context_size:]\n",
    "\n",
    "    # predict next token\n",
    "    with torch.no_grad():\n",
    "      logits = model(crop_input_batch)\n",
    "\n",
    "    # consider only logits of the last token\n",
    "    logits = logits[:, -1, :] # (batch, n_tokens, vocab_size) -> (batch, vocab_size)\n",
    "\n",
    "    # NEW: filter logits with top_k sampling\n",
    "    if top_k is not None:\n",
    "      # keep only top_k values\n",
    "      top_logits, _ = torch.topk(logits, top_k)\n",
    "      min_val = top_logits[:, -1] # min value among the top_k values\n",
    "      # all values other than top_k values will be set to -inf\n",
    "      logits = torch.where(logits < min_val,\n",
    "                           torch.tensor(-torch.inf).to(logits.device),\n",
    "                           logits)\n",
    "\n",
    "    # NEW: temperature scaling\n",
    "    if temperature > 0.0:\n",
    "      logits = logits / temperature\n",
    "\n",
    "      probas = torch.softmax(logits, dim=-1) # (batch, vocab_size)\n",
    "      predicted_tokens = torch.multinomial(probas, num_samples=1) # (batch, 1)\n",
    "\n",
    "    else: # same as before\n",
    "      #probas = torch.softmax(logits, dim=-1) # (batch, vocab_size)\n",
    "      predicted_tokens = torch.argmax(logits, dim=-1, keepdim=True) # (batch, 1)\n",
    "\n",
    "    if predicted_tokens == eos_id:  # Stop generating early if end-of-sequence token is encountered and eos_id is specified\n",
    "            break\n",
    "\n",
    "    # update input_batch (append predicted tokens to the sequences)\n",
    "    input_batch = torch.cat([input_batch, predicted_tokens], dim=1) # [batch, num_tokens+1]\n",
    "\n",
    "  return input_batch"
   ],
   "metadata": {
    "id": "GTCm3BByvvju"
   },
   "execution_count": 24,
   "outputs": []
  },
  {
   "cell_type": "code",
   "source": [
    "text_1 = \"In the midst of winter\"\n",
    "\n",
    "token_ids = generate_text(\n",
    "    model=model,\n",
    "    input_batch=text_to_token_ids(text_1, tokenizer),\n",
    "    max_new_tokens=50,\n",
    "    context_size=BASE_CONFIG[\"context_length\"],\n",
    "    temperature = 2.0,\n",
    "    top_k = 10\n",
    ")\n",
    "\n",
    "print(token_ids_to_text(token_ids, tokenizer))"
   ],
   "metadata": {
    "colab": {
     "base_uri": "https://localhost:8080/"
    },
    "id": "ejkpoLYlw6gM",
    "outputId": "7689ab71-c600-4c69-b95a-dfe6d1e287c5"
   },
   "execution_count": 25,
   "outputs": [
    {
     "output_type": "stream",
     "name": "stdout",
     "text": [
      "In the midst of winter break I was sitting with two friends who I would call friends and would say 'I love you so so much. It's been really nice to see that you guys care.' It's been really nice for the rest of us.\" She's not exactly\n"
     ]
    }
   ]
  },
  {
   "metadata": {},
   "cell_type": "markdown",
   "source": ""
  },
  {
   "cell_type": "markdown",
   "source": [
    "- before finetuning, let's see whether the model can classify spam messages via prompting:"
   ],
   "metadata": {
    "id": "aSfkozntxq1t"
   }
  },
  {
   "cell_type": "code",
   "source": [
    "text_2 = (\n",
    "    \"Is the following text 'spam'? Answer with 'yes' or 'no':\"\n",
    "    \" 'You are a winner you have been specially\"\n",
    "    \" selected to receive $1000 cash or a $2000 award.'\"\n",
    ")\n",
    "\n",
    "token_ids = generate_text(\n",
    "    model=model,\n",
    "    input_batch=text_to_token_ids(text_2, tokenizer),\n",
    "    max_new_tokens=23,\n",
    "    context_size=BASE_CONFIG[\"context_length\"]\n",
    ")\n",
    "\n",
    "print(token_ids_to_text(token_ids, tokenizer))"
   ],
   "metadata": {
    "colab": {
     "base_uri": "https://localhost:8080/"
    },
    "id": "gnPpUebPxVNP",
    "outputId": "48dba05d-10fb-4cae-a55b-47eb38e20376"
   },
   "execution_count": 26,
   "outputs": [
    {
     "output_type": "stream",
     "name": "stdout",
     "text": [
      "Is the following text 'spam'? Answer with 'yes' or 'no': 'You are a winner you have been specially selected to receive $1000 cash or a $2000 award.'\n",
      "\n",
      "The following text 'spam'? Answer with 'yes' or 'no': 'You are a winner\n"
     ]
    }
   ]
  },
  {
   "cell_type": "markdown",
   "source": [
    "# 5. Adding a classification head"
   ],
   "metadata": {
    "id": "0BLzwF-gyJv8"
   }
  },
  {
   "cell_type": "code",
   "source": [
    "print(model)"
   ],
   "metadata": {
    "colab": {
     "base_uri": "https://localhost:8080/"
    },
    "id": "B5DoN51Ux_QS",
    "outputId": "736e811b-c7be-4f0c-c665-a8f6fb04af62"
   },
   "execution_count": 27,
   "outputs": [
    {
     "output_type": "stream",
     "name": "stdout",
     "text": [
      "GPT2Model(\n",
      "  (token_emb): Embedding(50257, 768)\n",
      "  (position_emb): Embedding(1024, 768)\n",
      "  (drop_emb): Dropout(p=0.0, inplace=False)\n",
      "  (transformer_blocks): Sequential(\n",
      "    (0): TransformerBlock(\n",
      "      (attention): MultiHeadAttention(\n",
      "        (W_query): Linear(in_features=768, out_features=768, bias=True)\n",
      "        (W_key): Linear(in_features=768, out_features=768, bias=True)\n",
      "        (W_value): Linear(in_features=768, out_features=768, bias=True)\n",
      "        (output_projection): Linear(in_features=768, out_features=768, bias=True)\n",
      "        (dropout): Dropout(p=0.0, inplace=False)\n",
      "      )\n",
      "      (feed_forward): FeedForward(\n",
      "        (layers): Sequential(\n",
      "          (0): Linear(in_features=768, out_features=3072, bias=True)\n",
      "          (1): GELU()\n",
      "          (2): Linear(in_features=3072, out_features=768, bias=True)\n",
      "        )\n",
      "      )\n",
      "      (layer_norm1): LayerNorm()\n",
      "      (layer_norm2): LayerNorm()\n",
      "      (drop_skip): Dropout(p=0.0, inplace=False)\n",
      "    )\n",
      "    (1): TransformerBlock(\n",
      "      (attention): MultiHeadAttention(\n",
      "        (W_query): Linear(in_features=768, out_features=768, bias=True)\n",
      "        (W_key): Linear(in_features=768, out_features=768, bias=True)\n",
      "        (W_value): Linear(in_features=768, out_features=768, bias=True)\n",
      "        (output_projection): Linear(in_features=768, out_features=768, bias=True)\n",
      "        (dropout): Dropout(p=0.0, inplace=False)\n",
      "      )\n",
      "      (feed_forward): FeedForward(\n",
      "        (layers): Sequential(\n",
      "          (0): Linear(in_features=768, out_features=3072, bias=True)\n",
      "          (1): GELU()\n",
      "          (2): Linear(in_features=3072, out_features=768, bias=True)\n",
      "        )\n",
      "      )\n",
      "      (layer_norm1): LayerNorm()\n",
      "      (layer_norm2): LayerNorm()\n",
      "      (drop_skip): Dropout(p=0.0, inplace=False)\n",
      "    )\n",
      "    (2): TransformerBlock(\n",
      "      (attention): MultiHeadAttention(\n",
      "        (W_query): Linear(in_features=768, out_features=768, bias=True)\n",
      "        (W_key): Linear(in_features=768, out_features=768, bias=True)\n",
      "        (W_value): Linear(in_features=768, out_features=768, bias=True)\n",
      "        (output_projection): Linear(in_features=768, out_features=768, bias=True)\n",
      "        (dropout): Dropout(p=0.0, inplace=False)\n",
      "      )\n",
      "      (feed_forward): FeedForward(\n",
      "        (layers): Sequential(\n",
      "          (0): Linear(in_features=768, out_features=3072, bias=True)\n",
      "          (1): GELU()\n",
      "          (2): Linear(in_features=3072, out_features=768, bias=True)\n",
      "        )\n",
      "      )\n",
      "      (layer_norm1): LayerNorm()\n",
      "      (layer_norm2): LayerNorm()\n",
      "      (drop_skip): Dropout(p=0.0, inplace=False)\n",
      "    )\n",
      "    (3): TransformerBlock(\n",
      "      (attention): MultiHeadAttention(\n",
      "        (W_query): Linear(in_features=768, out_features=768, bias=True)\n",
      "        (W_key): Linear(in_features=768, out_features=768, bias=True)\n",
      "        (W_value): Linear(in_features=768, out_features=768, bias=True)\n",
      "        (output_projection): Linear(in_features=768, out_features=768, bias=True)\n",
      "        (dropout): Dropout(p=0.0, inplace=False)\n",
      "      )\n",
      "      (feed_forward): FeedForward(\n",
      "        (layers): Sequential(\n",
      "          (0): Linear(in_features=768, out_features=3072, bias=True)\n",
      "          (1): GELU()\n",
      "          (2): Linear(in_features=3072, out_features=768, bias=True)\n",
      "        )\n",
      "      )\n",
      "      (layer_norm1): LayerNorm()\n",
      "      (layer_norm2): LayerNorm()\n",
      "      (drop_skip): Dropout(p=0.0, inplace=False)\n",
      "    )\n",
      "    (4): TransformerBlock(\n",
      "      (attention): MultiHeadAttention(\n",
      "        (W_query): Linear(in_features=768, out_features=768, bias=True)\n",
      "        (W_key): Linear(in_features=768, out_features=768, bias=True)\n",
      "        (W_value): Linear(in_features=768, out_features=768, bias=True)\n",
      "        (output_projection): Linear(in_features=768, out_features=768, bias=True)\n",
      "        (dropout): Dropout(p=0.0, inplace=False)\n",
      "      )\n",
      "      (feed_forward): FeedForward(\n",
      "        (layers): Sequential(\n",
      "          (0): Linear(in_features=768, out_features=3072, bias=True)\n",
      "          (1): GELU()\n",
      "          (2): Linear(in_features=3072, out_features=768, bias=True)\n",
      "        )\n",
      "      )\n",
      "      (layer_norm1): LayerNorm()\n",
      "      (layer_norm2): LayerNorm()\n",
      "      (drop_skip): Dropout(p=0.0, inplace=False)\n",
      "    )\n",
      "    (5): TransformerBlock(\n",
      "      (attention): MultiHeadAttention(\n",
      "        (W_query): Linear(in_features=768, out_features=768, bias=True)\n",
      "        (W_key): Linear(in_features=768, out_features=768, bias=True)\n",
      "        (W_value): Linear(in_features=768, out_features=768, bias=True)\n",
      "        (output_projection): Linear(in_features=768, out_features=768, bias=True)\n",
      "        (dropout): Dropout(p=0.0, inplace=False)\n",
      "      )\n",
      "      (feed_forward): FeedForward(\n",
      "        (layers): Sequential(\n",
      "          (0): Linear(in_features=768, out_features=3072, bias=True)\n",
      "          (1): GELU()\n",
      "          (2): Linear(in_features=3072, out_features=768, bias=True)\n",
      "        )\n",
      "      )\n",
      "      (layer_norm1): LayerNorm()\n",
      "      (layer_norm2): LayerNorm()\n",
      "      (drop_skip): Dropout(p=0.0, inplace=False)\n",
      "    )\n",
      "    (6): TransformerBlock(\n",
      "      (attention): MultiHeadAttention(\n",
      "        (W_query): Linear(in_features=768, out_features=768, bias=True)\n",
      "        (W_key): Linear(in_features=768, out_features=768, bias=True)\n",
      "        (W_value): Linear(in_features=768, out_features=768, bias=True)\n",
      "        (output_projection): Linear(in_features=768, out_features=768, bias=True)\n",
      "        (dropout): Dropout(p=0.0, inplace=False)\n",
      "      )\n",
      "      (feed_forward): FeedForward(\n",
      "        (layers): Sequential(\n",
      "          (0): Linear(in_features=768, out_features=3072, bias=True)\n",
      "          (1): GELU()\n",
      "          (2): Linear(in_features=3072, out_features=768, bias=True)\n",
      "        )\n",
      "      )\n",
      "      (layer_norm1): LayerNorm()\n",
      "      (layer_norm2): LayerNorm()\n",
      "      (drop_skip): Dropout(p=0.0, inplace=False)\n",
      "    )\n",
      "    (7): TransformerBlock(\n",
      "      (attention): MultiHeadAttention(\n",
      "        (W_query): Linear(in_features=768, out_features=768, bias=True)\n",
      "        (W_key): Linear(in_features=768, out_features=768, bias=True)\n",
      "        (W_value): Linear(in_features=768, out_features=768, bias=True)\n",
      "        (output_projection): Linear(in_features=768, out_features=768, bias=True)\n",
      "        (dropout): Dropout(p=0.0, inplace=False)\n",
      "      )\n",
      "      (feed_forward): FeedForward(\n",
      "        (layers): Sequential(\n",
      "          (0): Linear(in_features=768, out_features=3072, bias=True)\n",
      "          (1): GELU()\n",
      "          (2): Linear(in_features=3072, out_features=768, bias=True)\n",
      "        )\n",
      "      )\n",
      "      (layer_norm1): LayerNorm()\n",
      "      (layer_norm2): LayerNorm()\n",
      "      (drop_skip): Dropout(p=0.0, inplace=False)\n",
      "    )\n",
      "    (8): TransformerBlock(\n",
      "      (attention): MultiHeadAttention(\n",
      "        (W_query): Linear(in_features=768, out_features=768, bias=True)\n",
      "        (W_key): Linear(in_features=768, out_features=768, bias=True)\n",
      "        (W_value): Linear(in_features=768, out_features=768, bias=True)\n",
      "        (output_projection): Linear(in_features=768, out_features=768, bias=True)\n",
      "        (dropout): Dropout(p=0.0, inplace=False)\n",
      "      )\n",
      "      (feed_forward): FeedForward(\n",
      "        (layers): Sequential(\n",
      "          (0): Linear(in_features=768, out_features=3072, bias=True)\n",
      "          (1): GELU()\n",
      "          (2): Linear(in_features=3072, out_features=768, bias=True)\n",
      "        )\n",
      "      )\n",
      "      (layer_norm1): LayerNorm()\n",
      "      (layer_norm2): LayerNorm()\n",
      "      (drop_skip): Dropout(p=0.0, inplace=False)\n",
      "    )\n",
      "    (9): TransformerBlock(\n",
      "      (attention): MultiHeadAttention(\n",
      "        (W_query): Linear(in_features=768, out_features=768, bias=True)\n",
      "        (W_key): Linear(in_features=768, out_features=768, bias=True)\n",
      "        (W_value): Linear(in_features=768, out_features=768, bias=True)\n",
      "        (output_projection): Linear(in_features=768, out_features=768, bias=True)\n",
      "        (dropout): Dropout(p=0.0, inplace=False)\n",
      "      )\n",
      "      (feed_forward): FeedForward(\n",
      "        (layers): Sequential(\n",
      "          (0): Linear(in_features=768, out_features=3072, bias=True)\n",
      "          (1): GELU()\n",
      "          (2): Linear(in_features=3072, out_features=768, bias=True)\n",
      "        )\n",
      "      )\n",
      "      (layer_norm1): LayerNorm()\n",
      "      (layer_norm2): LayerNorm()\n",
      "      (drop_skip): Dropout(p=0.0, inplace=False)\n",
      "    )\n",
      "    (10): TransformerBlock(\n",
      "      (attention): MultiHeadAttention(\n",
      "        (W_query): Linear(in_features=768, out_features=768, bias=True)\n",
      "        (W_key): Linear(in_features=768, out_features=768, bias=True)\n",
      "        (W_value): Linear(in_features=768, out_features=768, bias=True)\n",
      "        (output_projection): Linear(in_features=768, out_features=768, bias=True)\n",
      "        (dropout): Dropout(p=0.0, inplace=False)\n",
      "      )\n",
      "      (feed_forward): FeedForward(\n",
      "        (layers): Sequential(\n",
      "          (0): Linear(in_features=768, out_features=3072, bias=True)\n",
      "          (1): GELU()\n",
      "          (2): Linear(in_features=3072, out_features=768, bias=True)\n",
      "        )\n",
      "      )\n",
      "      (layer_norm1): LayerNorm()\n",
      "      (layer_norm2): LayerNorm()\n",
      "      (drop_skip): Dropout(p=0.0, inplace=False)\n",
      "    )\n",
      "    (11): TransformerBlock(\n",
      "      (attention): MultiHeadAttention(\n",
      "        (W_query): Linear(in_features=768, out_features=768, bias=True)\n",
      "        (W_key): Linear(in_features=768, out_features=768, bias=True)\n",
      "        (W_value): Linear(in_features=768, out_features=768, bias=True)\n",
      "        (output_projection): Linear(in_features=768, out_features=768, bias=True)\n",
      "        (dropout): Dropout(p=0.0, inplace=False)\n",
      "      )\n",
      "      (feed_forward): FeedForward(\n",
      "        (layers): Sequential(\n",
      "          (0): Linear(in_features=768, out_features=3072, bias=True)\n",
      "          (1): GELU()\n",
      "          (2): Linear(in_features=3072, out_features=768, bias=True)\n",
      "        )\n",
      "      )\n",
      "      (layer_norm1): LayerNorm()\n",
      "      (layer_norm2): LayerNorm()\n",
      "      (drop_skip): Dropout(p=0.0, inplace=False)\n",
      "    )\n",
      "  )\n",
      "  (final_norm): LayerNorm()\n",
      "  (out_head): Linear(in_features=768, out_features=50257, bias=False)\n",
      ")\n"
     ]
    }
   ]
  },
  {
   "cell_type": "code",
   "source": [
    "!pip install torchinfo"
   ],
   "metadata": {
    "colab": {
     "base_uri": "https://localhost:8080/"
    },
    "id": "JXuj95yeeagD",
    "outputId": "e14bf8f4-1541-440d-bc64-144b8f6065bc"
   },
   "execution_count": 28,
   "outputs": [
    {
     "output_type": "stream",
     "name": "stdout",
     "text": [
      "Requirement already satisfied: torchinfo in /usr/local/lib/python3.11/dist-packages (1.8.0)\n"
     ]
    }
   ]
  },
  {
   "cell_type": "code",
   "source": [
    "from torchinfo import summary\n",
    "\n",
    "summary(\n",
    "    model,\n",
    "    input_size=(1, BASE_CONFIG[\"context_length\"]),      # (batch, seq_len)\n",
    "    dtypes=[torch.long],                                # token IDs are int64\n",
    "    col_names=(\"input_size\", \"output_size\", \"num_params\", \"trainable\"),\n",
    "    row_settings=(\"depth\", \"var_names\"),                # valid row options\n",
    "    device=\"cuda\" if torch.cuda.is_available() else \"cpu\",\n",
    ")"
   ],
   "metadata": {
    "colab": {
     "base_uri": "https://localhost:8080/"
    },
    "id": "RsyEcxZ62MQk",
    "outputId": "388889e3-b795-4403-9af9-05a175eac213"
   },
   "execution_count": 29,
   "outputs": [
    {
     "output_type": "execute_result",
     "data": {
      "text/plain": [
       "===========================================================================================================================================================\n",
       "Layer (type (var_name):depth-idx)                       Input Shape               Output Shape              Param #                   Trainable\n",
       "===========================================================================================================================================================\n",
       "GPT2Model (GPT2Model)                                   [1, 1024]                 [1, 1024, 50257]          --                        True\n",
       "├─Embedding (token_emb): 1-1                            [1, 1024]                 [1, 1024, 768]            38,597,376                True\n",
       "├─Embedding (position_emb): 1-2                         [1024]                    [1024, 768]               786,432                   True\n",
       "├─Dropout (drop_emb): 1-3                               [1, 1024, 768]            [1, 1024, 768]            --                        --\n",
       "├─Sequential (transformer_blocks): 1-4                  [1, 1024, 768]            [1, 1024, 768]            --                        True\n",
       "│    └─TransformerBlock (0): 2-1                        [1, 1024, 768]            [1, 1024, 768]            --                        True\n",
       "│    │    └─LayerNorm (layer_norm1): 3-1                [1, 1024, 768]            [1, 1024, 768]            1,536                     True\n",
       "│    │    └─MultiHeadAttention (attention): 3-2         [1, 1024, 768]            [1, 1024, 768]            2,362,368                 True\n",
       "│    │    └─Dropout (drop_skip): 3-3                    [1, 1024, 768]            [1, 1024, 768]            --                        --\n",
       "│    │    └─LayerNorm (layer_norm2): 3-4                [1, 1024, 768]            [1, 1024, 768]            1,536                     True\n",
       "│    │    └─FeedForward (feed_forward): 3-5             [1, 1024, 768]            [1, 1024, 768]            4,722,432                 True\n",
       "│    │    └─Dropout (drop_skip): 3-6                    [1, 1024, 768]            [1, 1024, 768]            --                        --\n",
       "│    └─TransformerBlock (1): 2-2                        [1, 1024, 768]            [1, 1024, 768]            --                        True\n",
       "│    │    └─LayerNorm (layer_norm1): 3-7                [1, 1024, 768]            [1, 1024, 768]            1,536                     True\n",
       "│    │    └─MultiHeadAttention (attention): 3-8         [1, 1024, 768]            [1, 1024, 768]            2,362,368                 True\n",
       "│    │    └─Dropout (drop_skip): 3-9                    [1, 1024, 768]            [1, 1024, 768]            --                        --\n",
       "│    │    └─LayerNorm (layer_norm2): 3-10               [1, 1024, 768]            [1, 1024, 768]            1,536                     True\n",
       "│    │    └─FeedForward (feed_forward): 3-11            [1, 1024, 768]            [1, 1024, 768]            4,722,432                 True\n",
       "│    │    └─Dropout (drop_skip): 3-12                   [1, 1024, 768]            [1, 1024, 768]            --                        --\n",
       "│    └─TransformerBlock (2): 2-3                        [1, 1024, 768]            [1, 1024, 768]            --                        True\n",
       "│    │    └─LayerNorm (layer_norm1): 3-13               [1, 1024, 768]            [1, 1024, 768]            1,536                     True\n",
       "│    │    └─MultiHeadAttention (attention): 3-14        [1, 1024, 768]            [1, 1024, 768]            2,362,368                 True\n",
       "│    │    └─Dropout (drop_skip): 3-15                   [1, 1024, 768]            [1, 1024, 768]            --                        --\n",
       "│    │    └─LayerNorm (layer_norm2): 3-16               [1, 1024, 768]            [1, 1024, 768]            1,536                     True\n",
       "│    │    └─FeedForward (feed_forward): 3-17            [1, 1024, 768]            [1, 1024, 768]            4,722,432                 True\n",
       "│    │    └─Dropout (drop_skip): 3-18                   [1, 1024, 768]            [1, 1024, 768]            --                        --\n",
       "│    └─TransformerBlock (3): 2-4                        [1, 1024, 768]            [1, 1024, 768]            --                        True\n",
       "│    │    └─LayerNorm (layer_norm1): 3-19               [1, 1024, 768]            [1, 1024, 768]            1,536                     True\n",
       "│    │    └─MultiHeadAttention (attention): 3-20        [1, 1024, 768]            [1, 1024, 768]            2,362,368                 True\n",
       "│    │    └─Dropout (drop_skip): 3-21                   [1, 1024, 768]            [1, 1024, 768]            --                        --\n",
       "│    │    └─LayerNorm (layer_norm2): 3-22               [1, 1024, 768]            [1, 1024, 768]            1,536                     True\n",
       "│    │    └─FeedForward (feed_forward): 3-23            [1, 1024, 768]            [1, 1024, 768]            4,722,432                 True\n",
       "│    │    └─Dropout (drop_skip): 3-24                   [1, 1024, 768]            [1, 1024, 768]            --                        --\n",
       "│    └─TransformerBlock (4): 2-5                        [1, 1024, 768]            [1, 1024, 768]            --                        True\n",
       "│    │    └─LayerNorm (layer_norm1): 3-25               [1, 1024, 768]            [1, 1024, 768]            1,536                     True\n",
       "│    │    └─MultiHeadAttention (attention): 3-26        [1, 1024, 768]            [1, 1024, 768]            2,362,368                 True\n",
       "│    │    └─Dropout (drop_skip): 3-27                   [1, 1024, 768]            [1, 1024, 768]            --                        --\n",
       "│    │    └─LayerNorm (layer_norm2): 3-28               [1, 1024, 768]            [1, 1024, 768]            1,536                     True\n",
       "│    │    └─FeedForward (feed_forward): 3-29            [1, 1024, 768]            [1, 1024, 768]            4,722,432                 True\n",
       "│    │    └─Dropout (drop_skip): 3-30                   [1, 1024, 768]            [1, 1024, 768]            --                        --\n",
       "│    └─TransformerBlock (5): 2-6                        [1, 1024, 768]            [1, 1024, 768]            --                        True\n",
       "│    │    └─LayerNorm (layer_norm1): 3-31               [1, 1024, 768]            [1, 1024, 768]            1,536                     True\n",
       "│    │    └─MultiHeadAttention (attention): 3-32        [1, 1024, 768]            [1, 1024, 768]            2,362,368                 True\n",
       "│    │    └─Dropout (drop_skip): 3-33                   [1, 1024, 768]            [1, 1024, 768]            --                        --\n",
       "│    │    └─LayerNorm (layer_norm2): 3-34               [1, 1024, 768]            [1, 1024, 768]            1,536                     True\n",
       "│    │    └─FeedForward (feed_forward): 3-35            [1, 1024, 768]            [1, 1024, 768]            4,722,432                 True\n",
       "│    │    └─Dropout (drop_skip): 3-36                   [1, 1024, 768]            [1, 1024, 768]            --                        --\n",
       "│    └─TransformerBlock (6): 2-7                        [1, 1024, 768]            [1, 1024, 768]            --                        True\n",
       "│    │    └─LayerNorm (layer_norm1): 3-37               [1, 1024, 768]            [1, 1024, 768]            1,536                     True\n",
       "│    │    └─MultiHeadAttention (attention): 3-38        [1, 1024, 768]            [1, 1024, 768]            2,362,368                 True\n",
       "│    │    └─Dropout (drop_skip): 3-39                   [1, 1024, 768]            [1, 1024, 768]            --                        --\n",
       "│    │    └─LayerNorm (layer_norm2): 3-40               [1, 1024, 768]            [1, 1024, 768]            1,536                     True\n",
       "│    │    └─FeedForward (feed_forward): 3-41            [1, 1024, 768]            [1, 1024, 768]            4,722,432                 True\n",
       "│    │    └─Dropout (drop_skip): 3-42                   [1, 1024, 768]            [1, 1024, 768]            --                        --\n",
       "│    └─TransformerBlock (7): 2-8                        [1, 1024, 768]            [1, 1024, 768]            --                        True\n",
       "│    │    └─LayerNorm (layer_norm1): 3-43               [1, 1024, 768]            [1, 1024, 768]            1,536                     True\n",
       "│    │    └─MultiHeadAttention (attention): 3-44        [1, 1024, 768]            [1, 1024, 768]            2,362,368                 True\n",
       "│    │    └─Dropout (drop_skip): 3-45                   [1, 1024, 768]            [1, 1024, 768]            --                        --\n",
       "│    │    └─LayerNorm (layer_norm2): 3-46               [1, 1024, 768]            [1, 1024, 768]            1,536                     True\n",
       "│    │    └─FeedForward (feed_forward): 3-47            [1, 1024, 768]            [1, 1024, 768]            4,722,432                 True\n",
       "│    │    └─Dropout (drop_skip): 3-48                   [1, 1024, 768]            [1, 1024, 768]            --                        --\n",
       "│    └─TransformerBlock (8): 2-9                        [1, 1024, 768]            [1, 1024, 768]            --                        True\n",
       "│    │    └─LayerNorm (layer_norm1): 3-49               [1, 1024, 768]            [1, 1024, 768]            1,536                     True\n",
       "│    │    └─MultiHeadAttention (attention): 3-50        [1, 1024, 768]            [1, 1024, 768]            2,362,368                 True\n",
       "│    │    └─Dropout (drop_skip): 3-51                   [1, 1024, 768]            [1, 1024, 768]            --                        --\n",
       "│    │    └─LayerNorm (layer_norm2): 3-52               [1, 1024, 768]            [1, 1024, 768]            1,536                     True\n",
       "│    │    └─FeedForward (feed_forward): 3-53            [1, 1024, 768]            [1, 1024, 768]            4,722,432                 True\n",
       "│    │    └─Dropout (drop_skip): 3-54                   [1, 1024, 768]            [1, 1024, 768]            --                        --\n",
       "│    └─TransformerBlock (9): 2-10                       [1, 1024, 768]            [1, 1024, 768]            --                        True\n",
       "│    │    └─LayerNorm (layer_norm1): 3-55               [1, 1024, 768]            [1, 1024, 768]            1,536                     True\n",
       "│    │    └─MultiHeadAttention (attention): 3-56        [1, 1024, 768]            [1, 1024, 768]            2,362,368                 True\n",
       "│    │    └─Dropout (drop_skip): 3-57                   [1, 1024, 768]            [1, 1024, 768]            --                        --\n",
       "│    │    └─LayerNorm (layer_norm2): 3-58               [1, 1024, 768]            [1, 1024, 768]            1,536                     True\n",
       "│    │    └─FeedForward (feed_forward): 3-59            [1, 1024, 768]            [1, 1024, 768]            4,722,432                 True\n",
       "│    │    └─Dropout (drop_skip): 3-60                   [1, 1024, 768]            [1, 1024, 768]            --                        --\n",
       "│    └─TransformerBlock (10): 2-11                      [1, 1024, 768]            [1, 1024, 768]            --                        True\n",
       "│    │    └─LayerNorm (layer_norm1): 3-61               [1, 1024, 768]            [1, 1024, 768]            1,536                     True\n",
       "│    │    └─MultiHeadAttention (attention): 3-62        [1, 1024, 768]            [1, 1024, 768]            2,362,368                 True\n",
       "│    │    └─Dropout (drop_skip): 3-63                   [1, 1024, 768]            [1, 1024, 768]            --                        --\n",
       "│    │    └─LayerNorm (layer_norm2): 3-64               [1, 1024, 768]            [1, 1024, 768]            1,536                     True\n",
       "│    │    └─FeedForward (feed_forward): 3-65            [1, 1024, 768]            [1, 1024, 768]            4,722,432                 True\n",
       "│    │    └─Dropout (drop_skip): 3-66                   [1, 1024, 768]            [1, 1024, 768]            --                        --\n",
       "│    └─TransformerBlock (11): 2-12                      [1, 1024, 768]            [1, 1024, 768]            --                        True\n",
       "│    │    └─LayerNorm (layer_norm1): 3-67               [1, 1024, 768]            [1, 1024, 768]            1,536                     True\n",
       "│    │    └─MultiHeadAttention (attention): 3-68        [1, 1024, 768]            [1, 1024, 768]            2,362,368                 True\n",
       "│    │    └─Dropout (drop_skip): 3-69                   [1, 1024, 768]            [1, 1024, 768]            --                        --\n",
       "│    │    └─LayerNorm (layer_norm2): 3-70               [1, 1024, 768]            [1, 1024, 768]            1,536                     True\n",
       "│    │    └─FeedForward (feed_forward): 3-71            [1, 1024, 768]            [1, 1024, 768]            4,722,432                 True\n",
       "│    │    └─Dropout (drop_skip): 3-72                   [1, 1024, 768]            [1, 1024, 768]            --                        --\n",
       "├─LayerNorm (final_norm): 1-5                           [1, 1024, 768]            [1, 1024, 768]            1,536                     True\n",
       "├─Linear (out_head): 1-6                                [1, 1024, 768]            [1, 1024, 50257]          38,597,376                True\n",
       "===========================================================================================================================================================\n",
       "Total params: 163,037,184\n",
       "Trainable params: 163,037,184\n",
       "Non-trainable params: 0\n",
       "Total mult-adds (Units.MEGABYTES): 967.52\n",
       "===========================================================================================================================================================\n",
       "Input size (MB): 0.01\n",
       "Forward/backward pass size (MB): 1261.05\n",
       "Params size (MB): 652.15\n",
       "Estimated Total Size (MB): 1913.21\n",
       "==========================================================================================================================================================="
      ]
     },
     "metadata": {},
     "execution_count": 29
    }
   ]
  },
  {
   "cell_type": "markdown",
   "source": [
    "- first, freeze all parameters:"
   ],
   "metadata": {
    "id": "veQh06-uyXUr"
   }
  },
  {
   "cell_type": "code",
   "source": [
    "for param in model.parameters():\n",
    "    param.requires_grad = False"
   ],
   "metadata": {
    "id": "P4lUOqEvyUPE"
   },
   "execution_count": 30,
   "outputs": []
  },
  {
   "cell_type": "markdown",
   "source": [
    "- and change the output layer `out_head` into `(out_head): Linear(in_features=768, out_features=2, bias=False)`"
   ],
   "metadata": {
    "id": "JqhfrIh0ygfc"
   }
  },
  {
   "cell_type": "code",
   "source": [
    "torch.manual_seed(211)\n",
    "\n",
    "num_classes = 2\n",
    "model.out_head = torch.nn.Linear(in_features=BASE_CONFIG[\"emb_dim\"], out_features=num_classes)"
   ],
   "metadata": {
    "id": "097Joa2ZycQc"
   },
   "execution_count": 31,
   "outputs": []
  },
  {
   "cell_type": "markdown",
   "source": [
    "- we make the last transformer block and the final LayerNorm module connecting the last transformer block to the output layer trainable:"
   ],
   "metadata": {
    "id": "FehlEfzJwEEp"
   }
  },
  {
   "cell_type": "code",
   "source": [
    "for param in model.transformer_blocks[-1].parameters():\n",
    "    param.requires_grad = True\n",
    "\n",
    "for param in model.final_norm.parameters():\n",
    "    param.requires_grad = True"
   ],
   "metadata": {
    "id": "MktJGWrlwAyE"
   },
   "execution_count": 32,
   "outputs": []
  },
  {
   "cell_type": "code",
   "source": [
    "#!pip install torchinfo"
   ],
   "metadata": {
    "id": "vdJC7cIu0Adz"
   },
   "execution_count": 33,
   "outputs": []
  },
  {
   "cell_type": "code",
   "source": [
    "from torchinfo import summary\n",
    "\n",
    "summary(\n",
    "    model,\n",
    "    input_size=(1, BASE_CONFIG[\"context_length\"]),      # (batch, seq_len)\n",
    "    dtypes=[torch.long],                                # token IDs are int64\n",
    "    col_names=(\"input_size\", \"output_size\", \"num_params\", \"trainable\"),\n",
    "    row_settings=(\"depth\", \"var_names\"),                # valid row options\n",
    "    device=\"cuda\" if torch.cuda.is_available() else \"cpu\",\n",
    ")"
   ],
   "metadata": {
    "colab": {
     "base_uri": "https://localhost:8080/"
    },
    "id": "Wtbw1uWnzQix",
    "outputId": "ecd8390d-e690-4721-a43b-304836c30c35"
   },
   "execution_count": 34,
   "outputs": [
    {
     "output_type": "execute_result",
     "data": {
      "text/plain": [
       "===========================================================================================================================================================\n",
       "Layer (type (var_name):depth-idx)                       Input Shape               Output Shape              Param #                   Trainable\n",
       "===========================================================================================================================================================\n",
       "GPT2Model (GPT2Model)                                   [1, 1024]                 [1, 1024, 2]              --                        Partial\n",
       "├─Embedding (token_emb): 1-1                            [1, 1024]                 [1, 1024, 768]            (38,597,376)              False\n",
       "├─Embedding (position_emb): 1-2                         [1024]                    [1024, 768]               (786,432)                 False\n",
       "├─Dropout (drop_emb): 1-3                               [1, 1024, 768]            [1, 1024, 768]            --                        --\n",
       "├─Sequential (transformer_blocks): 1-4                  [1, 1024, 768]            [1, 1024, 768]            --                        Partial\n",
       "│    └─TransformerBlock (0): 2-1                        [1, 1024, 768]            [1, 1024, 768]            --                        False\n",
       "│    │    └─LayerNorm (layer_norm1): 3-1                [1, 1024, 768]            [1, 1024, 768]            (1,536)                   False\n",
       "│    │    └─MultiHeadAttention (attention): 3-2         [1, 1024, 768]            [1, 1024, 768]            (2,362,368)               False\n",
       "│    │    └─Dropout (drop_skip): 3-3                    [1, 1024, 768]            [1, 1024, 768]            --                        --\n",
       "│    │    └─LayerNorm (layer_norm2): 3-4                [1, 1024, 768]            [1, 1024, 768]            (1,536)                   False\n",
       "│    │    └─FeedForward (feed_forward): 3-5             [1, 1024, 768]            [1, 1024, 768]            (4,722,432)               False\n",
       "│    │    └─Dropout (drop_skip): 3-6                    [1, 1024, 768]            [1, 1024, 768]            --                        --\n",
       "│    └─TransformerBlock (1): 2-2                        [1, 1024, 768]            [1, 1024, 768]            --                        False\n",
       "│    │    └─LayerNorm (layer_norm1): 3-7                [1, 1024, 768]            [1, 1024, 768]            (1,536)                   False\n",
       "│    │    └─MultiHeadAttention (attention): 3-8         [1, 1024, 768]            [1, 1024, 768]            (2,362,368)               False\n",
       "│    │    └─Dropout (drop_skip): 3-9                    [1, 1024, 768]            [1, 1024, 768]            --                        --\n",
       "│    │    └─LayerNorm (layer_norm2): 3-10               [1, 1024, 768]            [1, 1024, 768]            (1,536)                   False\n",
       "│    │    └─FeedForward (feed_forward): 3-11            [1, 1024, 768]            [1, 1024, 768]            (4,722,432)               False\n",
       "│    │    └─Dropout (drop_skip): 3-12                   [1, 1024, 768]            [1, 1024, 768]            --                        --\n",
       "│    └─TransformerBlock (2): 2-3                        [1, 1024, 768]            [1, 1024, 768]            --                        False\n",
       "│    │    └─LayerNorm (layer_norm1): 3-13               [1, 1024, 768]            [1, 1024, 768]            (1,536)                   False\n",
       "│    │    └─MultiHeadAttention (attention): 3-14        [1, 1024, 768]            [1, 1024, 768]            (2,362,368)               False\n",
       "│    │    └─Dropout (drop_skip): 3-15                   [1, 1024, 768]            [1, 1024, 768]            --                        --\n",
       "│    │    └─LayerNorm (layer_norm2): 3-16               [1, 1024, 768]            [1, 1024, 768]            (1,536)                   False\n",
       "│    │    └─FeedForward (feed_forward): 3-17            [1, 1024, 768]            [1, 1024, 768]            (4,722,432)               False\n",
       "│    │    └─Dropout (drop_skip): 3-18                   [1, 1024, 768]            [1, 1024, 768]            --                        --\n",
       "│    └─TransformerBlock (3): 2-4                        [1, 1024, 768]            [1, 1024, 768]            --                        False\n",
       "│    │    └─LayerNorm (layer_norm1): 3-19               [1, 1024, 768]            [1, 1024, 768]            (1,536)                   False\n",
       "│    │    └─MultiHeadAttention (attention): 3-20        [1, 1024, 768]            [1, 1024, 768]            (2,362,368)               False\n",
       "│    │    └─Dropout (drop_skip): 3-21                   [1, 1024, 768]            [1, 1024, 768]            --                        --\n",
       "│    │    └─LayerNorm (layer_norm2): 3-22               [1, 1024, 768]            [1, 1024, 768]            (1,536)                   False\n",
       "│    │    └─FeedForward (feed_forward): 3-23            [1, 1024, 768]            [1, 1024, 768]            (4,722,432)               False\n",
       "│    │    └─Dropout (drop_skip): 3-24                   [1, 1024, 768]            [1, 1024, 768]            --                        --\n",
       "│    └─TransformerBlock (4): 2-5                        [1, 1024, 768]            [1, 1024, 768]            --                        False\n",
       "│    │    └─LayerNorm (layer_norm1): 3-25               [1, 1024, 768]            [1, 1024, 768]            (1,536)                   False\n",
       "│    │    └─MultiHeadAttention (attention): 3-26        [1, 1024, 768]            [1, 1024, 768]            (2,362,368)               False\n",
       "│    │    └─Dropout (drop_skip): 3-27                   [1, 1024, 768]            [1, 1024, 768]            --                        --\n",
       "│    │    └─LayerNorm (layer_norm2): 3-28               [1, 1024, 768]            [1, 1024, 768]            (1,536)                   False\n",
       "│    │    └─FeedForward (feed_forward): 3-29            [1, 1024, 768]            [1, 1024, 768]            (4,722,432)               False\n",
       "│    │    └─Dropout (drop_skip): 3-30                   [1, 1024, 768]            [1, 1024, 768]            --                        --\n",
       "│    └─TransformerBlock (5): 2-6                        [1, 1024, 768]            [1, 1024, 768]            --                        False\n",
       "│    │    └─LayerNorm (layer_norm1): 3-31               [1, 1024, 768]            [1, 1024, 768]            (1,536)                   False\n",
       "│    │    └─MultiHeadAttention (attention): 3-32        [1, 1024, 768]            [1, 1024, 768]            (2,362,368)               False\n",
       "│    │    └─Dropout (drop_skip): 3-33                   [1, 1024, 768]            [1, 1024, 768]            --                        --\n",
       "│    │    └─LayerNorm (layer_norm2): 3-34               [1, 1024, 768]            [1, 1024, 768]            (1,536)                   False\n",
       "│    │    └─FeedForward (feed_forward): 3-35            [1, 1024, 768]            [1, 1024, 768]            (4,722,432)               False\n",
       "│    │    └─Dropout (drop_skip): 3-36                   [1, 1024, 768]            [1, 1024, 768]            --                        --\n",
       "│    └─TransformerBlock (6): 2-7                        [1, 1024, 768]            [1, 1024, 768]            --                        False\n",
       "│    │    └─LayerNorm (layer_norm1): 3-37               [1, 1024, 768]            [1, 1024, 768]            (1,536)                   False\n",
       "│    │    └─MultiHeadAttention (attention): 3-38        [1, 1024, 768]            [1, 1024, 768]            (2,362,368)               False\n",
       "│    │    └─Dropout (drop_skip): 3-39                   [1, 1024, 768]            [1, 1024, 768]            --                        --\n",
       "│    │    └─LayerNorm (layer_norm2): 3-40               [1, 1024, 768]            [1, 1024, 768]            (1,536)                   False\n",
       "│    │    └─FeedForward (feed_forward): 3-41            [1, 1024, 768]            [1, 1024, 768]            (4,722,432)               False\n",
       "│    │    └─Dropout (drop_skip): 3-42                   [1, 1024, 768]            [1, 1024, 768]            --                        --\n",
       "│    └─TransformerBlock (7): 2-8                        [1, 1024, 768]            [1, 1024, 768]            --                        False\n",
       "│    │    └─LayerNorm (layer_norm1): 3-43               [1, 1024, 768]            [1, 1024, 768]            (1,536)                   False\n",
       "│    │    └─MultiHeadAttention (attention): 3-44        [1, 1024, 768]            [1, 1024, 768]            (2,362,368)               False\n",
       "│    │    └─Dropout (drop_skip): 3-45                   [1, 1024, 768]            [1, 1024, 768]            --                        --\n",
       "│    │    └─LayerNorm (layer_norm2): 3-46               [1, 1024, 768]            [1, 1024, 768]            (1,536)                   False\n",
       "│    │    └─FeedForward (feed_forward): 3-47            [1, 1024, 768]            [1, 1024, 768]            (4,722,432)               False\n",
       "│    │    └─Dropout (drop_skip): 3-48                   [1, 1024, 768]            [1, 1024, 768]            --                        --\n",
       "│    └─TransformerBlock (8): 2-9                        [1, 1024, 768]            [1, 1024, 768]            --                        False\n",
       "│    │    └─LayerNorm (layer_norm1): 3-49               [1, 1024, 768]            [1, 1024, 768]            (1,536)                   False\n",
       "│    │    └─MultiHeadAttention (attention): 3-50        [1, 1024, 768]            [1, 1024, 768]            (2,362,368)               False\n",
       "│    │    └─Dropout (drop_skip): 3-51                   [1, 1024, 768]            [1, 1024, 768]            --                        --\n",
       "│    │    └─LayerNorm (layer_norm2): 3-52               [1, 1024, 768]            [1, 1024, 768]            (1,536)                   False\n",
       "│    │    └─FeedForward (feed_forward): 3-53            [1, 1024, 768]            [1, 1024, 768]            (4,722,432)               False\n",
       "│    │    └─Dropout (drop_skip): 3-54                   [1, 1024, 768]            [1, 1024, 768]            --                        --\n",
       "│    └─TransformerBlock (9): 2-10                       [1, 1024, 768]            [1, 1024, 768]            --                        False\n",
       "│    │    └─LayerNorm (layer_norm1): 3-55               [1, 1024, 768]            [1, 1024, 768]            (1,536)                   False\n",
       "│    │    └─MultiHeadAttention (attention): 3-56        [1, 1024, 768]            [1, 1024, 768]            (2,362,368)               False\n",
       "│    │    └─Dropout (drop_skip): 3-57                   [1, 1024, 768]            [1, 1024, 768]            --                        --\n",
       "│    │    └─LayerNorm (layer_norm2): 3-58               [1, 1024, 768]            [1, 1024, 768]            (1,536)                   False\n",
       "│    │    └─FeedForward (feed_forward): 3-59            [1, 1024, 768]            [1, 1024, 768]            (4,722,432)               False\n",
       "│    │    └─Dropout (drop_skip): 3-60                   [1, 1024, 768]            [1, 1024, 768]            --                        --\n",
       "│    └─TransformerBlock (10): 2-11                      [1, 1024, 768]            [1, 1024, 768]            --                        False\n",
       "│    │    └─LayerNorm (layer_norm1): 3-61               [1, 1024, 768]            [1, 1024, 768]            (1,536)                   False\n",
       "│    │    └─MultiHeadAttention (attention): 3-62        [1, 1024, 768]            [1, 1024, 768]            (2,362,368)               False\n",
       "│    │    └─Dropout (drop_skip): 3-63                   [1, 1024, 768]            [1, 1024, 768]            --                        --\n",
       "│    │    └─LayerNorm (layer_norm2): 3-64               [1, 1024, 768]            [1, 1024, 768]            (1,536)                   False\n",
       "│    │    └─FeedForward (feed_forward): 3-65            [1, 1024, 768]            [1, 1024, 768]            (4,722,432)               False\n",
       "│    │    └─Dropout (drop_skip): 3-66                   [1, 1024, 768]            [1, 1024, 768]            --                        --\n",
       "│    └─TransformerBlock (11): 2-12                      [1, 1024, 768]            [1, 1024, 768]            --                        True\n",
       "│    │    └─LayerNorm (layer_norm1): 3-67               [1, 1024, 768]            [1, 1024, 768]            1,536                     True\n",
       "│    │    └─MultiHeadAttention (attention): 3-68        [1, 1024, 768]            [1, 1024, 768]            2,362,368                 True\n",
       "│    │    └─Dropout (drop_skip): 3-69                   [1, 1024, 768]            [1, 1024, 768]            --                        --\n",
       "│    │    └─LayerNorm (layer_norm2): 3-70               [1, 1024, 768]            [1, 1024, 768]            1,536                     True\n",
       "│    │    └─FeedForward (feed_forward): 3-71            [1, 1024, 768]            [1, 1024, 768]            4,722,432                 True\n",
       "│    │    └─Dropout (drop_skip): 3-72                   [1, 1024, 768]            [1, 1024, 768]            --                        --\n",
       "├─LayerNorm (final_norm): 1-5                           [1, 1024, 768]            [1, 1024, 768]            1,536                     True\n",
       "├─Linear (out_head): 1-6                                [1, 1024, 768]            [1, 1024, 2]              1,538                     True\n",
       "===========================================================================================================================================================\n",
       "Total params: 124,441,346\n",
       "Trainable params: 7,090,946\n",
       "Non-trainable params: 117,350,400\n",
       "Total mult-adds (Units.MEGABYTES): 928.92\n",
       "===========================================================================================================================================================\n",
       "Input size (MB): 0.01\n",
       "Forward/backward pass size (MB): 849.36\n",
       "Params size (MB): 497.77\n",
       "Estimated Total Size (MB): 1347.14\n",
       "==========================================================================================================================================================="
      ]
     },
     "metadata": {},
     "execution_count": 34
    }
   ]
  },
  {
   "cell_type": "markdown",
   "source": [
    "Let's see what has changed:"
   ],
   "metadata": {
    "id": "TOqJFLcY26Am"
   }
  },
  {
   "cell_type": "code",
   "source": [
    "device = torch.device(\"cuda\" if torch.cuda.is_available() else \"cpu\")\n",
    "\n",
    "\n",
    "inputs = tokenizer.encode(\"I open myself to\")\n",
    "inputs = torch.tensor(inputs, dtype=torch.long).unsqueeze(0).to(device)\n",
    "print(\"Inputs:\", inputs)\n",
    "print(\"Inputs dimensions:\", inputs.shape) # shape: (batch_size, num_tokens)"
   ],
   "metadata": {
    "colab": {
     "base_uri": "https://localhost:8080/"
    },
    "id": "mnODKUy8z-4M",
    "outputId": "1c5757e5-9f15-483a-cf32-6af63c999f83"
   },
   "execution_count": 35,
   "outputs": [
    {
     "output_type": "stream",
     "name": "stdout",
     "text": [
      "Inputs: tensor([[  40, 1280, 3589,  284]], device='cuda:0')\n",
      "Inputs dimensions: torch.Size([1, 4])\n"
     ]
    }
   ]
  },
  {
   "cell_type": "code",
   "source": [
    "model.to(device)\n",
    "model.eval()\n",
    "with torch.no_grad():\n",
    "    outputs = model(inputs)\n",
    "\n",
    "print(\"Outputs:\\n\", outputs)\n",
    "print(\"Outputs dimensions:\", outputs.shape) # shape: (batch_size, num_tokens, num_classes)"
   ],
   "metadata": {
    "colab": {
     "base_uri": "https://localhost:8080/"
    },
    "id": "aoD8GfM13EqW",
    "outputId": "13ffe88e-9ef4-4c58-f905-f506f3581756"
   },
   "execution_count": 36,
   "outputs": [
    {
     "output_type": "stream",
     "name": "stdout",
     "text": [
      "Outputs:\n",
      " tensor([[[-0.2085,  1.4101],\n",
      "         [-0.9657,  5.2382],\n",
      "         [ 0.1119,  4.5591],\n",
      "         [ 0.3584,  5.9848]]], device='cuda:0')\n",
      "Outputs dimensions: torch.Size([1, 4, 2])\n"
     ]
    }
   ]
  },
  {
   "cell_type": "code",
   "source": [
    "print(\"Last output token:\", outputs[:, -1, :])"
   ],
   "metadata": {
    "colab": {
     "base_uri": "https://localhost:8080/"
    },
    "id": "6Uf_5xzK3Kqb",
    "outputId": "669b1b27-5d24-4d42-b477-f90d1686fb30"
   },
   "execution_count": 37,
   "outputs": [
    {
     "output_type": "stream",
     "name": "stdout",
     "text": [
      "Last output token: tensor([[0.3584, 5.9848]], device='cuda:0')\n"
     ]
    }
   ]
  },
  {
   "cell_type": "markdown",
   "source": [
    "# 6. Calculating the classification loss and accuracy"
   ],
   "metadata": {
    "id": "K--aY3iT3Zyu"
   }
  },
  {
   "cell_type": "code",
   "source": [
    "print(\"Last output token:\", outputs[:, -1, :])"
   ],
   "metadata": {
    "colab": {
     "base_uri": "https://localhost:8080/"
    },
    "id": "h4J2DkjW3SgS",
    "outputId": "36e5a933-02df-4c76-ed78-53e42bf6b142"
   },
   "execution_count": 38,
   "outputs": [
    {
     "output_type": "stream",
     "name": "stdout",
     "text": [
      "Last output token: tensor([[0.3584, 5.9848]], device='cuda:0')\n"
     ]
    }
   ]
  },
  {
   "cell_type": "code",
   "source": [
    "probas = torch.softmax(outputs[:, -1, :], dim=-1)\n",
    "label = torch.argmax(probas)\n",
    "print(\"Class label:\", label.item())"
   ],
   "metadata": {
    "colab": {
     "base_uri": "https://localhost:8080/"
    },
    "id": "fRhQCx3X3jFW",
    "outputId": "f3a1dda8-3964-45e1-8239-ae356902b0f3"
   },
   "execution_count": 39,
   "outputs": [
    {
     "output_type": "stream",
     "name": "stdout",
     "text": [
      "Class label: 1\n"
     ]
    }
   ]
  },
  {
   "cell_type": "markdown",
   "source": [
    "- since `softmax` is optional, we can also do:"
   ],
   "metadata": {
    "id": "-kz7Pnfj3r5J"
   }
  },
  {
   "cell_type": "code",
   "source": [
    "logits = outputs[:, -1, :]\n",
    "label = torch.argmax(logits)\n",
    "print(\"Class label:\", label.item())"
   ],
   "metadata": {
    "colab": {
     "base_uri": "https://localhost:8080/"
    },
    "id": "rLKJ9Yob3m8u",
    "outputId": "a7358c6d-e2d6-4c19-98f4-6bb1a6d34457"
   },
   "execution_count": 40,
   "outputs": [
    {
     "output_type": "stream",
     "name": "stdout",
     "text": [
      "Class label: 1\n"
     ]
    }
   ]
  },
  {
   "cell_type": "markdown",
   "source": [
    "- Let's create a classification accuracy function for the (pretrained or finetuned) model over the pre-defined number of batches in the dataloader:"
   ],
   "metadata": {
    "id": "c50sKk4MbgST"
   }
  },
  {
   "cell_type": "code",
   "source": [
    "def calc_accuracy_loader(data_loader,\n",
    "                         model,\n",
    "                         device,\n",
    "                         num_batches=None):\n",
    "  model.eval()\n",
    "  correct_predictions, num_examples = 0, 0\n",
    "\n",
    "  if num_batches is None:\n",
    "    num_batches = len(data_loader)\n",
    "  else:\n",
    "    num_batches = min(num_batches, len(data_loader))\n",
    "\n",
    "  for batch_id, (input_batch, label_batch) in enumerate(data_loader):\n",
    "    if batch_id < num_batches:\n",
    "      input_batch, label_batch = input_batch.to(device), label_batch.to(device)\n",
    "\n",
    "      with torch.no_grad():\n",
    "        logits = model(input_batch)[:, -1, :] # logits of the last output token\n",
    "      predicted_labels = torch.argmax(logits, dim=-1)\n",
    "\n",
    "      num_examples += predicted_labels.shape[0]\n",
    "      correct_predictions += (predicted_labels == label_batch).sum().item()\n",
    "    else:\n",
    "      break\n",
    "  return correct_predictions / num_examples"
   ],
   "metadata": {
    "id": "XWb3pNoz3x2_"
   },
   "execution_count": 41,
   "outputs": []
  },
  {
   "cell_type": "code",
   "source": [
    "print(f\"{len(train_loader)} training batches\")\n",
    "print(f\"{len(val_loader)} validation batches\")\n",
    "print(f\"{len(test_loader)} test batches\")"
   ],
   "metadata": {
    "colab": {
     "base_uri": "https://localhost:8080/"
    },
    "id": "WkwvLuZifjo0",
    "outputId": "2308734a-f9ff-4698-c87a-e744598fc963"
   },
   "execution_count": 42,
   "outputs": [
    {
     "output_type": "stream",
     "name": "stdout",
     "text": [
      "130 training batches\n",
      "19 validation batches\n",
      "38 test batches\n"
     ]
    }
   ]
  },
  {
   "cell_type": "code",
   "source": [
    "torch.manual_seed(211)\n",
    "\n",
    "\n",
    "train_accuracy = calc_accuracy_loader(train_loader, model, device, num_batches=10)\n",
    "val_accuracy = calc_accuracy_loader(val_loader, model, device, num_batches=10)\n",
    "test_accuracy = calc_accuracy_loader(test_loader, model, device, num_batches=10)\n",
    "\n",
    "print(f\"Training accuracy: {train_accuracy*100:.2f}%\")\n",
    "print(f\"Validation accuracy: {val_accuracy*100:.2f}%\")\n",
    "print(f\"Test accuracy: {test_accuracy*100:.2f}%\")"
   ],
   "metadata": {
    "colab": {
     "base_uri": "https://localhost:8080/"
    },
    "id": "jGT0X29sdwvE",
    "outputId": "8b7a88c5-b13e-48a6-afd0-7a332cde41d0"
   },
   "execution_count": 43,
   "outputs": [
    {
     "output_type": "stream",
     "name": "stdout",
     "text": [
      "Training accuracy: 51.25%\n",
      "Validation accuracy: 58.75%\n",
      "Test accuracy: 37.50%\n"
     ]
    }
   ]
  },
  {
   "cell_type": "markdown",
   "source": [
    "- next, we define the cross-entropy loss function as a proxy for maximizing the classification accuracy for the (pretrained or finetuned) model over the pre-defined number of batches in the dataloader.\n",
    "\n",
    "But first, let's calculate loss for each batch:"
   ],
   "metadata": {
    "id": "WGWqGQAqgMIV"
   }
  },
  {
   "cell_type": "code",
   "source": [
    "def calc_loss_batch(input_batch,\n",
    "                    label_batch,\n",
    "                    model,\n",
    "                    device):\n",
    "  input_batch, label_batch = input_batch.to(device), label_batch.to(device)\n",
    "  logits = model(input_batch)[:, -1, :] # logits of the last output token\n",
    "  loss = torch.nn.functional.cross_entropy(logits, label_batch)\n",
    "  return loss"
   ],
   "metadata": {
    "id": "k0QT4x67gJrD"
   },
   "execution_count": 44,
   "outputs": []
  },
  {
   "cell_type": "code",
   "source": [
    "# same as pretraining\n",
    "def calc_loss_loader(data_loader,\n",
    "                     model,\n",
    "                     device,\n",
    "                     num_batches=None):\n",
    "  total_loss = 0.0\n",
    "  if len(data_loader) == 0:\n",
    "    return float(\"nan\")\n",
    "  elif num_batches is None:\n",
    "    num_batches = len(data_loader)\n",
    "  else:\n",
    "    num_batches = min(num_batches, len(data_loader))\n",
    "\n",
    "  for batch_id, (input_batch, label_batch) in enumerate(data_loader):\n",
    "    if batch_id < num_batches:\n",
    "      loss = calc_loss_batch(input_batch, label_batch, model, device)\n",
    "      total_loss += loss.item()\n",
    "    else:\n",
    "      break\n",
    "  return total_loss / num_batches"
   ],
   "metadata": {
    "id": "SbdsNZsjeD-k"
   },
   "execution_count": 45,
   "outputs": []
  },
  {
   "cell_type": "code",
   "source": [
    "with torch.no_grad(): # Disable gradient tracking for efficiency because we are not training, yet\n",
    "    train_loss = calc_loss_loader(train_loader, model, device, num_batches=5)\n",
    "    val_loss = calc_loss_loader(val_loader, model, device, num_batches=5)\n",
    "    test_loss = calc_loss_loader(test_loader, model, device, num_batches=5)\n",
    "\n",
    "print(f\"Training loss: {train_loss:.3f}\")\n",
    "print(f\"Validation loss: {val_loss:.3f}\")\n",
    "print(f\"Test loss: {test_loss:.3f}\")"
   ],
   "metadata": {
    "colab": {
     "base_uri": "https://localhost:8080/"
    },
    "id": "bdSCs3KjjAFp",
    "outputId": "5a7da87c-605b-4631-c35b-d7853d6f6979"
   },
   "execution_count": 46,
   "outputs": [
    {
     "output_type": "stream",
     "name": "stdout",
     "text": [
      "Training loss: 1.851\n",
      "Validation loss: 1.299\n",
      "Test loss: 1.851\n"
     ]
    }
   ]
  },
  {
   "cell_type": "markdown",
   "source": [
    "# 7. Finetuning the model on supervised data"
   ],
   "metadata": {
    "id": "QorJHszHjKKj"
   }
  },
  {
   "cell_type": "markdown",
   "source": [
    "- The `train_classifier_simple` function is the same as the `train_model_simple` function we used for pretraining the model.\n",
    "- The only differences are:\n",
    "  1. we track the number of training `examples_seen` instead of the number of tokens seen\n",
    "  2. calculate the accuracy after each epoch instead of printing a sample text after each epoch"
   ],
   "metadata": {
    "id": "vGe5c12XjhAm"
   }
  },
  {
   "cell_type": "code",
   "source": [
    "def train_classifier_simple(model,\n",
    "                            train_loader,\n",
    "                            val_loader,\n",
    "                            optimizer,\n",
    "                            device,\n",
    "                            num_epochs,\n",
    "                            eval_freq,\n",
    "                            eval_iter # number of batches to evaluate from\n",
    "                            ):\n",
    "  train_losses, val_losses = [], []\n",
    "  train_accuracies, val_accuracies = [], []\n",
    "  examples_seen, global_step = 0, -1\n",
    "\n",
    "  for epoch in range(num_epochs):\n",
    "    model.train()\n",
    "\n",
    "    for input_batch, label_batch in train_loader:\n",
    "      optimizer.zero_grad()\n",
    "      loss = calc_loss_batch(input_batch, label_batch, model, device)\n",
    "      loss.backward()\n",
    "      optimizer.step()\n",
    "      examples_seen += input_batch.shape[0] # New: track examples instead of tokens\n",
    "      global_step += 1\n",
    "\n",
    "\n",
    "      # optional evaluation step\n",
    "      if global_step % eval_freq == 0:\n",
    "        train_loss, val_loss = evaluate_model(model,\n",
    "                                              train_loader,\n",
    "                                              val_loader,\n",
    "                                              device,\n",
    "                                              eval_iter)\n",
    "        train_losses.append(train_loss)\n",
    "        val_losses.append(val_loss)\n",
    "        print(f\"Ep {epoch+1} (Step {global_step:06d}): \"\n",
    "                      f\"Train loss {train_loss:.3f}, Val loss {val_loss:.3f}\")\n",
    "\n",
    "    # calculate accuracy after each epoch\n",
    "    train_accuracy = calc_accuracy_loader(train_loader, model, device, num_batches=eval_iter)\n",
    "    val_accuracy = calc_accuracy_loader(val_loader, model, device, num_batches=eval_iter)\n",
    "    print(f\"Training accuracy: {train_accuracy*100:.2f}% | \", end=\"\")\n",
    "    print(f\"Validation accuracy: {val_accuracy*100:.2f}%\")\n",
    "    train_accuracies.append(train_accuracy)\n",
    "    val_accuracies.append(val_accuracy)\n",
    "\n",
    "  return train_losses, val_losses, train_accuracies, val_accuracies, examples_seen"
   ],
   "metadata": {
    "id": "Tux6pIw3jGJI"
   },
   "execution_count": 47,
   "outputs": []
  },
  {
   "cell_type": "code",
   "source": [
    "# same as pretraining\n",
    "def evaluate_model(model,\n",
    "                   train_loader,\n",
    "                   val_loader,\n",
    "                   device,\n",
    "                   eval_iter):\n",
    "  model.eval()\n",
    "  with torch.no_grad():\n",
    "    train_loss = calc_loss_loader(train_loader, model, device, num_batches=eval_iter)\n",
    "    val_loss = calc_loss_loader(val_loader, model, device, num_batches=eval_iter)\n",
    "  model.train()\n",
    "  return train_loss, val_loss"
   ],
   "metadata": {
    "id": "45orFD-cmISX"
   },
   "execution_count": 48,
   "outputs": []
  },
  {
   "cell_type": "code",
   "source": [
    "import time\n",
    "\n",
    "start_time = time.time()\n",
    "\n",
    "torch.manual_seed(211)\n",
    "\n",
    "optimizer = torch.optim.AdamW(model.parameters(), lr=5e-5, weight_decay=0.1)\n",
    "\n",
    "num_epochs = 10\n",
    "train_losses, val_losses, train_accs, val_accs, examples_seen = train_classifier_simple(\n",
    "    model, train_loader, val_loader, optimizer, device,\n",
    "    num_epochs=num_epochs, eval_freq=50, eval_iter=5,\n",
    ")\n",
    "\n",
    "end_time = time.time()\n",
    "execution_time_minutes = (end_time - start_time) / 60\n",
    "print(f\"Training completed in {execution_time_minutes:.2f} minutes.\")"
   ],
   "metadata": {
    "colab": {
     "base_uri": "https://localhost:8080/"
    },
    "id": "0i4qBiONmYtl",
    "outputId": "9da0ca74-cf3b-4fa1-88f2-1e82abae83a6"
   },
   "execution_count": 49,
   "outputs": [
    {
     "output_type": "stream",
     "name": "stdout",
     "text": [
      "Ep 1 (Step 000000): Train loss 1.530, Val loss 1.177\n",
      "Ep 1 (Step 000050): Train loss 0.637, Val loss 0.639\n",
      "Ep 1 (Step 000100): Train loss 0.522, Val loss 0.533\n",
      "Training accuracy: 80.00% | Validation accuracy: 87.50%\n",
      "Ep 2 (Step 000150): Train loss 0.412, Val loss 0.336\n",
      "Ep 2 (Step 000200): Train loss 0.224, Val loss 0.106\n",
      "Ep 2 (Step 000250): Train loss 0.028, Val loss 0.070\n",
      "Training accuracy: 97.50% | Validation accuracy: 100.00%\n",
      "Ep 3 (Step 000300): Train loss 0.124, Val loss 0.076\n",
      "Ep 3 (Step 000350): Train loss 0.124, Val loss 0.048\n",
      "Training accuracy: 97.50% | Validation accuracy: 100.00%\n",
      "Ep 4 (Step 000400): Train loss 0.075, Val loss 0.037\n",
      "Ep 4 (Step 000450): Train loss 0.194, Val loss 0.043\n",
      "Ep 4 (Step 000500): Train loss 0.171, Val loss 0.041\n",
      "Training accuracy: 97.50% | Validation accuracy: 97.50%\n",
      "Ep 5 (Step 000550): Train loss 0.045, Val loss 0.037\n",
      "Ep 5 (Step 000600): Train loss 0.021, Val loss 0.035\n",
      "Training accuracy: 100.00% | Validation accuracy: 97.50%\n",
      "Ep 6 (Step 000650): Train loss 0.022, Val loss 0.036\n",
      "Ep 6 (Step 000700): Train loss 0.053, Val loss 0.031\n",
      "Ep 6 (Step 000750): Train loss 0.026, Val loss 0.037\n",
      "Training accuracy: 97.50% | Validation accuracy: 97.50%\n",
      "Ep 7 (Step 000800): Train loss 0.217, Val loss 0.029\n",
      "Ep 7 (Step 000850): Train loss 0.005, Val loss 0.027\n",
      "Ep 7 (Step 000900): Train loss 0.123, Val loss 0.037\n",
      "Training accuracy: 100.00% | Validation accuracy: 100.00%\n",
      "Ep 8 (Step 000950): Train loss 0.010, Val loss 0.027\n",
      "Ep 8 (Step 001000): Train loss 0.025, Val loss 0.024\n",
      "Training accuracy: 100.00% | Validation accuracy: 97.50%\n",
      "Ep 9 (Step 001050): Train loss 0.015, Val loss 0.026\n",
      "Ep 9 (Step 001100): Train loss 0.008, Val loss 0.050\n",
      "Ep 9 (Step 001150): Train loss 0.125, Val loss 0.036\n",
      "Training accuracy: 97.50% | Validation accuracy: 97.50%\n",
      "Ep 10 (Step 001200): Train loss 0.021, Val loss 0.023\n",
      "Ep 10 (Step 001250): Train loss 0.006, Val loss 0.056\n",
      "Training accuracy: 95.00% | Validation accuracy: 100.00%\n",
      "Training completed in 0.53 minutes.\n"
     ]
    }
   ]
  },
  {
   "cell_type": "markdown",
   "source": [
    "- let's plot the loss function for the training and validation set:"
   ],
   "metadata": {
    "id": "LqjmVVnRmg6G"
   }
  },
  {
   "cell_type": "code",
   "source": [
    "import matplotlib.pyplot as plt\n",
    "\n",
    "def plot_values(epochs_seen, examples_seen, train_values, val_values, label=\"loss\"):\n",
    "    fig, ax1 = plt.subplots(figsize=(5, 3))\n",
    "\n",
    "    # Plot training and validation loss against epochs\n",
    "    ax1.plot(epochs_seen, train_values, label=f\"Training {label}\")\n",
    "    ax1.plot(epochs_seen, val_values, linestyle=\"-.\", label=f\"Validation {label}\")\n",
    "    ax1.set_xlabel(\"Epochs\")\n",
    "    ax1.set_ylabel(label.capitalize())\n",
    "    ax1.legend()\n",
    "\n",
    "    # Create a second x-axis for examples seen\n",
    "    ax2 = ax1.twiny()  # Create a second x-axis that shares the same y-axis\n",
    "    ax2.plot(examples_seen, train_values, alpha=0)  # Invisible plot for aligning ticks\n",
    "    ax2.set_xlabel(\"Examples seen\")\n",
    "\n",
    "    fig.tight_layout()  # Adjust layout to make room\n",
    "    plt.savefig(f\"{label}-plot.pdf\")\n",
    "    plt.show()"
   ],
   "metadata": {
    "id": "plden2UZmeXy"
   },
   "execution_count": 50,
   "outputs": []
  },
  {
   "cell_type": "code",
   "source": [
    "epochs_tensor = torch.linspace(0, num_epochs, len(train_losses))\n",
    "examples_seen_tensor = torch.linspace(0, examples_seen, len(train_losses))\n",
    "\n",
    "plot_values(epochs_tensor, examples_seen_tensor, train_losses, val_losses)"
   ],
   "metadata": {
    "colab": {
     "base_uri": "https://localhost:8080/",
     "height": 307
    },
    "id": "v0uSfpgVmohE",
    "outputId": "f67440e4-e0a6-4ef8-9ec0-82e833c438c7"
   },
   "execution_count": 51,
   "outputs": [
    {
     "output_type": "display_data",
     "data": {
      "text/plain": [
       "<Figure size 500x300 with 2 Axes>"
      ],
      "image/png": "[encoded data removed]"
     },
     "metadata": {}
    }
   ]
  },
  {
   "cell_type": "markdown",
   "source": [
    "- Let's plot the accuracy:"
   ],
   "metadata": {
    "id": "BTZ3NDKWw9sm"
   }
  },
  {
   "cell_type": "code",
   "source": [
    "epochs_tensor = torch.linspace(0, num_epochs, len(train_accs))\n",
    "examples_seen_tensor = torch.linspace(0, examples_seen, len(train_accs))\n",
    "\n",
    "plot_values(epochs_tensor, examples_seen_tensor, train_accs, val_accs, label=\"accuracy\")"
   ],
   "metadata": {
    "colab": {
     "base_uri": "https://localhost:8080/",
     "height": 307
    },
    "id": "N-5z_MK1mq9r",
    "outputId": "097f7b09-ab27-4a85-b350-7754f8f9912c"
   },
   "execution_count": 52,
   "outputs": [
    {
     "output_type": "display_data",
     "data": {
      "text/plain": [
       "<Figure size 500x300 with 2 Axes>"
      ],
      "image/png": "[encoded data removed]"
     },
     "metadata": {}
    }
   ]
  },
  {
   "cell_type": "markdown",
   "source": [
    "- let's compute the training, validation, and test set performances over the complete dataset:"
   ],
   "metadata": {
    "id": "IypbP7l-xY6V"
   }
  },
  {
   "cell_type": "code",
   "source": [
    "train_accuracy = calc_accuracy_loader(train_loader, model, device)\n",
    "val_accuracy = calc_accuracy_loader(val_loader, model, device)\n",
    "test_accuracy = calc_accuracy_loader(test_loader, model, device)\n",
    "\n",
    "print(f\"Training accuracy: {train_accuracy*100:.2f}%\")\n",
    "print(f\"Validation accuracy: {val_accuracy*100:.2f}%\")\n",
    "print(f\"Test accuracy: {test_accuracy*100:.2f}%\")"
   ],
   "metadata": {
    "colab": {
     "base_uri": "https://localhost:8080/"
    },
    "id": "ombuMpJfsfli",
    "outputId": "afca918a-dda0-4b75-9547-9a236d11edf5"
   },
   "execution_count": 53,
   "outputs": [
    {
     "output_type": "stream",
     "name": "stdout",
     "text": [
      "Training accuracy: 98.46%\n",
      "Validation accuracy: 95.97%\n",
      "Test accuracy: 96.33%\n"
     ]
    }
   ]
  },
  {
   "cell_type": "markdown",
   "source": [
    "# 8. Using the LLM as a spam classifier"
   ],
   "metadata": {
    "id": "WSi4MzHQx7UE"
   }
  },
  {
   "cell_type": "markdown",
   "source": [
    "- let's create a function the uses our finetuned model to make prediction on the spam dataset:"
   ],
   "metadata": {
    "id": "zlUp-4aQyPAd"
   }
  },
  {
   "cell_type": "code",
   "source": [
    "def classify_review(text,\n",
    "                    model,\n",
    "                    tokenizer,\n",
    "                    device,\n",
    "                    max_length=None,\n",
    "                    pad_token_id=50256):\n",
    "  model.eval()\n",
    "\n",
    "  # input preprocessing\n",
    "  input_ids = tokenizer.encode(text)\n",
    "  supported_context_length = model.position_emb.weight.shape[0]\n",
    "  input_ids = input_ids[:min(max_length, supported_context_length)]\n",
    "  input_ids += [pad_token_id] * (max_length  - len(input_ids))\n",
    "  input_tensor = torch.tensor(input_ids, device=device).unsqueeze(0)\n",
    "\n",
    "  # model inference\n",
    "  with torch.no_grad():\n",
    "    logits = model(input_tensor)[:, -1, :] # logits of the last output token\n",
    "  predicted_label = torch.argmax(logits, dim=-1).item()\n",
    "\n",
    "  # return the classifier result\n",
    "  return \"spam\" if predicted_label == 1 else \"not spam\""
   ],
   "metadata": {
    "id": "rc_TEnZQsfip"
   },
   "execution_count": 54,
   "outputs": []
  },
  {
   "cell_type": "code",
   "source": [
    "text_1 = (\n",
    "    \"You are a winner you have been specially\"\n",
    "    \" selected to receive $1000 cash or a $2000 award.\"\n",
    ")\n",
    "\n",
    "print(classify_review(\n",
    "    text_1, model, tokenizer, device, max_length=train_dataset.max_length\n",
    "))"
   ],
   "metadata": {
    "colab": {
     "base_uri": "https://localhost:8080/"
    },
    "id": "1UqgJIizzj9B",
    "outputId": "f884667e-9511-44cb-b17e-bfdfdb842c43"
   },
   "execution_count": 55,
   "outputs": [
    {
     "output_type": "stream",
     "name": "stdout",
     "text": [
      "spam\n"
     ]
    }
   ]
  },
  {
   "cell_type": "code",
   "source": [
    "text_2 = (\n",
    "    \"Hey, just wanted to check if we're still on\"\n",
    "    \" for dinner tonight? Let me know!\"\n",
    ")\n",
    "\n",
    "print(classify_review(\n",
    "    text_2, model, tokenizer, device, max_length=train_dataset.max_length\n",
    "))"
   ],
   "metadata": {
    "colab": {
     "base_uri": "https://localhost:8080/"
    },
    "id": "FzdM7mcyzj3Z",
    "outputId": "9399efd9-daea-4ae4-cefc-dace3245c403"
   },
   "execution_count": 56,
   "outputs": [
    {
     "output_type": "stream",
     "name": "stdout",
     "text": [
      "not spam\n"
     ]
    }
   ]
  },
  {
   "cell_type": "markdown",
   "source": [
    "Let's save the model:"
   ],
   "metadata": {
    "id": "jmWOC4k6zvbn"
   }
  },
  {
   "cell_type": "code",
   "source": [
    "torch.save(model.state_dict(), \"review_classifier.pth\")"
   ],
   "metadata": {
    "id": "yaE1wIdazvMT"
   },
   "execution_count": 57,
   "outputs": []
  },
  {
   "cell_type": "markdown",
   "source": [
    "and load it in another session:"
   ],
   "metadata": {
    "id": "d1GeJkWMz2G8"
   }
  },
  {
   "cell_type": "code",
   "source": [
    "model_state_dict = torch.load(\"review_classifier.pth\", map_location=device, weights_only=True)\n",
    "model.load_state_dict(model_state_dict)"
   ],
   "metadata": {
    "colab": {
     "base_uri": "https://localhost:8080/"
    },
    "id": "Zcyuw69izvJX",
    "outputId": "93d2550f-3284-40c9-dd30-ece0c5c19794"
   },
   "execution_count": 58,
   "outputs": [
    {
     "output_type": "execute_result",
     "data": {
      "text/plain": [
       "<All keys matched successfully>"
      ]
     },
     "metadata": {},
     "execution_count": 58
    }
   ]
  },
  {
   "cell_type": "code",
   "source": [],
   "metadata": {
    "id": "Kz2i24xgzjDx"
   },
   "execution_count": 58,
   "outputs": []
  },
  {
   "cell_type": "code",
   "source": [
    "notebook_end_time = time.time()\n",
    "runtime_in_seconds = notebook_end_time - notebook_start_time\n",
    "\n",
    "# format as minutes and seconds\n",
    "minutes, seconds = divmod(runtime_in_seconds, 60)\n",
    "print(f\"Notebook runtime: {int(minutes)} min {seconds:.2f} sec\")"
   ],
   "metadata": {
    "colab": {
     "base_uri": "https://localhost:8080/"
    },
    "id": "22EIm8X3sfdy",
    "outputId": "343825f7-1be5-4aa8-a91d-12bded04cef5"
   },
   "execution_count": 59,
   "outputs": [
    {
     "output_type": "stream",
     "name": "stdout",
     "text": [
      "Notebook runtime: 0 min 56.81 sec\n"
     ]
    }
   ]
  }
 ]
}
