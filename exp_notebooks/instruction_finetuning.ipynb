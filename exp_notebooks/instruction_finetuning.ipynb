{
 "nbformat": 4,
 "nbformat_minor": 0,
 "metadata": {
  "colab": {
   "provenance": [],
   "machine_shape": "hm",
   "gpuType": "A100"
  },
  "kernelspec": {
   "name": "python3",
   "display_name": "Python 3"
  },
  "language_info": {
   "name": "python"
  },
  "accelerator": "GPU"
 },
 "cells": [
  {
   "cell_type": "code",
   "execution_count": 1,
   "metadata": {
    "id": "1lP1z53h69QO"
   },
   "outputs": [],
   "source": [
    "import time\n",
    "notebook_start_time = time.time()"
   ]
  },
  {
   "cell_type": "markdown",
   "source": [
    "# 0. Setup"
   ],
   "metadata": {
    "id": "KWFEbEoZ7_k6"
   }
  },
  {
   "cell_type": "code",
   "source": [
    "from importlib.metadata import version\n",
    "\n",
    "pkgs = [\n",
    "    \"numpy\",       # PyTorch & TensorFlow dependency\n",
    "    \"matplotlib\",  # Plotting library\n",
    "    \"tiktoken\",    # Tokenizer\n",
    "    \"torch\",       # Deep learning library\n",
    "    \"tqdm\",        # Progress bar\n",
    "    \"tensorflow\",  # For OpenAI's pretrained weights\n",
    "]\n",
    "for p in pkgs:\n",
    "    print(f\"{p} version: {version(p)}\")"
   ],
   "metadata": {
    "colab": {
     "base_uri": "https://localhost:8080/"
    },
    "id": "1KdoKchF7-_q",
    "outputId": "7250b8d5-e38e-42f2-e93c-6de459933e7b"
   },
   "execution_count": 2,
   "outputs": [
    {
     "output_type": "stream",
     "name": "stdout",
     "text": [
      "numpy version: 2.0.2\n",
      "matplotlib version: 3.10.0\n",
      "tiktoken version: 0.9.0\n",
      "torch version: 2.6.0+cu124\n",
      "tqdm version: 4.67.1\n",
      "tensorflow version: 2.18.0\n"
     ]
    }
   ]
  },
  {
   "cell_type": "markdown",
   "source": [
    "# 1. Dataset downloading and formatting"
   ],
   "metadata": {
    "id": "rbRS8fEFKsHr"
   }
  },
  {
   "cell_type": "code",
   "source": [
    "import json\n",
    "import os\n",
    "import urllib\n",
    "\n",
    "\n",
    "def download_and_load_file(file_path, url):\n",
    "\n",
    "    if not os.path.exists(file_path):\n",
    "        with urllib.request.urlopen(url) as response:\n",
    "            text_data = response.read().decode(\"utf-8\")\n",
    "        with open(file_path, \"w\", encoding=\"utf-8\") as file:\n",
    "            file.write(text_data)\n",
    "\n",
    "    # The book originally contained this unnecessary \"else\" clause:\n",
    "    #else:\n",
    "    #    with open(file_path, \"r\", encoding=\"utf-8\") as file:\n",
    "    #        text_data = file.read()\n",
    "\n",
    "    with open(file_path, \"r\", encoding=\"utf-8\") as file:\n",
    "        data = json.load(file)\n",
    "\n",
    "    return data\n",
    "\n",
    "\n",
    "file_path = \"instruction-data.json\"\n",
    "url = (\n",
    "    \"https://raw.githubusercontent.com/rasbt/LLMs-from-scratch\"\n",
    "    \"/main/ch07/01_main-chapter-code/instruction-data.json\"\n",
    ")\n",
    "\n",
    "data = download_and_load_file(file_path, url)\n",
    "print(\"Number of entries:\", len(data))"
   ],
   "metadata": {
    "colab": {
     "base_uri": "https://localhost:8080/"
    },
    "id": "aQcbNOeD7-9y",
    "outputId": "81fff4e4-f340-4405-f5af-0ab378ca8cbd"
   },
   "execution_count": 3,
   "outputs": [
    {
     "output_type": "stream",
     "name": "stdout",
     "text": [
      "Number of entries: 1100\n"
     ]
    }
   ]
  },
  {
   "cell_type": "code",
   "source": [
    "print(\"Example entry:\\n\", data[50])"
   ],
   "metadata": {
    "colab": {
     "base_uri": "https://localhost:8080/"
    },
    "id": "R6hLK6ZM7-6Y",
    "outputId": "745018b2-caa0-485d-af43-1fee182c73cf"
   },
   "execution_count": 4,
   "outputs": [
    {
     "output_type": "stream",
     "name": "stdout",
     "text": [
      "Example entry:\n",
      " {'instruction': 'Identify the correct spelling of the following word.', 'input': 'Ocassion', 'output': \"The correct spelling is 'Occasion.'\"}\n"
     ]
    }
   ]
  },
  {
   "cell_type": "code",
   "source": [
    "print(\"Another example entry:\\n\", data[999])"
   ],
   "metadata": {
    "colab": {
     "base_uri": "https://localhost:8080/"
    },
    "id": "V2YVIajf7-3N",
    "outputId": "8c638668-962c-4e71-b0b0-931d8aabc085"
   },
   "execution_count": 5,
   "outputs": [
    {
     "output_type": "stream",
     "name": "stdout",
     "text": [
      "Another example entry:\n",
      " {'instruction': \"What is an antonym of 'complicated'?\", 'input': '', 'output': \"An antonym of 'complicated' is 'simple'.\"}\n"
     ]
    }
   ]
  },
  {
   "cell_type": "markdown",
   "source": [
    "- we use Alpaca-style prompt formatting, which was the original prompt template for instruction finetuning\n",
    "- we format the input that we will pass as input to the LLM"
   ],
   "metadata": {
    "id": "Rsaraq_yLGTM"
   }
  },
  {
   "cell_type": "code",
   "source": [
    "def format_input(entry):\n",
    "    instruction_text = (\n",
    "        f\"Below is an instruction that describes a task. \"\n",
    "        f\"Write a response that appropriately completes the request.\"\n",
    "        f\"\\n\\n### Instruction:\\n{entry['instruction']}\"\n",
    "    )\n",
    "\n",
    "    input_text = f\"\\n\\n### Input:\\n{entry['input']}\" if entry[\"input\"] else \"\"\n",
    "\n",
    "    return instruction_text + input_text"
   ],
   "metadata": {
    "id": "cUGe9iq17-1G"
   },
   "execution_count": 6,
   "outputs": []
  },
  {
   "cell_type": "markdown",
   "source": [
    "A formatted response with input field looks like as shown below"
   ],
   "metadata": {
    "id": "Sjf5F2xKLT6A"
   }
  },
  {
   "cell_type": "code",
   "source": [
    "model_input = format_input(data[50])\n",
    "desired_response = f\"\\n\\n### Response:\\n{data[50]['output']}\"\n",
    "\n",
    "print(model_input + desired_response)"
   ],
   "metadata": {
    "colab": {
     "base_uri": "https://localhost:8080/"
    },
    "id": "qjVXZH-67-yn",
    "outputId": "61bd380a-57cf-4e04-c16f-ce2406bd26be"
   },
   "execution_count": 7,
   "outputs": [
    {
     "output_type": "stream",
     "name": "stdout",
     "text": [
      "Below is an instruction that describes a task. Write a response that appropriately completes the request.\n",
      "\n",
      "### Instruction:\n",
      "Identify the correct spelling of the following word.\n",
      "\n",
      "### Input:\n",
      "Ocassion\n",
      "\n",
      "### Response:\n",
      "The correct spelling is 'Occasion.'\n"
     ]
    }
   ]
  },
  {
   "cell_type": "code",
   "source": [
    "model_input = format_input(data[999])\n",
    "desired_response = f\"\\n\\n### Response:\\n{data[999]['output']}\"\n",
    "\n",
    "print(model_input + desired_response)"
   ],
   "metadata": {
    "colab": {
     "base_uri": "https://localhost:8080/"
    },
    "id": "uWv-bgSQ7-wJ",
    "outputId": "234a6069-f6a2-4c87-ed0f-03cab99b3149"
   },
   "execution_count": 8,
   "outputs": [
    {
     "output_type": "stream",
     "name": "stdout",
     "text": [
      "Below is an instruction that describes a task. Write a response that appropriately completes the request.\n",
      "\n",
      "### Instruction:\n",
      "What is an antonym of 'complicated'?\n",
      "\n",
      "### Response:\n",
      "An antonym of 'complicated' is 'simple'.\n"
     ]
    }
   ]
  },
  {
   "cell_type": "markdown",
   "source": [
    "# 2. Organizing data into training batches"
   ],
   "metadata": {
    "id": "c_wr_4LGLpEO"
   }
  },
  {
   "cell_type": "markdown",
   "source": [
    "- first, let's split the dataset:"
   ],
   "metadata": {
    "id": "mi1SXZYcL5Mb"
   }
  },
  {
   "cell_type": "code",
   "source": [
    "train_portion = int(len(data) * 0.85)  # 85% for training\n",
    "test_portion = int(len(data) * 0.1)    # 10% for testing\n",
    "val_portion = len(data) - train_portion - test_portion  # Remaining 5% for validation\n",
    "\n",
    "train_data = data[:train_portion]\n",
    "test_data = data[train_portion:train_portion + test_portion]\n",
    "val_data = data[train_portion + test_portion:]\n",
    "\n",
    "print(\"Training set length:\", len(train_data))\n",
    "print(\"Validation set length:\", len(val_data))\n",
    "print(\"Test set length:\", len(test_data))"
   ],
   "metadata": {
    "colab": {
     "base_uri": "https://localhost:8080/"
    },
    "id": "DgFJUvQp7-tx",
    "outputId": "82d283f2-e3c6-4494-ff6f-bd871ac01983"
   },
   "execution_count": 9,
   "outputs": [
    {
     "output_type": "stream",
     "name": "stdout",
     "text": [
      "Training set length: 935\n",
      "Validation set length: 55\n",
      "Test set length: 110\n"
     ]
    }
   ]
  },
  {
   "cell_type": "markdown",
   "source": [
    "- Let's implement `InstructionDataset` class that pre-tokenizes all inputs in the dataset, similar to the `SpamDataset` class in classification finetuning:"
   ],
   "metadata": {
    "id": "S2w5wyHgMRR3"
   }
  },
  {
   "cell_type": "code",
   "source": [
    "import torch\n",
    "from torch.utils.data import Dataset\n",
    "\n",
    "class InstructionDataset(Dataset):\n",
    "  def __init__(self, data, tokenizer):\n",
    "    self.data = data\n",
    "\n",
    "    # pre-tokenizer texts\n",
    "    self.encoded_texts = []\n",
    "    for entry in data:\n",
    "      instruction_plus_input = format_input(entry)\n",
    "      response_text = f\"\\n\\n### Response:\\n{entry['output']}\"\n",
    "      full_text = instruction_plus_input + response_text\n",
    "      self.encoded_texts.append(tokenizer.encode(full_text))\n",
    "\n",
    "  def __getitem__(self, index):\n",
    "    return self.encoded_texts[index]\n",
    "\n",
    "  def __len__(self):\n",
    "    return len(self.data)"
   ],
   "metadata": {
    "id": "T0uVn3y87-rL"
   },
   "execution_count": 10,
   "outputs": []
  },
  {
   "cell_type": "markdown",
   "source": [
    "- now use the <|endoftext|> token as a padding token and pad all inputs in a batch to a similar length (not the entire dataset)\n",
    "- to do that, we custom \"collate\" function that can pass to the data loader\n",
    "- This custom collate function pads the training examples in each batch to have the same length (but different batches can have different lengths)"
   ],
   "metadata": {
    "id": "Nf7dMzOpFWtY"
   }
  },
  {
   "cell_type": "code",
   "source": [
    "import tiktoken\n",
    "tokenizer = tiktoken.get_encoding(\"gpt2\")\n",
    "\n",
    "print(tokenizer.encode(\"<|endoftext|>\", allowed_special={\"<|endoftext|>\"}))"
   ],
   "metadata": {
    "colab": {
     "base_uri": "https://localhost:8080/"
    },
    "id": "m0rvN06KFUHn",
    "outputId": "7b5fda59-22bc-445f-f0dc-444a7f21a02b"
   },
   "execution_count": 11,
   "outputs": [
    {
     "output_type": "stream",
     "name": "stdout",
     "text": [
      "[50256]\n"
     ]
    }
   ]
  },
  {
   "cell_type": "code",
   "source": [
    "def custom_collate_draft_1(batch,\n",
    "                           pad_token_id=50256,\n",
    "                           device=\"cpu\"):\n",
    "  # find the longest sequence in the batch and increase max_length\n",
    "  # by +1 for the padding token, which indicates the end of sequence/answer\n",
    "  batch_max_length = max(len(item) + 1 for item in batch)\n",
    "\n",
    "  # pad and prepare inputs\n",
    "  inputs_lst = []\n",
    "\n",
    "  for item in batch:\n",
    "    new_item = item.copy()\n",
    "    # Add an <|endoftext|> token\n",
    "    new_item += [pad_token_id]\n",
    "    # Pad sequences to batch_max_length\n",
    "    padded = (new_item + [pad_token_id] * (batch_max_length - len(new_item)))\n",
    "    # Via padded[:-1], we remove the extra padded token\n",
    "    # that has been added via the +1 setting in batch_max_length\n",
    "    # (the extra padding token will be relevant in later codes)\n",
    "    inputs = torch.tensor(padded[:-1])\n",
    "    inputs_lst.append(inputs)\n",
    "\n",
    "  # convert list of inputs to tensor and transfer to target device\n",
    "  inputs_tensor = torch.stack(inputs_lst).to(device)\n",
    "  return inputs_tensor"
   ],
   "metadata": {
    "id": "-cLhKLcJ7-oq"
   },
   "execution_count": 12,
   "outputs": []
  },
  {
   "cell_type": "code",
   "source": [
    "inputs_1 = [0, 1, 2, 3, 4]\n",
    "inputs_2 = [5, 6]\n",
    "inputs_3 = [7, 8, 9]\n",
    "\n",
    "batch = (\n",
    "    inputs_1,\n",
    "    inputs_2,\n",
    "    inputs_3\n",
    ")\n",
    "\n",
    "print(custom_collate_draft_1(batch))"
   ],
   "metadata": {
    "colab": {
     "base_uri": "https://localhost:8080/"
    },
    "id": "Wli2axML7-l_",
    "outputId": "e1c68556-515e-4c96-ab24-bb95b9f0407e"
   },
   "execution_count": 13,
   "outputs": [
    {
     "output_type": "stream",
     "name": "stdout",
     "text": [
      "tensor([[    0,     1,     2,     3,     4],\n",
      "        [    5,     6, 50256, 50256, 50256],\n",
      "        [    7,     8,     9, 50256, 50256]])\n"
     ]
    }
   ]
  },
  {
   "cell_type": "markdown",
   "source": [
    "- but that only for input, for target, everything must be shifted by +1:"
   ],
   "metadata": {
    "id": "xN3lXHsOHWlJ"
   }
  },
  {
   "cell_type": "code",
   "source": [
    "def custom_collate_draft_2(batch,\n",
    "                           pad_token_id=50256,\n",
    "                           device=\"cpu\"):\n",
    "  # find the longest sequence in the batch and increase max_length\n",
    "  # by +1 for the padding token, which indicates the end of sequence/answer\n",
    "  batch_max_length = max(len(item) + 1 for item in batch)\n",
    "\n",
    "  # pad and prepare inputs\n",
    "  inputs_lst = []\n",
    "  targets_lst = []\n",
    "\n",
    "  for item in batch:\n",
    "    new_item = item.copy()\n",
    "    # Add an <|endoftext|> token\n",
    "    new_item += [pad_token_id]\n",
    "    # Pad sequences to batch_max_length\n",
    "    padded = (new_item + [pad_token_id] * (batch_max_length - len(new_item)))\n",
    "\n",
    "    inputs = torch.tensor(padded[:-1]) # Truncate the last token for inputs\n",
    "    targets = torch.tensor(padded[1:])  # Shift +1 to the right for targets\n",
    "\n",
    "    inputs_lst.append(inputs)\n",
    "    targets_lst.append(targets)\n",
    "\n",
    "  # convert list of inputs to tensor and transfer to target device\n",
    "  inputs_tensor = torch.stack(inputs_lst).to(device)\n",
    "  targets_tensor = torch.stack(targets_lst).to(device)\n",
    "  return inputs_tensor, targets_tensor"
   ],
   "metadata": {
    "id": "UFlBZb8g7-kO"
   },
   "execution_count": 14,
   "outputs": []
  },
  {
   "cell_type": "code",
   "source": [
    "inputs, targets = custom_collate_draft_2(batch)\n",
    "print(inputs)\n",
    "print(targets)"
   ],
   "metadata": {
    "colab": {
     "base_uri": "https://localhost:8080/"
    },
    "id": "lMzY15if7-hG",
    "outputId": "f9756868-ec0e-4f11-bc52-f730e2b411e8"
   },
   "execution_count": 15,
   "outputs": [
    {
     "output_type": "stream",
     "name": "stdout",
     "text": [
      "tensor([[    0,     1,     2,     3,     4],\n",
      "        [    5,     6, 50256, 50256, 50256],\n",
      "        [    7,     8,     9, 50256, 50256]])\n",
      "tensor([[    1,     2,     3,     4, 50256],\n",
      "        [    6, 50256, 50256, 50256, 50256],\n",
      "        [    8,     9, 50256, 50256, 50256]])\n"
     ]
    }
   ]
  },
  {
   "cell_type": "markdown",
   "source": [
    "- now convert the unnecessary padding tokens in `targets` (not `inputs`)that don't signify the end of sequence into `ignore_index` so that they won't affect loss during training\n",
    "- also introduce the `allowed_max_length` in case we want to limit the length of the samples; this will be useful if you plan to work with your own datasets that are longer than the 1024 token context size supported by the GPT-2 model:"
   ],
   "metadata": {
    "id": "hzYmeojcIDVx"
   }
  },
  {
   "cell_type": "code",
   "source": [
    "def custom_collate_fn(batch,\n",
    "                      pad_token_id=50256,\n",
    "                      ignore_index=-100,\n",
    "                      allowed_max_length=None,\n",
    "                      device=\"cpu\"):\n",
    "  # find the longest sequence in the batch and increase max_length\n",
    "  # by +1 for the padding token, which indicates the end of sequence/answer\n",
    "  batch_max_length = max(len(item) + 1 for item in batch)\n",
    "\n",
    "  # pad and prepare inputs\n",
    "  inputs_lst = []\n",
    "  targets_lst = []\n",
    "\n",
    "  for item in batch:\n",
    "    new_item = item.copy()\n",
    "    # Add an <|endoftext|> token\n",
    "    new_item += [pad_token_id]\n",
    "    # Pad sequences to batch_max_length\n",
    "    padded = (new_item + [pad_token_id] * (batch_max_length - len(new_item)))\n",
    "\n",
    "    inputs = torch.tensor(padded[:-1]) # Truncate the last token for inputs\n",
    "    targets = torch.tensor(padded[1:])  # Shift +1 to the right for targets\n",
    "\n",
    "    # replace all but the first padding tokens in targets by `ignore_index`\n",
    "    mask = targets == pad_token_id\n",
    "    padding_tokens_indices = torch.nonzero(mask).squeeze() # indices of the padding tokens in `targets`\n",
    "    if padding_tokens_indices.numel() > 1:\n",
    "      targets[padding_tokens_indices[1:]] = ignore_index\n",
    "\n",
    "    # optionally truncate to maximum sequence length\n",
    "    if allowed_max_length is not None:\n",
    "      inputs = inputs[:allowed_max_length]\n",
    "      targets = targets[:allowed_max_length]\n",
    "\n",
    "    inputs_lst.append(inputs)\n",
    "    targets_lst.append(targets)\n",
    "\n",
    "  # convert list of inputs to tensor and transfer to target device\n",
    "  inputs_tensor = torch.stack(inputs_lst).to(device)\n",
    "  targets_tensor = torch.stack(targets_lst).to(device)\n",
    "\n",
    "  return inputs_tensor, targets_tensor"
   ],
   "metadata": {
    "id": "GYb9LqKi7-ee"
   },
   "execution_count": 16,
   "outputs": []
  },
  {
   "cell_type": "code",
   "source": [
    "inputs, targets = custom_collate_fn(batch)\n",
    "print(inputs)\n",
    "print(targets)"
   ],
   "metadata": {
    "colab": {
     "base_uri": "https://localhost:8080/"
    },
    "id": "DWvVmLGI7-bn",
    "outputId": "05e25d2b-2ca3-41c7-b59a-b0390cb0f7d8"
   },
   "execution_count": 17,
   "outputs": [
    {
     "output_type": "stream",
     "name": "stdout",
     "text": [
      "tensor([[    0,     1,     2,     3,     4],\n",
      "        [    5,     6, 50256, 50256, 50256],\n",
      "        [    7,     8,     9, 50256, 50256]])\n",
      "tensor([[    1,     2,     3,     4, 50256],\n",
      "        [    6, 50256,  -100,  -100,  -100],\n",
      "        [    8,     9, 50256,  -100,  -100]])\n"
     ]
    }
   ]
  },
  {
   "cell_type": "markdown",
   "source": [
    "- the reason why introduce `ignore_index`:"
   ],
   "metadata": {
    "id": "HA3qoDaCLbkf"
   }
  },
  {
   "cell_type": "code",
   "source": [
    "logits_1 = torch.tensor(\n",
    "    [[-1.0, 1.0],  # 1st training example\n",
    "     [-0.5, 1.5]]  # 2nd training example\n",
    ")\n",
    "targets_1 = torch.tensor([0, 1])\n",
    "\n",
    "\n",
    "loss_1 = torch.nn.functional.cross_entropy(logits_1, targets_1)\n",
    "print(loss_1)"
   ],
   "metadata": {
    "colab": {
     "base_uri": "https://localhost:8080/"
    },
    "id": "r0ltRJxh7-Z9",
    "outputId": "5e93b03b-ad1f-4594-83d8-b34f8d862010"
   },
   "execution_count": 18,
   "outputs": [
    {
     "output_type": "stream",
     "name": "stdout",
     "text": [
      "tensor(1.1269)\n"
     ]
    }
   ]
  },
  {
   "cell_type": "code",
   "source": [
    "# add more training example will influence the loss\n",
    "logits_2 = torch.tensor(\n",
    "    [[-1.0, 1.0],\n",
    "     [-0.5, 1.5],\n",
    "     [-0.5, 1.5]]  # New 3rd training example\n",
    ")\n",
    "targets_2 = torch.tensor([0, 1, 1])\n",
    "\n",
    "loss_2 = torch.nn.functional.cross_entropy(logits_2, targets_2)\n",
    "print(loss_2)"
   ],
   "metadata": {
    "colab": {
     "base_uri": "https://localhost:8080/"
    },
    "id": "KUpMEuOH7-WV",
    "outputId": "8c5dd2d6-cfce-4365-ecea-eb2fe915ce05"
   },
   "execution_count": 19,
   "outputs": [
    {
     "output_type": "stream",
     "name": "stdout",
     "text": [
      "tensor(0.7936)\n"
     ]
    }
   ]
  },
  {
   "cell_type": "code",
   "source": [
    "# try to replace the class label of one of the examples with -100\n",
    "targets_3 = torch.tensor([0, 1, -100])\n",
    "\n",
    "loss_3 = torch.nn.functional.cross_entropy(logits_2, targets_3)\n",
    "print(loss_3)\n",
    "print(\"loss_1 == loss_3:\", loss_1 == loss_3)"
   ],
   "metadata": {
    "colab": {
     "base_uri": "https://localhost:8080/"
    },
    "id": "vMEYyM8L7-Tl",
    "outputId": "f85c4d3c-8f1c-4493-9898-a5d3d7e9df5c"
   },
   "execution_count": 20,
   "outputs": [
    {
     "output_type": "stream",
     "name": "stdout",
     "text": [
      "tensor(1.1269)\n",
      "loss_1 == loss_3: tensor(True)\n"
     ]
    }
   ]
  },
  {
   "cell_type": "markdown",
   "source": [
    "- Using this -100 `ignore_index`, we can ignore the additional end-of-text (padding) tokens in the batches that we used to pad the training examples to equal length\n",
    "- However, we don't want to ignore the first instance of the end-of-text (padding) token (50256) because it can help signal to the LLM when the response is complete"
   ],
   "metadata": {
    "id": "cmFFo4IgMVuH"
   }
  },
  {
   "cell_type": "markdown",
   "source": [
    "# 3. Creating DataLoaders"
   ],
   "metadata": {
    "id": "JwqbUeQvMmIE"
   }
  },
  {
   "cell_type": "code",
   "source": [
    "device = torch.device(\"cuda\" if torch.cuda.is_available() else \"cpu\")"
   ],
   "metadata": {
    "id": "uGBLY66-7-Rz"
   },
   "execution_count": 21,
   "outputs": []
  },
  {
   "cell_type": "markdown",
   "source": [
    "- Using the `partial` function from Python's `functools` standard library, we create a new function with the `device` argument of the original function pre-filled:"
   ],
   "metadata": {
    "id": "urLw8B6oNrm1"
   }
  },
  {
   "cell_type": "code",
   "source": [
    "from functools import partial\n",
    "\n",
    "customized_collate_fn = partial(\n",
    "    custom_collate_fn,\n",
    "    device=device,\n",
    "    allowed_max_length=1024\n",
    ")"
   ],
   "metadata": {
    "id": "ts683Hxn7-Ob"
   },
   "execution_count": 22,
   "outputs": []
  },
  {
   "cell_type": "markdown",
   "source": [
    "- Next, we instantiate the data loaders, and provide our own collate function for the batching process:"
   ],
   "metadata": {
    "id": "-BSlcI7_N3R6"
   }
  },
  {
   "cell_type": "code",
   "source": [
    "from torch.utils.data import DataLoader\n",
    "\n",
    "\n",
    "num_workers = 0\n",
    "batch_size = 8\n",
    "\n",
    "torch.manual_seed(123)\n",
    "\n",
    "train_dataset = InstructionDataset(train_data, tokenizer)\n",
    "train_loader = DataLoader(\n",
    "    train_dataset,\n",
    "    batch_size=batch_size,\n",
    "    collate_fn=customized_collate_fn,\n",
    "    shuffle=True,\n",
    "    drop_last=True,\n",
    "    num_workers=num_workers\n",
    ")\n",
    "\n",
    "val_dataset = InstructionDataset(val_data, tokenizer)\n",
    "val_loader = DataLoader(\n",
    "    val_dataset,\n",
    "    batch_size=batch_size,\n",
    "    collate_fn=customized_collate_fn,\n",
    "    shuffle=False,\n",
    "    drop_last=False,\n",
    "    num_workers=num_workers\n",
    ")\n",
    "\n",
    "test_dataset = InstructionDataset(test_data, tokenizer)\n",
    "test_loader = DataLoader(\n",
    "    test_dataset,\n",
    "    batch_size=batch_size,\n",
    "    collate_fn=customized_collate_fn,\n",
    "    shuffle=False,\n",
    "    drop_last=False,\n",
    "    num_workers=num_workers\n",
    ")"
   ],
   "metadata": {
    "id": "TNqiSMgt7-L1"
   },
   "execution_count": 23,
   "outputs": []
  },
  {
   "cell_type": "code",
   "source": [
    "print(\"Train loader:\")\n",
    "for inputs, targets in train_loader:\n",
    "    print(inputs.shape, targets.shape)"
   ],
   "metadata": {
    "colab": {
     "base_uri": "https://localhost:8080/"
    },
    "id": "XhC_V2M57-JN",
    "outputId": "0e94dd9f-d8aa-41c0-ba64-c01f67883238"
   },
   "execution_count": 24,
   "outputs": [
    {
     "output_type": "stream",
     "name": "stdout",
     "text": [
      "Train loader:\n",
      "torch.Size([8, 61]) torch.Size([8, 61])\n",
      "torch.Size([8, 76]) torch.Size([8, 76])\n",
      "torch.Size([8, 73]) torch.Size([8, 73])\n",
      "torch.Size([8, 68]) torch.Size([8, 68])\n",
      "torch.Size([8, 65]) torch.Size([8, 65])\n",
      "torch.Size([8, 72]) torch.Size([8, 72])\n",
      "torch.Size([8, 80]) torch.Size([8, 80])\n",
      "torch.Size([8, 67]) torch.Size([8, 67])\n",
      "torch.Size([8, 62]) torch.Size([8, 62])\n",
      "torch.Size([8, 75]) torch.Size([8, 75])\n",
      "torch.Size([8, 62]) torch.Size([8, 62])\n",
      "torch.Size([8, 68]) torch.Size([8, 68])\n",
      "torch.Size([8, 67]) torch.Size([8, 67])\n",
      "torch.Size([8, 77]) torch.Size([8, 77])\n",
      "torch.Size([8, 69]) torch.Size([8, 69])\n",
      "torch.Size([8, 79]) torch.Size([8, 79])\n",
      "torch.Size([8, 71]) torch.Size([8, 71])\n",
      "torch.Size([8, 66]) torch.Size([8, 66])\n",
      "torch.Size([8, 83]) torch.Size([8, 83])\n",
      "torch.Size([8, 68]) torch.Size([8, 68])\n",
      "torch.Size([8, 80]) torch.Size([8, 80])\n",
      "torch.Size([8, 71]) torch.Size([8, 71])\n",
      "torch.Size([8, 69]) torch.Size([8, 69])\n",
      "torch.Size([8, 65]) torch.Size([8, 65])\n",
      "torch.Size([8, 68]) torch.Size([8, 68])\n",
      "torch.Size([8, 60]) torch.Size([8, 60])\n",
      "torch.Size([8, 59]) torch.Size([8, 59])\n",
      "torch.Size([8, 69]) torch.Size([8, 69])\n",
      "torch.Size([8, 63]) torch.Size([8, 63])\n",
      "torch.Size([8, 65]) torch.Size([8, 65])\n",
      "torch.Size([8, 76]) torch.Size([8, 76])\n",
      "torch.Size([8, 66]) torch.Size([8, 66])\n",
      "torch.Size([8, 71]) torch.Size([8, 71])\n",
      "torch.Size([8, 91]) torch.Size([8, 91])\n",
      "torch.Size([8, 65]) torch.Size([8, 65])\n",
      "torch.Size([8, 64]) torch.Size([8, 64])\n",
      "torch.Size([8, 67]) torch.Size([8, 67])\n",
      "torch.Size([8, 66]) torch.Size([8, 66])\n",
      "torch.Size([8, 64]) torch.Size([8, 64])\n",
      "torch.Size([8, 65]) torch.Size([8, 65])\n",
      "torch.Size([8, 75]) torch.Size([8, 75])\n",
      "torch.Size([8, 89]) torch.Size([8, 89])\n",
      "torch.Size([8, 59]) torch.Size([8, 59])\n",
      "torch.Size([8, 88]) torch.Size([8, 88])\n",
      "torch.Size([8, 83]) torch.Size([8, 83])\n",
      "torch.Size([8, 83]) torch.Size([8, 83])\n",
      "torch.Size([8, 70]) torch.Size([8, 70])\n",
      "torch.Size([8, 65]) torch.Size([8, 65])\n",
      "torch.Size([8, 74]) torch.Size([8, 74])\n",
      "torch.Size([8, 76]) torch.Size([8, 76])\n",
      "torch.Size([8, 67]) torch.Size([8, 67])\n",
      "torch.Size([8, 75]) torch.Size([8, 75])\n",
      "torch.Size([8, 83]) torch.Size([8, 83])\n",
      "torch.Size([8, 69]) torch.Size([8, 69])\n",
      "torch.Size([8, 67]) torch.Size([8, 67])\n",
      "torch.Size([8, 60]) torch.Size([8, 60])\n",
      "torch.Size([8, 60]) torch.Size([8, 60])\n",
      "torch.Size([8, 66]) torch.Size([8, 66])\n",
      "torch.Size([8, 80]) torch.Size([8, 80])\n",
      "torch.Size([8, 71]) torch.Size([8, 71])\n",
      "torch.Size([8, 61]) torch.Size([8, 61])\n",
      "torch.Size([8, 58]) torch.Size([8, 58])\n",
      "torch.Size([8, 71]) torch.Size([8, 71])\n",
      "torch.Size([8, 67]) torch.Size([8, 67])\n",
      "torch.Size([8, 68]) torch.Size([8, 68])\n",
      "torch.Size([8, 63]) torch.Size([8, 63])\n",
      "torch.Size([8, 87]) torch.Size([8, 87])\n",
      "torch.Size([8, 68]) torch.Size([8, 68])\n",
      "torch.Size([8, 64]) torch.Size([8, 64])\n",
      "torch.Size([8, 68]) torch.Size([8, 68])\n",
      "torch.Size([8, 71]) torch.Size([8, 71])\n",
      "torch.Size([8, 68]) torch.Size([8, 68])\n",
      "torch.Size([8, 71]) torch.Size([8, 71])\n",
      "torch.Size([8, 61]) torch.Size([8, 61])\n",
      "torch.Size([8, 65]) torch.Size([8, 65])\n",
      "torch.Size([8, 67]) torch.Size([8, 67])\n",
      "torch.Size([8, 65]) torch.Size([8, 65])\n",
      "torch.Size([8, 64]) torch.Size([8, 64])\n",
      "torch.Size([8, 60]) torch.Size([8, 60])\n",
      "torch.Size([8, 72]) torch.Size([8, 72])\n",
      "torch.Size([8, 64]) torch.Size([8, 64])\n",
      "torch.Size([8, 70]) torch.Size([8, 70])\n",
      "torch.Size([8, 57]) torch.Size([8, 57])\n",
      "torch.Size([8, 72]) torch.Size([8, 72])\n",
      "torch.Size([8, 64]) torch.Size([8, 64])\n",
      "torch.Size([8, 68]) torch.Size([8, 68])\n",
      "torch.Size([8, 62]) torch.Size([8, 62])\n",
      "torch.Size([8, 74]) torch.Size([8, 74])\n",
      "torch.Size([8, 80]) torch.Size([8, 80])\n",
      "torch.Size([8, 68]) torch.Size([8, 68])\n",
      "torch.Size([8, 70]) torch.Size([8, 70])\n",
      "torch.Size([8, 91]) torch.Size([8, 91])\n",
      "torch.Size([8, 61]) torch.Size([8, 61])\n",
      "torch.Size([8, 66]) torch.Size([8, 66])\n",
      "torch.Size([8, 80]) torch.Size([8, 80])\n",
      "torch.Size([8, 81]) torch.Size([8, 81])\n",
      "torch.Size([8, 74]) torch.Size([8, 74])\n",
      "torch.Size([8, 82]) torch.Size([8, 82])\n",
      "torch.Size([8, 63]) torch.Size([8, 63])\n",
      "torch.Size([8, 83]) torch.Size([8, 83])\n",
      "torch.Size([8, 68]) torch.Size([8, 68])\n",
      "torch.Size([8, 67]) torch.Size([8, 67])\n",
      "torch.Size([8, 77]) torch.Size([8, 77])\n",
      "torch.Size([8, 91]) torch.Size([8, 91])\n",
      "torch.Size([8, 64]) torch.Size([8, 64])\n",
      "torch.Size([8, 61]) torch.Size([8, 61])\n",
      "torch.Size([8, 75]) torch.Size([8, 75])\n",
      "torch.Size([8, 64]) torch.Size([8, 64])\n",
      "torch.Size([8, 66]) torch.Size([8, 66])\n",
      "torch.Size([8, 78]) torch.Size([8, 78])\n",
      "torch.Size([8, 66]) torch.Size([8, 66])\n",
      "torch.Size([8, 64]) torch.Size([8, 64])\n",
      "torch.Size([8, 83]) torch.Size([8, 83])\n",
      "torch.Size([8, 66]) torch.Size([8, 66])\n",
      "torch.Size([8, 74]) torch.Size([8, 74])\n",
      "torch.Size([8, 69]) torch.Size([8, 69])\n"
     ]
    }
   ]
  },
  {
   "cell_type": "code",
   "source": [
    "print(inputs[0])"
   ],
   "metadata": {
    "colab": {
     "base_uri": "https://localhost:8080/"
    },
    "id": "hYW0lKI37-Gi",
    "outputId": "0823f6e9-36b7-4420-f6a5-6f235fde1f97"
   },
   "execution_count": 25,
   "outputs": [
    {
     "output_type": "stream",
     "name": "stdout",
     "text": [
      "tensor([21106,   318,   281, 12064,   326,  8477,   257,  4876,    13, 19430,\n",
      "          257,  2882,   326, 20431, 32543,   262,  2581,    13,   198,   198,\n",
      "        21017, 46486,    25,   198, 30003,  6525,   262,  6827,  1262,   257,\n",
      "          985,   576,    13,   198,   198, 21017, 23412,    25,   198,   464,\n",
      "         5156,   318,   845, 13779,    13,   198,   198, 21017, 18261,    25,\n",
      "          198,   464,  5156,   318,   355, 13779,   355,   257,  4936,    13,\n",
      "        50256, 50256, 50256, 50256, 50256, 50256, 50256, 50256, 50256],\n",
      "       device='cuda:0')\n"
     ]
    }
   ]
  },
  {
   "cell_type": "code",
   "source": [
    "print(targets[0])"
   ],
   "metadata": {
    "colab": {
     "base_uri": "https://localhost:8080/"
    },
    "id": "oQhbYaea7-E6",
    "outputId": "4d55c948-6a7c-4505-969d-9c2438ebd17c"
   },
   "execution_count": 26,
   "outputs": [
    {
     "output_type": "stream",
     "name": "stdout",
     "text": [
      "tensor([  318,   281, 12064,   326,  8477,   257,  4876,    13, 19430,   257,\n",
      "         2882,   326, 20431, 32543,   262,  2581,    13,   198,   198, 21017,\n",
      "        46486,    25,   198, 30003,  6525,   262,  6827,  1262,   257,   985,\n",
      "          576,    13,   198,   198, 21017, 23412,    25,   198,   464,  5156,\n",
      "          318,   845, 13779,    13,   198,   198, 21017, 18261,    25,   198,\n",
      "          464,  5156,   318,   355, 13779,   355,   257,  4936,    13, 50256,\n",
      "         -100,  -100,  -100,  -100,  -100,  -100,  -100,  -100,  -100],\n",
      "       device='cuda:0')\n"
     ]
    }
   ]
  },
  {
   "cell_type": "markdown",
   "source": [
    "# 4. Loading a pretrained LLM"
   ],
   "metadata": {
    "id": "gUe3mfp5O8fz"
   }
  },
  {
   "cell_type": "code",
   "source": [
    "CHOOSE_MODEL = \"gpt2-medium (355M)\"\n",
    "INPUT_PROMPT = \"Every effort moves\"\n",
    "\n",
    "BASE_CONFIG = {\n",
    "    \"vocab_size\": 50257,     # Vocabulary size\n",
    "    \"context_length\": 1024,  # Context length\n",
    "    \"drop_rate\": 0.0,        # Dropout rate\n",
    "    \"qkv_bias\": True         # Query-key-value bias\n",
    "}\n",
    "\n",
    "model_configs = {\n",
    "    \"gpt2-small (124M)\": {\"emb_dim\": 768, \"n_layers\": 12, \"n_heads\": 12},\n",
    "    \"gpt2-medium (355M)\": {\"emb_dim\": 1024, \"n_layers\": 24, \"n_heads\": 16},\n",
    "    \"gpt2-large (774M)\": {\"emb_dim\": 1280, \"n_layers\": 36, \"n_heads\": 20},\n",
    "    \"gpt2-xl (1558M)\": {\"emb_dim\": 1600, \"n_layers\": 48, \"n_heads\": 25},\n",
    "}\n",
    "\n",
    "BASE_CONFIG.update(model_configs[CHOOSE_MODEL])"
   ],
   "metadata": {
    "id": "_cr3b5OV7-Bk"
   },
   "execution_count": 27,
   "outputs": []
  },
  {
   "cell_type": "code",
   "source": [
    "import urllib.request\n",
    "\n",
    "url = (\n",
    "    \"https://raw.githubusercontent.com/rasbt/\"\n",
    "    \"LLMs-from-scratch/main/ch05/\"\n",
    "    \"01_main-chapter-code/gpt_download.py\"\n",
    ")\n",
    "filename = url.split(\"/\")[-1]\n",
    "urllib.request.urlretrieve(url, filename)"
   ],
   "metadata": {
    "colab": {
     "base_uri": "https://localhost:8080/"
    },
    "id": "k0_78q1P7-AZ",
    "outputId": "cab5f111-08f8-453e-9057-5a6f6673f60d"
   },
   "execution_count": 28,
   "outputs": [
    {
     "output_type": "execute_result",
     "data": {
      "text/plain": [
       "('gpt_download.py', <http.client.HTTPMessage at 0x7a50188f24d0>)"
      ]
     },
     "metadata": {},
     "execution_count": 28
    }
   ]
  },
  {
   "cell_type": "code",
   "source": [
    "from gpt_download import download_and_load_gpt2\n",
    "import torch\n",
    "import torch.nn as nn\n",
    "import numpy as np\n",
    "\n",
    "\n",
    "\n",
    "class MultiHeadAttention(nn.Module):\n",
    "    def __init__(self,\n",
    "                 input_embedding_dim,\n",
    "                 output_embedding_dim,\n",
    "                 context_length,\n",
    "                 dropout,\n",
    "                 num_heads,\n",
    "                 qkv_bias=False):\n",
    "        super().__init__()\n",
    "        assert (output_embedding_dim % num_heads == 0), \\\n",
    "            \"output_embedding_dim must be divisible by num_heads\"\n",
    "\n",
    "        self.output_embedding_dim = output_embedding_dim\n",
    "        self.num_heads = num_heads\n",
    "        self.head_dim = output_embedding_dim // num_heads\n",
    "        self.W_query = nn.Linear(input_embedding_dim, output_embedding_dim,\n",
    "                                 bias=qkv_bias)\n",
    "        self.W_key = nn.Linear(input_embedding_dim, output_embedding_dim,\n",
    "                               bias=qkv_bias)\n",
    "        self.W_value = nn.Linear(input_embedding_dim, output_embedding_dim,\n",
    "                                 bias=qkv_bias)\n",
    "        self.output_projection = nn.Linear(output_embedding_dim,\n",
    "                                           output_embedding_dim)  # to combine head outputs\n",
    "        self.dropout = nn.Dropout(dropout)\n",
    "        self.register_buffer(\n",
    "            \"mask\",\n",
    "            torch.triu(torch.ones(context_length, context_length),\n",
    "                       diagonal=1))\n",
    "\n",
    "    def forward(self, inputs):\n",
    "        batch, num_tokens, input_embedding_dim = inputs.shape\n",
    "\n",
    "        # qkv shapes : (batch, num_tokens, output_embedding_dim)\n",
    "        keys = self.W_key(inputs)\n",
    "        values = self.W_value(inputs)\n",
    "        queries = self.W_query(inputs)\n",
    "\n",
    "        # qkv shapes : (batch, num_tokens, num_heads, head_dim)\n",
    "        keys = keys.view(batch, num_tokens, self.num_heads, self.head_dim)\n",
    "        values = values.view(batch, num_tokens, self.num_heads, self.head_dim)\n",
    "        queries = queries.view(batch, num_tokens, self.num_heads, self.head_dim)\n",
    "\n",
    "        # qkv shapes : (batch, num_heads, num_tokens, head_dim)\n",
    "        keys = keys.transpose(1, 2)\n",
    "        values = values.transpose(1, 2)\n",
    "        queries = queries.transpose(1, 2)\n",
    "\n",
    "        # compute attention scores for each head\n",
    "        attention_scores = queries @ keys.transpose(3, 2)\n",
    "        attention_scores.masked_fill_(\n",
    "            self.mask.bool()[:num_tokens, :num_tokens], - torch.inf)\n",
    "\n",
    "        # compute attention weights + dropout\n",
    "        masked_attention_weight = torch.softmax(\n",
    "            attention_scores / (keys.shape[-1] ** 0.5),\n",
    "            dim=-1)\n",
    "        masked_attention_dropout_weight = self.dropout(masked_attention_weight)\n",
    "\n",
    "        # compute context vectors\n",
    "        # shape : (batch, num_tokens, num_heads, head_dim)\n",
    "        context_vector = (masked_attention_dropout_weight @ values).transpose(1, 2)\n",
    "\n",
    "        # combine heads, where self.d_out = self.num_heads * self.head_dim\n",
    "        # shape : (batch, num_tokens, output_embedding_dim)\n",
    "        context_vector = context_vector.contiguous().view(\n",
    "            batch, num_tokens, self.output_embedding_dim)\n",
    "\n",
    "        # linear projection (optional)\n",
    "        context_vector = self.output_projection(context_vector)\n",
    "\n",
    "        return context_vector\n",
    "\n",
    "\n",
    "\n",
    "\n",
    "\n",
    "\n",
    "\n",
    "\n",
    "class LayerNorm(nn.Module):\n",
    "    def __init__(self, emb_dim):\n",
    "        super().__init__()\n",
    "        self.epsilon = 1e-5\n",
    "        self.scale = nn.Parameter(torch.ones(emb_dim))\n",
    "        self.shift = nn.Parameter(torch.zeros(emb_dim))\n",
    "\n",
    "    def forward(self, x):\n",
    "        mean = x.mean(dim=-1, keepdim=True)\n",
    "        var = x.var(dim=-1,\n",
    "                    unbiased=False,  # Bessel's correction (n-1)\n",
    "                    keepdim=True)\n",
    "        norm_x = (x - mean) / torch.sqrt(var + self.epsilon)\n",
    "        return self.scale * norm_x + self.shift\n",
    "\n",
    "\n",
    "class GELU(nn.Module):\n",
    "    def __init__(self):\n",
    "        super().__init__()\n",
    "\n",
    "    def forward(self, x):\n",
    "        return 0.5 * x * (1 + torch.tanh(\n",
    "            torch.sqrt(torch.tensor(2.0 / torch.pi)) *\n",
    "            (x + 0.044715 * torch.pow(x, 3))\n",
    "        ))\n",
    "\n",
    "\n",
    "class FeedForward(nn.Module):\n",
    "    def __init__(self, config):\n",
    "        super().__init__()\n",
    "        self.layers = nn.Sequential(\n",
    "            nn.Linear(config[\"emb_dim\"],  # 768\n",
    "                      4 * config[\"emb_dim\"]),  # 3072\n",
    "            GELU(),  # 3072\n",
    "            nn.Linear(4 * config[\"emb_dim\"],  # 3072\n",
    "                      config[\"emb_dim\"])  # 768\n",
    "        )\n",
    "\n",
    "    def forward(self, x):\n",
    "        return self.layers(x)\n",
    "\n",
    "\n",
    "class TransformerBlock(nn.Module):\n",
    "    def __init__(self, config):\n",
    "        super().__init__()\n",
    "        self.attention = MultiHeadAttention(input_embedding_dim=config[\"emb_dim\"],\n",
    "                                            output_embedding_dim=config[\"emb_dim\"],\n",
    "                                            context_length=config[\"context_length\"],\n",
    "                                            dropout=config[\"drop_rate\"],\n",
    "                                            num_heads=config[\"n_heads\"],\n",
    "                                            qkv_bias=config[\"qkv_bias\"])\n",
    "        self.feed_forward = FeedForward(config)\n",
    "        self.layer_norm1 = LayerNorm(config[\"emb_dim\"])\n",
    "        self.layer_norm2 = LayerNorm(config[\"emb_dim\"])\n",
    "        self.drop_skip = nn.Dropout(config[\"drop_rate\"])\n",
    "\n",
    "    def forward(self, x):\n",
    "        # skip connection for attention block\n",
    "        shortcut = x\n",
    "        x = self.layer_norm1(x)\n",
    "        x = self.attention(x)  # shape: [batch_size, num_tokens, emb_size]\n",
    "        x = self.drop_skip(x)\n",
    "        x = shortcut + x  # skip connection\n",
    "\n",
    "        # skip connection for feed forward block\n",
    "        shortcut = x\n",
    "        x = self.layer_norm2(x)\n",
    "        x = self.feed_forward(x)\n",
    "        x = self.drop_skip(x)\n",
    "        x = shortcut + x  # skip connection\n",
    "\n",
    "        return x\n",
    "\n",
    "\n",
    "class GPT2Model(nn.Module):\n",
    "    def __init__(self, config):\n",
    "        super().__init__()\n",
    "        self.token_emb = nn.Embedding(config[\"vocab_size\"],\n",
    "                                      config[\"emb_dim\"])\n",
    "        self.position_emb = nn.Embedding(config[\"context_length\"],\n",
    "                                         config[\"emb_dim\"])\n",
    "        self.drop_emb = nn.Dropout(config[\"drop_rate\"])\n",
    "\n",
    "        self.transformer_blocks = nn.Sequential(\n",
    "            *[TransformerBlock(config) for _ in range(config[\"n_layers\"])])\n",
    "\n",
    "        self.final_norm = LayerNorm(config[\"emb_dim\"])\n",
    "\n",
    "        self.out_head = nn.Linear(config[\"emb_dim\"],\n",
    "                                  config[\"vocab_size\"],\n",
    "                                  bias=False)\n",
    "\n",
    "    def forward(self, input_token):\n",
    "        batch_size, sequence_length = input_token.shape\n",
    "        token_embeds = self.token_emb(input_token)\n",
    "        position_embeds = self.position_emb(\n",
    "            torch.arange(sequence_length,\n",
    "                         device=input_token.device))\n",
    "        embeds = token_embeds + position_embeds\n",
    "        x = self.drop_emb(embeds)\n",
    "        x = self.transformer_blocks(x)\n",
    "        x = self.final_norm(x)\n",
    "        logits = self.out_head(x)\n",
    "        return logits\n",
    "\n",
    "\n",
    "\n",
    "\n",
    "\n",
    "def assign(left, right):\n",
    "    if left.shape != right.shape:\n",
    "        raise ValueError(f\"Shape mismatch. Left: {left.shape}, Right: {right.shape}\")\n",
    "    return torch.nn.Parameter(torch.tensor(right))\n",
    "\n",
    "\n",
    "def load_weights_into_gpt(gpt, params):\n",
    "    gpt.position_emb.weight = assign(gpt.position_emb.weight, params['wpe'])\n",
    "    gpt.token_emb.weight = assign(gpt.token_emb.weight, params['wte'])\n",
    "\n",
    "    for b in range(len(params[\"blocks\"])):\n",
    "        q_w, k_w, v_w = np.split(\n",
    "            (params[\"blocks\"][b][\"attn\"][\"c_attn\"])[\"w\"], 3, axis=-1)\n",
    "        gpt.transformer_blocks[b].attention.W_query.weight = assign(\n",
    "            gpt.transformer_blocks[b].attention.W_query.weight, q_w.T)\n",
    "        gpt.transformer_blocks[b].attention.W_key.weight = assign(\n",
    "            gpt.transformer_blocks[b].attention.W_key.weight, k_w.T)\n",
    "        gpt.transformer_blocks[b].attention.W_value.weight = assign(\n",
    "            gpt.transformer_blocks[b].attention.W_value.weight, v_w.T)\n",
    "\n",
    "        q_b, k_b, v_b = np.split(\n",
    "            (params[\"blocks\"][b][\"attn\"][\"c_attn\"])[\"b\"], 3, axis=-1)\n",
    "        gpt.transformer_blocks[b].attention.W_query.bias = assign(\n",
    "            gpt.transformer_blocks[b].attention.W_query.bias, q_b)\n",
    "        gpt.transformer_blocks[b].attention.W_key.bias = assign(\n",
    "            gpt.transformer_blocks[b].attention.W_key.bias, k_b)\n",
    "        gpt.transformer_blocks[b].attention.W_value.bias = assign(\n",
    "            gpt.transformer_blocks[b].attention.W_value.bias, v_b)\n",
    "\n",
    "        gpt.transformer_blocks[b].attention.output_projection.weight = assign(\n",
    "            gpt.transformer_blocks[b].attention.output_projection.weight,\n",
    "            params[\"blocks\"][b][\"attn\"][\"c_proj\"][\"w\"].T)\n",
    "        gpt.transformer_blocks[b].attention.output_projection.bias = assign(\n",
    "            gpt.transformer_blocks[b].attention.output_projection.bias,\n",
    "            params[\"blocks\"][b][\"attn\"][\"c_proj\"][\"b\"])\n",
    "\n",
    "        gpt.transformer_blocks[b].feed_forward.layers[0].weight = assign(\n",
    "            gpt.transformer_blocks[b].feed_forward.layers[0].weight,\n",
    "            params[\"blocks\"][b][\"mlp\"][\"c_fc\"][\"w\"].T)\n",
    "        gpt.transformer_blocks[b].feed_forward.layers[0].bias = assign(\n",
    "            gpt.transformer_blocks[b].feed_forward.layers[0].bias,\n",
    "            params[\"blocks\"][b][\"mlp\"][\"c_fc\"][\"b\"])\n",
    "        gpt.transformer_blocks[b].feed_forward.layers[2].weight = assign(\n",
    "            gpt.transformer_blocks[b].feed_forward.layers[2].weight,\n",
    "            params[\"blocks\"][b][\"mlp\"][\"c_proj\"][\"w\"].T)\n",
    "        gpt.transformer_blocks[b].feed_forward.layers[2].bias = assign(\n",
    "            gpt.transformer_blocks[b].feed_forward.layers[2].bias,\n",
    "            params[\"blocks\"][b][\"mlp\"][\"c_proj\"][\"b\"])\n",
    "\n",
    "        gpt.transformer_blocks[b].layer_norm1.scale = assign(\n",
    "            gpt.transformer_blocks[b].layer_norm1.scale,\n",
    "            params[\"blocks\"][b][\"ln_1\"][\"g\"])\n",
    "        gpt.transformer_blocks[b].layer_norm1.shift = assign(\n",
    "            gpt.transformer_blocks[b].layer_norm1.shift,\n",
    "            params[\"blocks\"][b][\"ln_1\"][\"b\"])\n",
    "        gpt.transformer_blocks[b].layer_norm2.scale = assign(\n",
    "            gpt.transformer_blocks[b].layer_norm2.scale,\n",
    "            params[\"blocks\"][b][\"ln_2\"][\"g\"])\n",
    "        gpt.transformer_blocks[b].layer_norm2.shift = assign(\n",
    "            gpt.transformer_blocks[b].layer_norm2.shift,\n",
    "            params[\"blocks\"][b][\"ln_2\"][\"b\"])\n",
    "\n",
    "    gpt.final_norm.scale = assign(gpt.final_norm.scale, params[\"g\"])\n",
    "    gpt.final_norm.shift = assign(gpt.final_norm.shift, params[\"b\"])\n",
    "    gpt.out_head.weight = assign(gpt.out_head.weight, params[\"wte\"])"
   ],
   "metadata": {
    "id": "9JGLuZGA798J"
   },
   "execution_count": 29,
   "outputs": []
  },
  {
   "cell_type": "code",
   "source": [
    "model_size = CHOOSE_MODEL.split(\" \")[-1].lstrip(\"(\").rstrip(\")\")\n",
    "model_size"
   ],
   "metadata": {
    "colab": {
     "base_uri": "https://localhost:8080/",
     "height": 36
    },
    "id": "Ii4MOjnv7956",
    "outputId": "3dfcb521-46db-4c17-fb66-40aad1e72818"
   },
   "execution_count": 30,
   "outputs": [
    {
     "output_type": "execute_result",
     "data": {
      "text/plain": [
       "'355M'"
      ],
      "application/vnd.google.colaboratory.intrinsic+json": {
       "type": "string"
      }
     },
     "metadata": {},
     "execution_count": 30
    }
   ]
  },
  {
   "cell_type": "code",
   "source": [
    "settings, params = download_and_load_gpt2(model_size=model_size, models_dir=\"gpt2\")\n",
    "print(settings)\n",
    "print(params.keys())"
   ],
   "metadata": {
    "colab": {
     "base_uri": "https://localhost:8080/"
    },
    "id": "X8UODHoF793d",
    "outputId": "9c3090ed-9675-4899-9d5d-ecf5a6458a05"
   },
   "execution_count": 31,
   "outputs": [
    {
     "output_type": "stream",
     "name": "stdout",
     "text": [
      "File already exists and is up-to-date: gpt2/355M/checkpoint\n",
      "File already exists and is up-to-date: gpt2/355M/encoder.json\n",
      "File already exists and is up-to-date: gpt2/355M/hparams.json\n",
      "File already exists and is up-to-date: gpt2/355M/model.ckpt.data-00000-of-00001\n",
      "File already exists and is up-to-date: gpt2/355M/model.ckpt.index\n",
      "File already exists and is up-to-date: gpt2/355M/model.ckpt.meta\n",
      "File already exists and is up-to-date: gpt2/355M/vocab.bpe\n",
      "{'n_vocab': 50257, 'n_ctx': 1024, 'n_embd': 1024, 'n_head': 16, 'n_layer': 24}\n",
      "dict_keys(['blocks', 'b', 'g', 'wpe', 'wte'])\n"
     ]
    }
   ]
  },
  {
   "cell_type": "code",
   "source": [
    "model = GPT2Model(BASE_CONFIG)\n",
    "load_weights_into_gpt(model, params)\n",
    "model.eval();"
   ],
   "metadata": {
    "id": "7uCzPgwu7906"
   },
   "execution_count": 32,
   "outputs": []
  },
  {
   "cell_type": "markdown",
   "source": [
    "- Let's check whether the model generates coherent text:\n"
   ],
   "metadata": {
    "id": "5agFf23XQERi"
   }
  },
  {
   "cell_type": "code",
   "source": [
    "import tiktoken\n",
    "\n",
    "def text_to_token_ids(text, tokenizer):\n",
    "  encoded = tokenizer.encode(text, allowed_special={\"<|endoftext|>\"})\n",
    "\n",
    "  # turn the list of token IDs into tensor with batch dimension\n",
    "  encoded_tensor = torch.tensor(encoded).unsqueeze(0)\n",
    "  return encoded_tensor\n",
    "\n",
    "def token_ids_to_text(encoded_tensor, tokenizer):\n",
    "  # turn tensor without batch dimension to list\n",
    "  token_ids = encoded_tensor.squeeze(0).tolist()\n",
    "  text = tokenizer.decode(token_ids)\n",
    "  return text\n",
    "\n",
    "\n",
    "def generate_text(model,\n",
    "                  input_batch,\n",
    "                  max_new_tokens,\n",
    "                  context_size,\n",
    "                  temperature=0.0,\n",
    "                  top_k=None,\n",
    "                  eos_id=None):\n",
    "  for _ in range(max_new_tokens):\n",
    "    # crop current context if it exceeds the supported context_size\n",
    "    crop_input_batch = input_batch[:, -context_size:]\n",
    "\n",
    "    # predict next token\n",
    "    with torch.no_grad():\n",
    "      logits = model(crop_input_batch)\n",
    "\n",
    "    # consider only logits of the last token\n",
    "    logits = logits[:, -1, :] # (batch, n_tokens, vocab_size) -> (batch, vocab_size)\n",
    "\n",
    "    # NEW: filter logits with top_k sampling\n",
    "    if top_k is not None:\n",
    "      # keep only top_k values\n",
    "      top_logits, _ = torch.topk(logits, top_k)\n",
    "      min_val = top_logits[:, -1] # min value among the top_k values\n",
    "      # all values other than top_k values will be set to -inf\n",
    "      logits = torch.where(logits < min_val,\n",
    "                           torch.tensor(-torch.inf).to(logits.device),\n",
    "                           logits)\n",
    "\n",
    "    # NEW: temperature scaling\n",
    "    if temperature > 0.0:\n",
    "      logits = logits / temperature\n",
    "\n",
    "      probas = torch.softmax(logits, dim=-1) # (batch, vocab_size)\n",
    "      predicted_tokens = torch.multinomial(probas, num_samples=1) # (batch, 1)\n",
    "\n",
    "    else: # same as before\n",
    "      #probas = torch.softmax(logits, dim=-1) # (batch, vocab_size)\n",
    "      predicted_tokens = torch.argmax(logits, dim=-1, keepdim=True) # (batch, 1)\n",
    "\n",
    "    if predicted_tokens == eos_id:  # Stop generating early if end-of-sequence token is encountered and eos_id is specified\n",
    "            break\n",
    "\n",
    "    # update input_batch (append predicted tokens to the sequences)\n",
    "    input_batch = torch.cat([input_batch, predicted_tokens], dim=1) # [batch, num_tokens+1]\n",
    "\n",
    "  return input_batch"
   ],
   "metadata": {
    "id": "Icbnz5wg79y-"
   },
   "execution_count": 33,
   "outputs": []
  },
  {
   "cell_type": "code",
   "source": [
    "text_1 = \"In the midst of winter\"\n",
    "\n",
    "token_ids = generate_text(\n",
    "    model=model,\n",
    "    input_batch=text_to_token_ids(text_1, tokenizer),\n",
    "    max_new_tokens=50,\n",
    "    context_size=BASE_CONFIG[\"context_length\"],\n",
    "    temperature = 2.0,\n",
    "    top_k = 10\n",
    ")\n",
    "\n",
    "print(token_ids_to_text(token_ids, tokenizer))"
   ],
   "metadata": {
    "colab": {
     "base_uri": "https://localhost:8080/"
    },
    "id": "SS3aM68c79wc",
    "outputId": "1170e1d2-d426-47f0-d76e-88ed3b2f1936"
   },
   "execution_count": 34,
   "outputs": [
    {
     "output_type": "stream",
     "name": "stdout",
     "text": [
      "In the midst of winter, we are not sure what the future looks like in these parts. But the people we have here are the best we're ever likely to be, the most talented we'll probably get, the hardest worker we're ever going to be. And we\n"
     ]
    }
   ]
  },
  {
   "cell_type": "markdown",
   "source": "- let's see how the model performs on one of the instruction tasks:",
   "metadata": {
    "id": "KPZEivrPQUsS"
   }
  },
  {
   "cell_type": "code",
   "source": [
    "torch.manual_seed(211)\n",
    "\n",
    "input_text = format_input(val_data[0])\n",
    "print(input_text)"
   ],
   "metadata": {
    "colab": {
     "base_uri": "https://localhost:8080/"
    },
    "id": "tkXQkO_X79tD",
    "outputId": "24747ca3-fbad-4923-d92c-e45529c82d47"
   },
   "execution_count": 35,
   "outputs": [
    {
     "output_type": "stream",
     "name": "stdout",
     "text": [
      "Below is an instruction that describes a task. Write a response that appropriately completes the request.\n",
      "\n",
      "### Instruction:\n",
      "Convert the active sentence to passive: 'The chef cooks the meal every day.'\n"
     ]
    }
   ]
  },
  {
   "cell_type": "code",
   "source": [
    "token_ids = generate_text(\n",
    "    model=model,\n",
    "    input_batch=text_to_token_ids(input_text, tokenizer),\n",
    "    max_new_tokens=100,\n",
    "    context_size=BASE_CONFIG[\"context_length\"],\n",
    "    eos_id=50256,\n",
    ")\n",
    "generated_text = token_ids_to_text(token_ids, tokenizer)"
   ],
   "metadata": {
    "id": "ypKsu06M79rA"
   },
   "execution_count": 36,
   "outputs": []
  },
  {
   "cell_type": "code",
   "source": [
    "generated_text"
   ],
   "metadata": {
    "colab": {
     "base_uri": "https://localhost:8080/",
     "height": 105
    },
    "id": "DlQ7MKN579oG",
    "outputId": "3df14cc1-da27-4132-f960-f26c382fa63a"
   },
   "execution_count": 37,
   "outputs": [
    {
     "output_type": "execute_result",
     "data": {
      "text/plain": [
       "\"Below is an instruction that describes a task. Write a response that appropriately completes the request.\\n\\n### Instruction:\\nConvert the active sentence to passive: 'The chef cooks the meal every day.'\\n\\n### Response:\\n\\nThe chef cooks the meal every day.\\n\\n### Instruction:\\n\\nConvert the active sentence to passive: 'The chef cooks the meal every day.'\\n\\n### Response:\\n\\nThe chef cooks the meal every day.\\n\\n### Instruction:\\n\\nConvert the active sentence to passive: 'The chef cooks the meal every day.'\\n\\n### Response:\\n\\nThe chef cooks the meal every day.\\n\\n### Instruction:\\n\\n\""
      ],
      "application/vnd.google.colaboratory.intrinsic+json": {
       "type": "string"
      }
     },
     "metadata": {},
     "execution_count": 37
    }
   ]
  },
  {
   "cell_type": "code",
   "source": [
    "response_text = (\n",
    "    generated_text[len(input_text):]\n",
    "    .replace(\"### Response:\", \"\")\n",
    "    .strip()\n",
    ")\n",
    "print(response_text)"
   ],
   "metadata": {
    "colab": {
     "base_uri": "https://localhost:8080/"
    },
    "id": "lF0laCvc79lr",
    "outputId": "07484b7b-cfcc-4700-fb8c-70de324b87d7"
   },
   "execution_count": 38,
   "outputs": [
    {
     "output_type": "stream",
     "name": "stdout",
     "text": [
      "The chef cooks the meal every day.\n",
      "\n",
      "### Instruction:\n",
      "\n",
      "Convert the active sentence to passive: 'The chef cooks the meal every day.'\n",
      "\n",
      "\n",
      "\n",
      "The chef cooks the meal every day.\n",
      "\n",
      "### Instruction:\n",
      "\n",
      "Convert the active sentence to passive: 'The chef cooks the meal every day.'\n",
      "\n",
      "\n",
      "\n",
      "The chef cooks the meal every day.\n",
      "\n",
      "### Instruction:\n"
     ]
    }
   ]
  },
  {
   "cell_type": "markdown",
   "source": [
    "# 5. Finetuning the LLM on instruction data"
   ],
   "metadata": {
    "id": "MddRsFU2RMe5"
   }
  },
  {
   "cell_type": "code",
   "source": [
    "def calc_loss_batch(input_batch,\n",
    "                    target_batch,\n",
    "                    model,\n",
    "                    device):\n",
    "  input_batch = input_batch.to(device)\n",
    "  target_batch = target_batch.to(device)\n",
    "\n",
    "  logits = model(input_batch)\n",
    "  loss = torch.nn.functional.cross_entropy(logits.flatten(0, 1),\n",
    "                                           target_batch.flatten())\n",
    "  return loss\n",
    "\n",
    "\n",
    "def calc_loss_loader(dataloader,\n",
    "                     model,\n",
    "                     device,\n",
    "                     num_batches=None):\n",
    "  total_loss = 0.\n",
    "  if len(dataloader) == 0:\n",
    "    return float(\"nan\")\n",
    "  elif num_batches is None:\n",
    "    num_batches = len(dataloader)\n",
    "  else:\n",
    "    # reduce the number of batches to match the total number of batches in the data loader\n",
    "    # if num_batches exceeds the number of batches in the data loader\n",
    "    num_batches = min(num_batches, len(dataloader))\n",
    "  for i, (input_batch, target_batch) in enumerate(dataloader):\n",
    "    if i < num_batches:\n",
    "      loss = calc_loss_batch(input_batch,\n",
    "                             target_batch,\n",
    "                             model,\n",
    "                             device)\n",
    "      total_loss += loss.item()\n",
    "    else:\n",
    "      break\n",
    "  return total_loss / num_batches"
   ],
   "metadata": {
    "id": "MM9I8vnE79jN"
   },
   "execution_count": 39,
   "outputs": []
  },
  {
   "cell_type": "code",
   "source": [
    "def evaluate_model(model,\n",
    "                    train_loader,\n",
    "                    val_loader,\n",
    "                    device,\n",
    "                    eval_iter):\n",
    "  # set model to evaluation mode\n",
    "  model.eval()\n",
    "  with torch.no_grad():\n",
    "    # calculate loss\n",
    "    train_loss = calc_loss_loader(train_loader,\n",
    "                                  model,\n",
    "                                  device,\n",
    "                                  num_batches=eval_iter)\n",
    "    val_loss = calc_loss_loader(val_loader,\n",
    "                                model,\n",
    "                                device,\n",
    "                                num_batches=eval_iter)\n",
    "\n",
    "  # set model back to training mode\n",
    "  model.train()\n",
    "  return train_loss, val_loss\n",
    "\n",
    "def generate_text_simple(model,\n",
    "                         input_batch,  # [batch, num_tokens]\n",
    "                         max_new_tokens,  # numbers of new tokens to be predicted\n",
    "                         context_size):\n",
    "    for _ in range(max_new_tokens):\n",
    "        # crop current context if it exceeds the supported context_size\n",
    "        crop_input_batch = input_batch[:, -context_size:]\n",
    "\n",
    "        # predict next token\n",
    "        with torch.no_grad():\n",
    "            logits = model(crop_input_batch)\n",
    "\n",
    "        # consider only logits of the last token\n",
    "        logits = logits[:, -1, :]  # (batch, n_tokens, vocab_size) -> (batch, vocab_size)\n",
    "        probas = torch.softmax(logits, dim=-1)  # (batch, vocab_size)\n",
    "        predicted_tokens = torch.argmax(probas, dim=-1, keepdim=True)  # (batch, 1)\n",
    "        # update input_batch (append predicted tokens to the sequences)\n",
    "        input_batch = torch.cat([input_batch, predicted_tokens], dim=-1)  # [batch, num_tokens+1]\n",
    "\n",
    "    return input_batch\n",
    "\n",
    "\n",
    "def generate_text_advanced(model,\n",
    "                           input_batch,\n",
    "                           max_new_tokens,\n",
    "                           context_size,\n",
    "                           temperature=1.0,\n",
    "                           top_k=None,\n",
    "                           top_p=None,\n",
    "                           repetition_penalty=1.0,\n",
    "                           eos_id=None):\n",
    "    \"\"\"\n",
    "    Advanced text generation with multiple decoding strategies.\n",
    "\n",
    "    Args:\n",
    "        model: The language model\n",
    "        input_batch: Input token ids [batch_size, seq_len]\n",
    "        max_new_tokens: Number of tokens to generate\n",
    "        context_size: Maximum context length the model can handle\n",
    "        temperature: Sampling temperature (1.0 = neutral, <1.0 = more focused, >1.0 = more random)\n",
    "        top_k: If set, only sample from the top k most likely tokens\n",
    "        top_p: If set, sample from the smallest set of tokens whose cumulative probability exceeds p\n",
    "        repetition_penalty: Penalty for repeating tokens (1.0 = no penalty, >1.0 = penalize repetitions)\n",
    "        eos_id: Optional end of sequence token id to stop generation early\n",
    "\n",
    "    Returns:\n",
    "        Tensor of generated token ids [batch_size, seq_len + max_new_tokens]\n",
    "    \"\"\"\n",
    "    for _ in range(max_new_tokens):\n",
    "        # Crop context if needed\n",
    "        crop_input_batch = input_batch[:, -context_size:]\n",
    "\n",
    "        # Get model predictions\n",
    "        with torch.no_grad():\n",
    "            logits = model(crop_input_batch)\n",
    "\n",
    "        # Consider only the last token's logits\n",
    "        logits = logits[:, -1, :]  # [batch_size, vocab_size]\n",
    "\n",
    "        # Apply repetition penalty\n",
    "        if repetition_penalty != 1.0:\n",
    "            # Get unique tokens in the input\n",
    "            used_tokens = torch.unique(input_batch)\n",
    "            # Penalize previously used tokens\n",
    "            logits.index_fill_(dim=-1, index=used_tokens,\n",
    "                               value=logits.index_select(dim=-1, index=used_tokens) / repetition_penalty)\n",
    "\n",
    "        # Apply temperature scaling\n",
    "        if temperature != 1.0:\n",
    "            logits = logits / temperature\n",
    "\n",
    "        # Convert to probabilities\n",
    "        probas = torch.softmax(logits, dim=-1)\n",
    "\n",
    "        # Apply top-k filtering\n",
    "        if top_k is not None:\n",
    "            top_k = min(top_k, logits.size(-1))\n",
    "            top_logits, top_indices = torch.topk(logits, top_k)\n",
    "            # Create a mask for non-top-k values\n",
    "            mask = torch.zeros_like(logits).scatter_(dim=-1, index=top_indices, value=1)\n",
    "            # Set non-top-k values to -inf before softmax\n",
    "            logits = torch.where(mask > 0, logits, torch.tensor(-float('inf')).to(logits.device))\n",
    "            # Recompute probabilities\n",
    "            probas = torch.softmax(logits, dim=-1)\n",
    "\n",
    "        # Apply nucleus (top-p) sampling\n",
    "        if top_p is not None:\n",
    "            sorted_probas, sorted_indices = torch.sort(probas, descending=True)\n",
    "            cumsum_probas = torch.cumsum(sorted_probas, dim=-1)\n",
    "            # Remove tokens after cumsum exceeds top_p\n",
    "            mask = cumsum_probas <= top_p\n",
    "            # Always keep at least one token\n",
    "            mask[..., 0] = True\n",
    "            sorted_indices = sorted_indices[mask]\n",
    "            probas = torch.zeros_like(probas).scatter_(-1, sorted_indices, sorted_probas[mask])\n",
    "            probas.div_(probas.sum(dim=-1, keepdim=True))\n",
    "\n",
    "        # Sample next token\n",
    "        predicted_tokens = torch.multinomial(probas, num_samples=1)\n",
    "\n",
    "        # Stop if EOS token is generated\n",
    "        if eos_id is not None and (predicted_tokens == eos_id).any():\n",
    "            break\n",
    "\n",
    "        # Append prediction to input\n",
    "        input_batch = torch.cat([input_batch, predicted_tokens], dim=-1)\n",
    "\n",
    "    return input_batch\n",
    "\n",
    "\n",
    "\n",
    "def generate_and_print_sample(model,\n",
    "                              tokenizer,\n",
    "                              device,\n",
    "                              start_context):\n",
    "  # set model to evaluation mode\n",
    "  model.eval()\n",
    "  context_size = model.position_emb.weight.shape[0]\n",
    "  encoded = text_to_token_ids(start_context, tokenizer).to(device)\n",
    "  with torch.no_grad():\n",
    "    token_ids = generate_text_simple(model=model,\n",
    "                                     input_batch=encoded,\n",
    "                                     max_new_tokens=50,\n",
    "                                     context_size=context_size)\n",
    "    decoded_text = token_ids_to_text(token_ids, tokenizer)\n",
    "    print(decoded_text.replace(\"\\n\", \" \")) # compact print format\n",
    "  # set model back to training mode\n",
    "  model.train()\n",
    "\n",
    "\n",
    "\n",
    "\n",
    "\n",
    "def train_model_simple(model,\n",
    "                       train_loader,\n",
    "                       val_loader,\n",
    "                       optimizer,\n",
    "                       device,\n",
    "                       num_epochs,\n",
    "                       eval_freq,\n",
    "                       eval_iter,\n",
    "                       start_context,\n",
    "                       tokenizer):\n",
    "\n",
    "  # initialize lists to track losses and tokens seen\n",
    "  train_losses = []\n",
    "  val_losses = []\n",
    "  track_tokens_seen = []\n",
    "  token_seen = 0\n",
    "  global_step = -1\n",
    "\n",
    "  # main training loop - iterate over training epochs\n",
    "  for epoch in range(num_epochs):\n",
    "    # set model to training mode\n",
    "    model.train()\n",
    "\n",
    "    # iterate over batches in each training epoch\n",
    "    for input_batch, target_batch in train_loader:\n",
    "      # reset loss gradients from previous batch iteration\n",
    "      optimizer.zero_grad()\n",
    "\n",
    "      # calculate loss on current batch\n",
    "      loss = calc_loss_batch(input_batch,\n",
    "                             target_batch,\n",
    "                             model,\n",
    "                             device)\n",
    "\n",
    "      # backward pass to calculate loss gradients\n",
    "      loss.backward()\n",
    "\n",
    "      # update model weights using loss gradients\n",
    "      optimizer.step()\n",
    "      token_seen += input_batch.numel()\n",
    "      global_step += 1\n",
    "\n",
    "      # optional evaluation step\n",
    "      if global_step % eval_freq == 0:\n",
    "        train_loss, val_loss = evaluate_model(model,\n",
    "                                              train_loader,\n",
    "                                              val_loader,\n",
    "                                              device,\n",
    "                                              eval_iter)\n",
    "        train_losses.append(train_loss)\n",
    "        val_losses.append(val_loss)\n",
    "        track_tokens_seen.append(token_seen)\n",
    "        # print training and evaluation set loss\n",
    "        print(f\"Ep {epoch+1} (Step {global_step:06d}): \"\n",
    "              f\"Train loss {train_loss:.3f}, Val loss {val_loss:.3f}\")\n",
    "\n",
    "    # generative sample text for visual inspection\n",
    "    generate_and_print_sample(model,\n",
    "                              tokenizer,\n",
    "                              device,\n",
    "                              start_context)\n",
    "\n",
    "  return train_losses, val_losses, track_tokens_seen"
   ],
   "metadata": {
    "id": "e3x4voug79et"
   },
   "execution_count": 40,
   "outputs": []
  },
  {
   "cell_type": "markdown",
   "source": [
    "- Let's calculate the initial training and validation set loss before we start training:"
   ],
   "metadata": {
    "id": "j2AE85tcTHpt"
   }
  },
  {
   "cell_type": "code",
   "source": [
    "model.to(device)\n",
    "\n",
    "torch.manual_seed(123)\n",
    "\n",
    "with torch.no_grad():\n",
    "    train_loss = calc_loss_loader(train_loader, model, device, num_batches=5)\n",
    "    val_loss = calc_loss_loader(val_loader, model, device, num_batches=5)\n",
    "\n",
    "print(\"Training loss:\", train_loss)\n",
    "print(\"Validation loss:\", val_loss)"
   ],
   "metadata": {
    "colab": {
     "base_uri": "https://localhost:8080/"
    },
    "id": "ODvKFp3q79b4",
    "outputId": "3ca6f2b2-8d6c-419c-8f4c-6ae11e556427"
   },
   "execution_count": 41,
   "outputs": [
    {
     "output_type": "stream",
     "name": "stdout",
     "text": [
      "Training loss: 3.8259087562561036\n",
      "Validation loss: 3.761933708190918\n"
     ]
    }
   ]
  },
  {
   "cell_type": "code",
   "source": [
    "\n",
    "import time\n",
    "\n",
    "start_time = time.time()\n",
    "\n",
    "torch.manual_seed(211)\n",
    "\n",
    "optimizer = torch.optim.AdamW(model.parameters(), lr=0.00005, weight_decay=0.1)\n",
    "\n",
    "num_epochs = 10\n",
    "\n",
    "train_losses, val_losses, tokens_seen = train_model_simple(\n",
    "    model, train_loader, val_loader, optimizer, device,\n",
    "    num_epochs=num_epochs, eval_freq=5, eval_iter=5,\n",
    "    start_context=format_input(val_data[0]), tokenizer=tokenizer\n",
    ")\n",
    "\n",
    "end_time = time.time()\n",
    "execution_time_minutes = (end_time - start_time) / 60\n",
    "print(f\"Training completed in {execution_time_minutes:.2f} minutes.\")"
   ],
   "metadata": {
    "colab": {
     "base_uri": "https://localhost:8080/"
    },
    "id": "X_MQWvEq79aR",
    "outputId": "5c1ac462-1f91-4fc2-9622-6e67b5c82198"
   },
   "execution_count": 42,
   "outputs": [
    {
     "output_type": "stream",
     "name": "stdout",
     "text": [
      "Ep 1 (Step 000000): Train loss 2.645, Val loss 2.610\n",
      "Ep 1 (Step 000005): Train loss 1.134, Val loss 1.107\n",
      "Ep 1 (Step 000010): Train loss 0.917, Val loss 0.986\n",
      "Ep 1 (Step 000015): Train loss 0.775, Val loss 0.916\n",
      "Ep 1 (Step 000020): Train loss 0.788, Val loss 0.883\n",
      "Ep 1 (Step 000025): Train loss 0.690, Val loss 0.864\n",
      "Ep 1 (Step 000030): Train loss 0.744, Val loss 0.841\n",
      "Ep 1 (Step 000035): Train loss 0.642, Val loss 0.826\n",
      "Ep 1 (Step 000040): Train loss 0.710, Val loss 0.807\n",
      "Ep 1 (Step 000045): Train loss 0.614, Val loss 0.785\n",
      "Ep 1 (Step 000050): Train loss 0.695, Val loss 0.775\n",
      "Ep 1 (Step 000055): Train loss 0.595, Val loss 0.763\n",
      "Ep 1 (Step 000060): Train loss 0.615, Val loss 0.759\n",
      "Ep 1 (Step 000065): Train loss 0.574, Val loss 0.760\n",
      "Ep 1 (Step 000070): Train loss 0.672, Val loss 0.744\n",
      "Ep 1 (Step 000075): Train loss 0.538, Val loss 0.732\n",
      "Ep 1 (Step 000080): Train loss 0.570, Val loss 0.724\n",
      "Ep 1 (Step 000085): Train loss 0.481, Val loss 0.709\n",
      "Ep 1 (Step 000090): Train loss 0.503, Val loss 0.707\n",
      "Ep 1 (Step 000095): Train loss 0.556, Val loss 0.698\n",
      "Ep 1 (Step 000100): Train loss 0.528, Val loss 0.691\n",
      "Ep 1 (Step 000105): Train loss 0.487, Val loss 0.686\n",
      "Ep 1 (Step 000110): Train loss 0.499, Val loss 0.683\n",
      "Ep 1 (Step 000115): Train loss 0.531, Val loss 0.671\n",
      "Below is an instruction that describes a task. Write a response that appropriately completes the request.  ### Instruction: Convert the active sentence to passive: 'The chef cooks the meal every day.'  ### Response: The meal is cooked every day by the chef.<|endoftext|>The following is an instruction that describes a task. Write a response that appropriately completes the request.  ### Instruction: What is the capital of the United Kingdom\n",
      "Ep 2 (Step 000120): Train loss 0.428, Val loss 0.662\n",
      "Ep 2 (Step 000125): Train loss 0.482, Val loss 0.661\n",
      "Ep 2 (Step 000130): Train loss 0.417, Val loss 0.666\n",
      "Ep 2 (Step 000135): Train loss 0.411, Val loss 0.671\n",
      "Ep 2 (Step 000140): Train loss 0.423, Val loss 0.666\n",
      "Ep 2 (Step 000145): Train loss 0.379, Val loss 0.656\n",
      "Ep 2 (Step 000150): Train loss 0.410, Val loss 0.655\n",
      "Ep 2 (Step 000155): Train loss 0.376, Val loss 0.651\n",
      "Ep 2 (Step 000160): Train loss 0.455, Val loss 0.660\n",
      "Ep 2 (Step 000165): Train loss 0.367, Val loss 0.662\n",
      "Ep 2 (Step 000170): Train loss 0.392, Val loss 0.663\n",
      "Ep 2 (Step 000175): Train loss 0.397, Val loss 0.657\n",
      "Ep 2 (Step 000180): Train loss 0.345, Val loss 0.654\n",
      "Ep 2 (Step 000185): Train loss 0.379, Val loss 0.649\n",
      "Ep 2 (Step 000190): Train loss 0.360, Val loss 0.646\n",
      "Ep 2 (Step 000195): Train loss 0.377, Val loss 0.637\n",
      "Ep 2 (Step 000200): Train loss 0.366, Val loss 0.635\n",
      "Ep 2 (Step 000205): Train loss 0.332, Val loss 0.637\n",
      "Ep 2 (Step 000210): Train loss 0.301, Val loss 0.642\n",
      "Ep 2 (Step 000215): Train loss 0.349, Val loss 0.637\n",
      "Ep 2 (Step 000220): Train loss 0.344, Val loss 0.630\n",
      "Ep 2 (Step 000225): Train loss 0.339, Val loss 0.629\n",
      "Ep 2 (Step 000230): Train loss 0.327, Val loss 0.632\n",
      "Below is an instruction that describes a task. Write a response that appropriately completes the request.  ### Instruction: Convert the active sentence to passive: 'The chef cooks the meal every day.'  ### Response: The chef cooks the meal every day.<|endoftext|>The following is an instruction that describes a task. Write a response that appropriately completes the request.  ### Instruction: Convert the active sentence to passive: 'The\n",
      "Ep 3 (Step 000235): Train loss 0.333, Val loss 0.651\n",
      "Ep 3 (Step 000240): Train loss 0.290, Val loss 0.678\n",
      "Ep 3 (Step 000245): Train loss 0.289, Val loss 0.710\n",
      "Ep 3 (Step 000250): Train loss 0.284, Val loss 0.710\n",
      "Ep 3 (Step 000255): Train loss 0.276, Val loss 0.710\n",
      "Ep 3 (Step 000260): Train loss 0.272, Val loss 0.709\n",
      "Ep 3 (Step 000265): Train loss 0.272, Val loss 0.686\n",
      "Ep 3 (Step 000270): Train loss 0.246, Val loss 0.674\n",
      "Ep 3 (Step 000275): Train loss 0.273, Val loss 0.678\n",
      "Ep 3 (Step 000280): Train loss 0.302, Val loss 0.675\n",
      "Ep 3 (Step 000285): Train loss 0.248, Val loss 0.690\n",
      "Ep 3 (Step 000290): Train loss 0.264, Val loss 0.698\n",
      "Ep 3 (Step 000295): Train loss 0.262, Val loss 0.698\n",
      "Ep 3 (Step 000300): Train loss 0.249, Val loss 0.688\n",
      "Ep 3 (Step 000305): Train loss 0.249, Val loss 0.690\n",
      "Ep 3 (Step 000310): Train loss 0.257, Val loss 0.695\n",
      "Ep 3 (Step 000315): Train loss 0.270, Val loss 0.698\n",
      "Ep 3 (Step 000320): Train loss 0.233, Val loss 0.696\n",
      "Ep 3 (Step 000325): Train loss 0.239, Val loss 0.695\n",
      "Ep 3 (Step 000330): Train loss 0.245, Val loss 0.694\n",
      "Ep 3 (Step 000335): Train loss 0.234, Val loss 0.686\n",
      "Ep 3 (Step 000340): Train loss 0.260, Val loss 0.665\n",
      "Ep 3 (Step 000345): Train loss 0.244, Val loss 0.658\n",
      "Below is an instruction that describes a task. Write a response that appropriately completes the request.  ### Instruction: Convert the active sentence to passive: 'The chef cooks the meal every day.'  ### Response: The meal is cooked every day by the chef.<|endoftext|>The following is an instruction that describes a task. Write a response that appropriately completes the request.  ### Instruction: Convert the active sentence to passive:\n",
      "Ep 4 (Step 000350): Train loss 0.227, Val loss 0.666\n",
      "Ep 4 (Step 000355): Train loss 0.240, Val loss 0.694\n",
      "Ep 4 (Step 000360): Train loss 0.252, Val loss 0.732\n",
      "Ep 4 (Step 000365): Train loss 0.233, Val loss 0.729\n",
      "Ep 4 (Step 000370): Train loss 0.216, Val loss 0.723\n",
      "Ep 4 (Step 000375): Train loss 0.228, Val loss 0.718\n",
      "Ep 4 (Step 000380): Train loss 0.237, Val loss 0.723\n",
      "Ep 4 (Step 000385): Train loss 0.215, Val loss 0.713\n",
      "Ep 4 (Step 000390): Train loss 0.218, Val loss 0.707\n",
      "Ep 4 (Step 000395): Train loss 0.217, Val loss 0.717\n",
      "Ep 4 (Step 000400): Train loss 0.235, Val loss 0.738\n",
      "Ep 4 (Step 000405): Train loss 0.221, Val loss 0.731\n",
      "Ep 4 (Step 000410): Train loss 0.205, Val loss 0.719\n",
      "Ep 4 (Step 000415): Train loss 0.214, Val loss 0.715\n",
      "Ep 4 (Step 000420): Train loss 0.225, Val loss 0.715\n",
      "Ep 4 (Step 000425): Train loss 0.206, Val loss 0.724\n",
      "Ep 4 (Step 000430): Train loss 0.229, Val loss 0.725\n",
      "Ep 4 (Step 000435): Train loss 0.192, Val loss 0.724\n",
      "Ep 4 (Step 000440): Train loss 0.193, Val loss 0.721\n",
      "Ep 4 (Step 000445): Train loss 0.224, Val loss 0.723\n",
      "Ep 4 (Step 000450): Train loss 0.214, Val loss 0.730\n",
      "Ep 4 (Step 000455): Train loss 0.210, Val loss 0.729\n",
      "Ep 4 (Step 000460): Train loss 0.200, Val loss 0.721\n",
      "Below is an instruction that describes a task. Write a response that appropriately completes the request.  ### Instruction: Convert the active sentence to passive: 'The chef cooks the meal every day.'  ### Response: The meal is prepared by the chef every day.<|endoftext|>The following is an instruction that describes a task. Write a response that appropriately completes the request.  ### Instruction: What is the boiling point of mercury in\n",
      "Ep 5 (Step 000465): Train loss 0.202, Val loss 0.718\n",
      "Ep 5 (Step 000470): Train loss 0.206, Val loss 0.732\n",
      "Ep 5 (Step 000475): Train loss 0.201, Val loss 0.747\n",
      "Ep 5 (Step 000480): Train loss 0.177, Val loss 0.764\n",
      "Ep 5 (Step 000485): Train loss 0.172, Val loss 0.760\n",
      "Ep 5 (Step 000490): Train loss 0.174, Val loss 0.746\n",
      "Ep 5 (Step 000495): Train loss 0.188, Val loss 0.744\n",
      "Ep 5 (Step 000500): Train loss 0.195, Val loss 0.744\n",
      "Ep 5 (Step 000505): Train loss 0.209, Val loss 0.744\n",
      "Ep 5 (Step 000510): Train loss 0.198, Val loss 0.755\n",
      "Ep 5 (Step 000515): Train loss 0.198, Val loss 0.759\n",
      "Ep 5 (Step 000520): Train loss 0.228, Val loss 0.748\n",
      "Ep 5 (Step 000525): Train loss 0.189, Val loss 0.745\n",
      "Ep 5 (Step 000530): Train loss 0.176, Val loss 0.753\n",
      "Ep 5 (Step 000535): Train loss 0.191, Val loss 0.759\n",
      "Ep 5 (Step 000540): Train loss 0.171, Val loss 0.750\n",
      "Ep 5 (Step 000545): Train loss 0.176, Val loss 0.739\n",
      "Ep 5 (Step 000550): Train loss 0.187, Val loss 0.749\n",
      "Ep 5 (Step 000555): Train loss 0.188, Val loss 0.734\n",
      "Ep 5 (Step 000560): Train loss 0.188, Val loss 0.727\n",
      "Ep 5 (Step 000565): Train loss 0.209, Val loss 0.738\n",
      "Ep 5 (Step 000570): Train loss 0.195, Val loss 0.705\n",
      "Ep 5 (Step 000575): Train loss 0.179, Val loss 0.709\n",
      "Below is an instruction that describes a task. Write a response that appropriately completes the request.  ### Instruction: Convert the active sentence to passive: 'The chef cooks the meal every day.'  ### Response: The chef cooks the meal every day.<|endoftext|>The following is an instruction that describes a task. Write a response that appropriately completes the request.  ### Instruction: What is the boiling point of methane in Celsius?\n",
      "Ep 6 (Step 000580): Train loss 0.174, Val loss 0.719\n",
      "Ep 6 (Step 000585): Train loss 0.176, Val loss 0.742\n",
      "Ep 6 (Step 000590): Train loss 0.186, Val loss 0.784\n",
      "Ep 6 (Step 000595): Train loss 0.193, Val loss 0.801\n",
      "Ep 6 (Step 000600): Train loss 0.185, Val loss 0.786\n",
      "Ep 6 (Step 000605): Train loss 0.177, Val loss 0.761\n",
      "Ep 6 (Step 000610): Train loss 0.174, Val loss 0.740\n",
      "Ep 6 (Step 000615): Train loss 0.180, Val loss 0.740\n",
      "Ep 6 (Step 000620): Train loss 0.169, Val loss 0.755\n",
      "Ep 6 (Step 000625): Train loss 0.161, Val loss 0.755\n",
      "Ep 6 (Step 000630): Train loss 0.167, Val loss 0.748\n",
      "Ep 6 (Step 000635): Train loss 0.178, Val loss 0.755\n",
      "Ep 6 (Step 000640): Train loss 0.176, Val loss 0.759\n",
      "Ep 6 (Step 000645): Train loss 0.163, Val loss 0.746\n",
      "Ep 6 (Step 000650): Train loss 0.166, Val loss 0.730\n",
      "Ep 6 (Step 000655): Train loss 0.171, Val loss 0.728\n",
      "Ep 6 (Step 000660): Train loss 0.164, Val loss 0.748\n",
      "Ep 6 (Step 000665): Train loss 0.176, Val loss 0.758\n",
      "Ep 6 (Step 000670): Train loss 0.169, Val loss 0.766\n",
      "Ep 6 (Step 000675): Train loss 0.165, Val loss 0.773\n",
      "Ep 6 (Step 000680): Train loss 0.172, Val loss 0.765\n",
      "Ep 6 (Step 000685): Train loss 0.160, Val loss 0.752\n",
      "Ep 6 (Step 000690): Train loss 0.172, Val loss 0.757\n",
      "Ep 6 (Step 000695): Train loss 0.170, Val loss 0.757\n",
      "Below is an instruction that describes a task. Write a response that appropriately completes the request.  ### Instruction: Convert the active sentence to passive: 'The chef cooks the meal every day.'  ### Response: The meal is cooked every day by the chef.<|endoftext|>The following is an instruction that describes a task. Write a response that appropriately completes the request.  ### Input: What is the opposite of 'light'?\n",
      "Ep 7 (Step 000700): Train loss 0.155, Val loss 0.759\n",
      "Ep 7 (Step 000705): Train loss 0.170, Val loss 0.777\n",
      "Ep 7 (Step 000710): Train loss 0.162, Val loss 0.800\n",
      "Ep 7 (Step 000715): Train loss 0.152, Val loss 0.814\n",
      "Ep 7 (Step 000720): Train loss 0.159, Val loss 0.822\n",
      "Ep 7 (Step 000725): Train loss 0.158, Val loss 0.823\n",
      "Ep 7 (Step 000730): Train loss 0.159, Val loss 0.803\n",
      "Ep 7 (Step 000735): Train loss 0.170, Val loss 0.776\n",
      "Ep 7 (Step 000740): Train loss 0.152, Val loss 0.768\n",
      "Ep 7 (Step 000745): Train loss 0.169, Val loss 0.760\n",
      "Ep 7 (Step 000750): Train loss 0.162, Val loss 0.763\n",
      "Ep 7 (Step 000755): Train loss 0.155, Val loss 0.771\n",
      "Ep 7 (Step 000760): Train loss 0.161, Val loss 0.780\n",
      "Ep 7 (Step 000765): Train loss 0.164, Val loss 0.774\n",
      "Ep 7 (Step 000770): Train loss 0.151, Val loss 0.773\n",
      "Ep 7 (Step 000775): Train loss 0.149, Val loss 0.772\n",
      "Ep 7 (Step 000780): Train loss 0.158, Val loss 0.775\n",
      "Ep 7 (Step 000785): Train loss 0.169, Val loss 0.774\n",
      "Ep 7 (Step 000790): Train loss 0.156, Val loss 0.752\n",
      "Ep 7 (Step 000795): Train loss 0.161, Val loss 0.745\n",
      "Ep 7 (Step 000800): Train loss 0.149, Val loss 0.748\n",
      "Ep 7 (Step 000805): Train loss 0.147, Val loss 0.743\n",
      "Ep 7 (Step 000810): Train loss 0.155, Val loss 0.741\n",
      "Below is an instruction that describes a task. Write a response that appropriately completes the request.  ### Instruction: Convert the active sentence to passive: 'The chef cooks the meal every day.'  ### Response: The chef cooks the meal every day.<|endoftext|>The following is an instruction that describes a task. Write a response that appropriately completes the request.  ### Instruction: Rewrite the following sentence to use a metaphor:\n",
      "Ep 8 (Step 000815): Train loss 0.155, Val loss 0.757\n",
      "Ep 8 (Step 000820): Train loss 0.154, Val loss 0.782\n",
      "Ep 8 (Step 000825): Train loss 0.134, Val loss 0.801\n",
      "Ep 8 (Step 000830): Train loss 0.162, Val loss 0.798\n",
      "Ep 8 (Step 000835): Train loss 0.156, Val loss 0.783\n",
      "Ep 8 (Step 000840): Train loss 0.152, Val loss 0.781\n",
      "Ep 8 (Step 000845): Train loss 0.159, Val loss 0.791\n",
      "Ep 8 (Step 000850): Train loss 0.166, Val loss 0.798\n",
      "Ep 8 (Step 000855): Train loss 0.156, Val loss 0.794\n",
      "Ep 8 (Step 000860): Train loss 0.161, Val loss 0.787\n",
      "Ep 8 (Step 000865): Train loss 0.156, Val loss 0.782\n",
      "Ep 8 (Step 000870): Train loss 0.157, Val loss 0.782\n",
      "Ep 8 (Step 000875): Train loss 0.147, Val loss 0.780\n",
      "Ep 8 (Step 000880): Train loss 0.152, Val loss 0.771\n",
      "Ep 8 (Step 000885): Train loss 0.150, Val loss 0.767\n",
      "Ep 8 (Step 000890): Train loss 0.155, Val loss 0.757\n",
      "Ep 8 (Step 000895): Train loss 0.154, Val loss 0.744\n",
      "Ep 8 (Step 000900): Train loss 0.159, Val loss 0.749\n",
      "Ep 8 (Step 000905): Train loss 0.149, Val loss 0.765\n",
      "Ep 8 (Step 000910): Train loss 0.144, Val loss 0.775\n",
      "Ep 8 (Step 000915): Train loss 0.147, Val loss 0.785\n",
      "Ep 8 (Step 000920): Train loss 0.142, Val loss 0.795\n",
      "Ep 8 (Step 000925): Train loss 0.148, Val loss 0.798\n",
      "Below is an instruction that describes a task. Write a response that appropriately completes the request.  ### Instruction: Convert the active sentence to passive: 'The chef cooks the meal every day.'  ### Response: The active sentence 'The chef cooks the meal every day' is 'The meal is cooked every day by the chef.'<|endoftext|>The following is an instruction that describes a task. Write a response that appropriately completes the request.\n",
      "Ep 9 (Step 000930): Train loss 0.143, Val loss 0.799\n",
      "Ep 9 (Step 000935): Train loss 0.157, Val loss 0.818\n",
      "Ep 9 (Step 000940): Train loss 0.155, Val loss 0.837\n",
      "Ep 9 (Step 000945): Train loss 0.164, Val loss 0.834\n",
      "Ep 9 (Step 000950): Train loss 0.156, Val loss 0.827\n",
      "Ep 9 (Step 000955): Train loss 0.152, Val loss 0.835\n",
      "Ep 9 (Step 000960): Train loss 0.152, Val loss 0.835\n",
      "Ep 9 (Step 000965): Train loss 0.162, Val loss 0.807\n",
      "Ep 9 (Step 000970): Train loss 0.158, Val loss 0.787\n",
      "Ep 9 (Step 000975): Train loss 0.155, Val loss 0.771\n",
      "Ep 9 (Step 000980): Train loss 0.160, Val loss 0.778\n",
      "Ep 9 (Step 000985): Train loss 0.153, Val loss 0.775\n",
      "Ep 9 (Step 000990): Train loss 0.151, Val loss 0.776\n",
      "Ep 9 (Step 000995): Train loss 0.150, Val loss 0.779\n",
      "Ep 9 (Step 001000): Train loss 0.147, Val loss 0.785\n",
      "Ep 9 (Step 001005): Train loss 0.144, Val loss 0.793\n",
      "Ep 9 (Step 001010): Train loss 0.153, Val loss 0.801\n",
      "Ep 9 (Step 001015): Train loss 0.147, Val loss 0.800\n",
      "Ep 9 (Step 001020): Train loss 0.144, Val loss 0.790\n",
      "Ep 9 (Step 001025): Train loss 0.147, Val loss 0.782\n",
      "Ep 9 (Step 001030): Train loss 0.147, Val loss 0.784\n",
      "Ep 9 (Step 001035): Train loss 0.137, Val loss 0.781\n",
      "Ep 9 (Step 001040): Train loss 0.156, Val loss 0.778\n",
      "Below is an instruction that describes a task. Write a response that appropriately completes the request.  ### Instruction: Convert the active sentence to passive: 'The chef cooks the meal every day.'  ### Response: The chef cooks the meal every day.<|endoftext|>The following is an instruction that describes a task. Write a response that appropriately completes the request.  ### Instruction: What is the opposite of 'expensive'?  \n",
      "Ep 10 (Step 001045): Train loss 0.147, Val loss 0.776\n",
      "Ep 10 (Step 001050): Train loss 0.157, Val loss 0.789\n",
      "Ep 10 (Step 001055): Train loss 0.140, Val loss 0.800\n",
      "Ep 10 (Step 001060): Train loss 0.141, Val loss 0.803\n",
      "Ep 10 (Step 001065): Train loss 0.145, Val loss 0.816\n",
      "Ep 10 (Step 001070): Train loss 0.161, Val loss 0.825\n",
      "Ep 10 (Step 001075): Train loss 0.146, Val loss 0.818\n",
      "Ep 10 (Step 001080): Train loss 0.147, Val loss 0.803\n",
      "Ep 10 (Step 001085): Train loss 0.143, Val loss 0.807\n",
      "Ep 10 (Step 001090): Train loss 0.146, Val loss 0.816\n",
      "Ep 10 (Step 001095): Train loss 0.145, Val loss 0.829\n",
      "Ep 10 (Step 001100): Train loss 0.153, Val loss 0.840\n",
      "Ep 10 (Step 001105): Train loss 0.140, Val loss 0.847\n",
      "Ep 10 (Step 001110): Train loss 0.146, Val loss 0.845\n",
      "Ep 10 (Step 001115): Train loss 0.147, Val loss 0.832\n",
      "Ep 10 (Step 001120): Train loss 0.141, Val loss 0.814\n",
      "Ep 10 (Step 001125): Train loss 0.154, Val loss 0.796\n",
      "Ep 10 (Step 001130): Train loss 0.151, Val loss 0.794\n",
      "Ep 10 (Step 001135): Train loss 0.141, Val loss 0.801\n",
      "Ep 10 (Step 001140): Train loss 0.144, Val loss 0.814\n",
      "Ep 10 (Step 001145): Train loss 0.147, Val loss 0.826\n",
      "Ep 10 (Step 001150): Train loss 0.141, Val loss 0.826\n",
      "Ep 10 (Step 001155): Train loss 0.143, Val loss 0.820\n",
      "Below is an instruction that describes a task. Write a response that appropriately completes the request.  ### Instruction: Convert the active sentence to passive: 'The chef cooks the meal every day.'  ### Response: The chef cooks the meal every day.<|endoftext|>The following is a statement that describes a task. Write a response that appropriately completes the request.  ### Input: What is the capital of the United Kingdom? \n",
      "Training completed in 4.36 minutes.\n"
     ]
    }
   ]
  },
  {
   "cell_type": "code",
   "source": [
    "import matplotlib.pyplot as plt\n",
    "from matplotlib.ticker import MaxNLocator\n",
    "\n",
    "def plot_losses(epoch_seen,\n",
    "                tokens_seen,\n",
    "                train_losses,\n",
    "                val_losses,\n",
    "                fig_path=\"loss_plot.pdf\"):\n",
    "  \"\"\"Plot training and validation loss.\"\"\"\n",
    "\n",
    "  fig, ax1 = plt.subplots(figsize=(5, 3))\n",
    "\n",
    "  # plot training and validation loss against epochs\n",
    "  ax1.plot(epoch_seen, train_losses, label=\"Training Loss\")\n",
    "  ax1.plot(epoch_seen, val_losses, linestyle=\"-.\", label=\"Validation Loss\")\n",
    "  ax1.set_xlabel(\"Epoch\")\n",
    "  ax1.set_ylabel(\"Loss\")\n",
    "  ax1.legend(loc=\"upper right\")\n",
    "  ax1.xaxis.set_major_locator(MaxNLocator(integer=True)) # only show integer labels on x-axis\n",
    "\n",
    "  # create a second x-axis for token seen\n",
    "  ax2 = ax1.twiny() # create a second x-axis that shares the same y-axis\n",
    "  ax2.plot(tokens_seen, train_losses, alpha=0) # invisible plot for aligning ticks\n",
    "  ax2.set_xlabel(\"Tokens Seen\")\n",
    "\n",
    "  fig.tight_layout() # adjust layout to make room\n",
    "  plt.savefig(fig_path)\n",
    "  plt.show()\n",
    "\n",
    "\n",
    "epochs_tensor = torch.linspace(0, num_epochs, len(train_losses))\n",
    "plot_losses(epochs_tensor, tokens_seen, train_losses, val_losses)"
   ],
   "metadata": {
    "colab": {
     "base_uri": "https://localhost:8080/",
     "height": 307
    },
    "id": "uYQs_6xr79W8",
    "outputId": "7ce97f39-ec81-42b9-f9a9-99a293c8d08f"
   },
   "execution_count": 43,
   "outputs": [
    {
     "output_type": "display_data",
     "data": {
      "text/plain": [
       "<Figure size 500x300 with 2 Axes>"
      ],
      "image/png": "[encoded data removed]"
     },
     "metadata": {}
    }
   ]
  },
  {
   "cell_type": "markdown",
   "source": [
    "# 6. Extracting and saving responses"
   ],
   "metadata": {
    "id": "nUd9X8311BBn"
   }
  },
  {
   "cell_type": "code",
   "source": [
    "torch.manual_seed(211)\n",
    "\n",
    "\n",
    "for entry in test_data[55:64]:\n",
    "\n",
    "    input_text = format_input(entry)\n",
    "\n",
    "    token_ids = generate_text(\n",
    "        model=model,\n",
    "        input_batch=text_to_token_ids(input_text, tokenizer).to(device),\n",
    "        max_new_tokens=256,\n",
    "        context_size=BASE_CONFIG[\"context_length\"],\n",
    "        eos_id=50256\n",
    "    )\n",
    "    generated_text = token_ids_to_text(token_ids, tokenizer)\n",
    "    response_text = (\n",
    "        generated_text[len(input_text):]\n",
    "        .replace(\"### Response:\", \"\")\n",
    "        .strip()\n",
    ")\n",
    "\n",
    "    print(input_text)\n",
    "    print(f\"\\nCorrect response:\\n>> {entry['output']}\")\n",
    "    print(f\"\\nModel response:\\n>> {response_text.strip()}\")\n",
    "    print(\"-------------------------------------\")\n",
    "    print(\"-------------------------------------\")\n",
    "    print(\"-------------------------------------\")\n",
    "    print(\"-------------------------------------\")"
   ],
   "metadata": {
    "colab": {
     "base_uri": "https://localhost:8080/"
    },
    "id": "HxS55ZMX79Ub",
    "outputId": "2cd0cb51-149c-4182-cda9-08c9080629e8"
   },
   "execution_count": 44,
   "outputs": [
    {
     "output_type": "stream",
     "name": "stdout",
     "text": [
      "Below is an instruction that describes a task. Write a response that appropriately completes the request.\n",
      "\n",
      "### Instruction:\n",
      "Explain the primary function of the human heart.\n",
      "\n",
      "Correct response:\n",
      ">> The primary function of the human heart is to pump blood throughout the body, delivering oxygen and nutrients to tissues and removing carbon dioxide and other wastes.\n",
      "\n",
      "Model response:\n",
      ">> The primary function of the human heart is to pump blood to the body's tissues and to remove waste products. It includes the small vessels that supply the heart and the large vessels that supply the body with oxygen and nutrients.\n",
      "-------------------------------------\n",
      "-------------------------------------\n",
      "-------------------------------------\n",
      "-------------------------------------\n",
      "Below is an instruction that describes a task. Write a response that appropriately completes the request.\n",
      "\n",
      "### Instruction:\n",
      "Reword the following sentence to the future tense.\n",
      "\n",
      "### Input:\n",
      "He is reading a novel inspired by his grandmother.\n",
      "\n",
      "Correct response:\n",
      ">> He will be reading a novel inspired by his grandmother.\n",
      "\n",
      "Model response:\n",
      ">> He is reading a novel inspired by his grandmother.\n",
      "-------------------------------------\n",
      "-------------------------------------\n",
      "-------------------------------------\n",
      "-------------------------------------\n",
      "Below is an instruction that describes a task. Write a response that appropriately completes the request.\n",
      "\n",
      "### Instruction:\n",
      "Convert the given sentence into active voice.\n",
      "\n",
      "### Input:\n",
      "The law was passed by the government.\n",
      "\n",
      "Correct response:\n",
      ">> The government passed the law.\n",
      "\n",
      "Model response:\n",
      ">> The law was passed by the government.\n",
      "-------------------------------------\n",
      "-------------------------------------\n",
      "-------------------------------------\n",
      "-------------------------------------\n",
      "Below is an instruction that describes a task. Write a response that appropriately completes the request.\n",
      "\n",
      "### Instruction:\n",
      "Create a sentence using the word 'inevitable'.\n",
      "\n",
      "Correct response:\n",
      ">> The confrontation was inevitable given the circumstances.\n",
      "\n",
      "Model response:\n",
      ">> The collapse of the company was inevitable due to poor management.\n",
      "-------------------------------------\n",
      "-------------------------------------\n",
      "-------------------------------------\n",
      "-------------------------------------\n",
      "Below is an instruction that describes a task. Write a response that appropriately completes the request.\n",
      "\n",
      "### Instruction:\n",
      "Categorize the following sentence as either factual or opinion-based.\n",
      "\n",
      "### Input:\n",
      "Chocolate is the best dessert.\n",
      "\n",
      "Correct response:\n",
      ">> Opinion-based.\n",
      "\n",
      "Model response:\n",
      ">> The statement is based on fact.\n",
      "-------------------------------------\n",
      "-------------------------------------\n",
      "-------------------------------------\n",
      "-------------------------------------\n",
      "Below is an instruction that describes a task. Write a response that appropriately completes the request.\n",
      "\n",
      "### Instruction:\n",
      "What is an antonym of 'old'?\n",
      "\n",
      "Correct response:\n",
      ">> young.\n",
      "\n",
      "Model response:\n",
      ">> An antonym of 'old' is 'young'.\n",
      "-------------------------------------\n",
      "-------------------------------------\n",
      "-------------------------------------\n",
      "-------------------------------------\n",
      "Below is an instruction that describes a task. Write a response that appropriately completes the request.\n",
      "\n",
      "### Instruction:\n",
      "Provide a synonym for 'hardworking'.\n",
      "\n",
      "Correct response:\n",
      ">> A synonym for 'hardworking' is 'diligent'.\n",
      "\n",
      "Model response:\n",
      ">> A synonym for 'hardworking' is 'sturdy'.\n",
      "-------------------------------------\n",
      "-------------------------------------\n",
      "-------------------------------------\n",
      "-------------------------------------\n",
      "Below is an instruction that describes a task. Write a response that appropriately completes the request.\n",
      "\n",
      "### Instruction:\n",
      "What is the boiling point of sulfur in Celsius?\n",
      "\n",
      "Correct response:\n",
      ">> The boiling point of sulfur is 444.6 degrees Celsius.\n",
      "\n",
      "Model response:\n",
      ">> The boiling point of sulfur is -161.5 degrees Celsius.\n",
      "-------------------------------------\n",
      "-------------------------------------\n",
      "-------------------------------------\n",
      "-------------------------------------\n",
      "Below is an instruction that describes a task. Write a response that appropriately completes the request.\n",
      "\n",
      "### Instruction:\n",
      "What is the plural form of 'child'?\n",
      "\n",
      "Correct response:\n",
      ">> The plural form of 'child' is 'children'.\n",
      "\n",
      "Model response:\n",
      ">> The plural form of 'child' is 'chunk.'\n",
      "-------------------------------------\n",
      "-------------------------------------\n",
      "-------------------------------------\n",
      "-------------------------------------\n"
     ]
    }
   ]
  },
  {
   "cell_type": "markdown",
   "source": [
    "- In the next section, we will use another LLM to evaluate the responses of our model; however, we will use our own test set instead of using a publicly available benchmark dataset\n",
    "\n",
    "- For this, we add the model response to the `test_data` dictionary and save it as a `\"instruction-data-with-response.json\"` file for record-keeping so that we can load and analyze it in separate Python sessions if needed"
   ],
   "metadata": {
    "id": "J6Dfg5UZ1xrG"
   }
  },
  {
   "cell_type": "code",
   "source": [
    "print(\"Example entry:\\n\", test_data[50])"
   ],
   "metadata": {
    "colab": {
     "base_uri": "https://localhost:8080/"
    },
    "id": "6CNUKMNF45mo",
    "outputId": "4f16f79d-d389-4ea9-cb57-99e749a6fbe1"
   },
   "execution_count": 45,
   "outputs": [
    {
     "output_type": "stream",
     "name": "stdout",
     "text": [
      "Example entry:\n",
      " {'instruction': 'Edit the given text to ensure all plural nouns are spelled correctly.', 'input': 'The birds sings beautiful songs.', 'output': 'The birds sing beautiful songs.'}\n"
     ]
    }
   ]
  },
  {
   "cell_type": "code",
   "source": [
    "from tqdm import tqdm\n",
    "\n",
    "# generate responses for whole dataset\n",
    "for i, entry in tqdm(enumerate(test_data), total=len(test_data)):\n",
    "\n",
    "  input_text = format_input(entry)\n",
    "\n",
    "  token_ids = generate_text(\n",
    "      model=model,\n",
    "      input_batch=text_to_token_ids(input_text, tokenizer).to(device),\n",
    "      max_new_tokens=256,\n",
    "      context_size=BASE_CONFIG[\"context_length\"],\n",
    "      eos_id=50256)\n",
    "  generated_text = token_ids_to_text(token_ids, tokenizer)\n",
    "  response_text = generated_text[len(input_text):].replace(\"### Response:\", \"\").strip()\n",
    "\n",
    "  # add \"model_response\" field into `test_data`\n",
    "  test_data[i][\"model_response\"] = response_text\n",
    "\n",
    "\n",
    "# save `test_data` into .json file\n",
    "with open(\"instruction-data-with-response.json\", \"w\") as file:\n",
    "  json.dump(test_data, file, indent=4)"
   ],
   "metadata": {
    "colab": {
     "base_uri": "https://localhost:8080/"
    },
    "id": "N7pYieHx79SL",
    "outputId": "3046e1c6-cb01-4366-ea71-a1fdce11e852"
   },
   "execution_count": 46,
   "outputs": [
    {
     "output_type": "stream",
     "name": "stderr",
     "text": [
      "100%|██████████| 110/110 [01:04<00:00,  1.70it/s]\n"
     ]
    }
   ]
  },
  {
   "cell_type": "code",
   "source": [
    "print(test_data[50])"
   ],
   "metadata": {
    "colab": {
     "base_uri": "https://localhost:8080/"
    },
    "id": "Gl2CCHut79P1",
    "outputId": "fb1ea23e-2b38-4b5d-d2e3-ff0a8a96c2eb"
   },
   "execution_count": 47,
   "outputs": [
    {
     "output_type": "stream",
     "name": "stdout",
     "text": [
      "{'instruction': 'Edit the given text to ensure all plural nouns are spelled correctly.', 'input': 'The birds sings beautiful songs.', 'output': 'The birds sing beautiful songs.', 'model_response': 'The birds sings beautiful songs.'}\n"
     ]
    }
   ]
  },
  {
   "cell_type": "markdown",
   "source": [
    "- let's save the model:"
   ],
   "metadata": {
    "id": "KPfxYA_p6KG_"
   }
  },
  {
   "cell_type": "code",
   "source": [
    "import re\n",
    "\n",
    "\n",
    "file_name = f\"{re.sub(r'[ ()]', '', CHOOSE_MODEL) }-sft.pth\"\n",
    "torch.save(model.state_dict(), file_name)\n",
    "print(f\"Model saved as {file_name}\")\n",
    "\n",
    "# Load model via\n",
    "# model.load_state_dict(torch.load(\"gpt2-medium355M-sft.pth\"))"
   ],
   "metadata": {
    "colab": {
     "base_uri": "https://localhost:8080/"
    },
    "id": "TYUGwWWJ79Op",
    "outputId": "19d3200b-394c-462e-b950-cbf7f51f7d4c"
   },
   "execution_count": 48,
   "outputs": [
    {
     "output_type": "stream",
     "name": "stdout",
     "text": [
      "Model saved as gpt2-medium355M-sft.pth\n"
     ]
    }
   ]
  },
  {
   "cell_type": "markdown",
   "source": [
    "# 7. Evaluating the finetuned LLM"
   ],
   "metadata": {
    "id": "GNxqzkDH6gSE"
   }
  },
  {
   "cell_type": "markdown",
   "source": [
    "- we'll use OpenAI model"
   ],
   "metadata": {
    "id": "A8i6yVeZ8lj1"
   }
  },
  {
   "cell_type": "code",
   "source": [
    "from importlib.metadata import version\n",
    "\n",
    "pkgs = [\"openai\",  # OpenAI API\n",
    "        \"tqdm\",    # Progress bar\n",
    "        ]\n",
    "\n",
    "for p in pkgs:\n",
    "    print(f\"{p} version: {version(p)}\")"
   ],
   "metadata": {
    "colab": {
     "base_uri": "https://localhost:8080/"
    },
    "id": "m9J5Upsl6lcr",
    "outputId": "5ea56f6a-0080-4117-f264-63842a4f90cd"
   },
   "execution_count": 49,
   "outputs": [
    {
     "output_type": "stream",
     "name": "stdout",
     "text": [
      "openai version: 1.86.0\n",
      "tqdm version: 4.67.1\n"
     ]
    }
   ]
  },
  {
   "cell_type": "code",
   "source": [
    "#!pip install dotenv"
   ],
   "metadata": {
    "id": "_UOHK3t61wgt"
   },
   "execution_count": 50,
   "outputs": []
  },
  {
   "cell_type": "code",
   "source": [
    "from google.colab import userdata\n",
    "import os\n",
    "from openai import OpenAI\n",
    "\n",
    "api_key = userdata.get(\"OPENAI_API_KEY\")\n",
    "\n",
    "if api_key and api_key.startswith('sk-proj-') and len(api_key)>10:\n",
    "    print(\"API key looks good so far\")\n",
    "else:\n",
    "    print(\"There might be a problem with your API key? Please visit the troubleshooting notebook!\")\n",
    "\n",
    "MODEL = \"gpt-4.1-mini\"\n",
    "os.environ[\"OPENAI_API_KEY\"] = api_key\n",
    "\n",
    "\n",
    "client = OpenAI()"
   ],
   "metadata": {
    "colab": {
     "base_uri": "https://localhost:8080/"
    },
    "id": "_Q_S3mpI3Rtx",
    "outputId": "ca094f27-7449-4cf1-cbb2-3c319cb41848"
   },
   "execution_count": 51,
   "outputs": [
    {
     "output_type": "stream",
     "name": "stdout",
     "text": [
      "API key looks good so far\n"
     ]
    }
   ]
  },
  {
   "cell_type": "code",
   "source": [
    "def run_chatgpt(prompt, client, model=MODEL):\n",
    "    response = client.chat.completions.create(\n",
    "        model=model,\n",
    "        messages=[{\"role\": \"user\", \"content\": prompt}],\n",
    "        temperature=0.0,\n",
    "        seed=123,\n",
    "    )\n",
    "    return response.choices[0].message.content\n",
    "\n",
    "\n",
    "prompt = \"Respond with 'hello world' if you got this message.\"\n",
    "run_chatgpt(prompt, client)"
   ],
   "metadata": {
    "colab": {
     "base_uri": "https://localhost:8080/",
     "height": 36
    },
    "id": "8oJMk0x64B6W",
    "outputId": "ab194a89-d9be-4222-8610-3c5a4024a3e6"
   },
   "execution_count": 52,
   "outputs": [
    {
     "output_type": "execute_result",
     "data": {
      "text/plain": [
       "'hello world'"
      ],
      "application/vnd.google.colaboratory.intrinsic+json": {
       "type": "string"
      }
     },
     "metadata": {},
     "execution_count": 52
    }
   ]
  },
  {
   "cell_type": "code",
   "source": [
    "for entry in test_data[55:64]:\n",
    "    prompt = (\n",
    "        f\"Given the input `{format_input(entry)}` \"\n",
    "        f\"and correct output `{entry['output']}`, \"\n",
    "        f\"score the model response `{entry['model_response']}`\"\n",
    "        f\" on a scale from 0 to 100, where 100 is the best score. \"\n",
    "        f\"Respond with the integer number only.\"\n",
    "    )\n",
    "    print(\"\\nDataset response:\")\n",
    "    print(\">>\", entry['output'])\n",
    "    print(\"\\nModel response:\")\n",
    "    print(\">>\", entry[\"model_response\"])\n",
    "    print(\"\\nScore:\")\n",
    "    print(\">>\", run_chatgpt(prompt, client))\n",
    "    print(\"\\n-------------------------\")"
   ],
   "metadata": {
    "colab": {
     "base_uri": "https://localhost:8080/"
    },
    "id": "p6i3xyNl56Jk",
    "outputId": "92fae891-bc29-495f-9e5a-c115679428bc"
   },
   "execution_count": 53,
   "outputs": [
    {
     "output_type": "stream",
     "name": "stdout",
     "text": [
      "\n",
      "Dataset response:\n",
      ">> The primary function of the human heart is to pump blood throughout the body, delivering oxygen and nutrients to tissues and removing carbon dioxide and other wastes.\n",
      "\n",
      "Model response:\n",
      ">> The primary function of the human heart is to pump blood to the body's tissues and to remove waste products. It includes the small vessels that supply the heart and the large vessels that supply the body with oxygen and nutrients.\n",
      "\n",
      "Score:\n",
      ">> 75\n",
      "\n",
      "-------------------------\n",
      "\n",
      "Dataset response:\n",
      ">> He will be reading a novel inspired by his grandmother.\n",
      "\n",
      "Model response:\n",
      ">> He is reading a novel inspired by his grandmother.\n",
      "\n",
      "Score:\n",
      ">> 0\n",
      "\n",
      "-------------------------\n",
      "\n",
      "Dataset response:\n",
      ">> The government passed the law.\n",
      "\n",
      "Model response:\n",
      ">> The law was passed by the government.\n",
      "\n",
      "Score:\n",
      ">> 0\n",
      "\n",
      "-------------------------\n",
      "\n",
      "Dataset response:\n",
      ">> The confrontation was inevitable given the circumstances.\n",
      "\n",
      "Model response:\n",
      ">> The collapse of the company was inevitable due to poor management.\n",
      "\n",
      "Score:\n",
      ">> 100\n",
      "\n",
      "-------------------------\n",
      "\n",
      "Dataset response:\n",
      ">> Opinion-based.\n",
      "\n",
      "Model response:\n",
      ">> The statement is based on fact.\n",
      "\n",
      "Score:\n",
      ">> 0\n",
      "\n",
      "-------------------------\n",
      "\n",
      "Dataset response:\n",
      ">> young.\n",
      "\n",
      "Model response:\n",
      ">> An antonym of 'old' is 'young'.\n",
      "\n",
      "Score:\n",
      ">> 100\n",
      "\n",
      "-------------------------\n",
      "\n",
      "Dataset response:\n",
      ">> A synonym for 'hardworking' is 'diligent'.\n",
      "\n",
      "Model response:\n",
      ">> A synonym for 'hardworking' is 'sturdy'.\n",
      "\n",
      "Score:\n",
      ">> 20\n",
      "\n",
      "-------------------------\n",
      "\n",
      "Dataset response:\n",
      ">> The boiling point of sulfur is 444.6 degrees Celsius.\n",
      "\n",
      "Model response:\n",
      ">> The boiling point of sulfur is -161.5 degrees Celsius.\n",
      "\n",
      "Score:\n",
      ">> 0\n",
      "\n",
      "-------------------------\n",
      "\n",
      "Dataset response:\n",
      ">> The plural form of 'child' is 'children'.\n",
      "\n",
      "Model response:\n",
      ">> The plural form of 'child' is 'chunk.'\n",
      "\n",
      "Score:\n",
      ">> 0\n",
      "\n",
      "-------------------------\n"
     ]
    }
   ]
  },
  {
   "cell_type": "code",
   "source": [
    "def generate_model_scores(json_data, json_key, model=MODEL):\n",
    "    scores = []\n",
    "    for entry in tqdm(json_data, desc=\"Scoring entries\"):\n",
    "        prompt = (\n",
    "            f\"Given the input `{format_input(entry)}` \"\n",
    "            f\"and correct output `{entry['output']}`, \"\n",
    "            f\"score the model response `{entry[json_key]}`\"\n",
    "            f\" on a scale from 0 to 100, where 100 is the best score. \"\n",
    "            f\"Respond with the integer number only.\"\n",
    "        )\n",
    "        score = run_chatgpt(prompt, client, model)\n",
    "        try:\n",
    "            scores.append(int(score))\n",
    "        except ValueError:\n",
    "            print(f\"Could not convert score: {score}\")\n",
    "            continue\n",
    "\n",
    "    return scores\n",
    "\n",
    "\n",
    "scores = generate_model_scores(test_data, \"model_response\")\n",
    "print(f\"Number of scores: {len(scores)} of {len(test_data)}\")\n",
    "print(f\"Average score: {sum(scores)/len(scores):.2f}\\n\")"
   ],
   "metadata": {
    "colab": {
     "base_uri": "https://localhost:8080/"
    },
    "id": "eZ2hJxd-6pHf",
    "outputId": "ae7f9532-4515-4bc1-a99d-418bc67d20ff"
   },
   "execution_count": 54,
   "outputs": [
    {
     "output_type": "stream",
     "name": "stderr",
     "text": [
      "Scoring entries: 100%|██████████| 110/110 [00:38<00:00,  2.87it/s]"
     ]
    },
    {
     "output_type": "stream",
     "name": "stdout",
     "text": [
      "Number of scores: 110 of 110\n",
      "Average score: 35.68\n",
      "\n"
     ]
    },
    {
     "output_type": "stream",
     "name": "stderr",
     "text": [
      "\n"
     ]
    }
   ]
  },
  {
   "cell_type": "code",
   "source": [
    "notebook_end_time = time.time()\n",
    "runtime_in_seconds = notebook_end_time - notebook_start_time\n",
    "\n",
    "# format as minutes and seconds\n",
    "minutes, seconds = divmod(runtime_in_seconds, 60)\n",
    "print(f\"Notebook runtime: {int(minutes)} min {seconds:.2f} sec\")"
   ],
   "metadata": {
    "colab": {
     "base_uri": "https://localhost:8080/"
    },
    "id": "FsNqFAw6-szi",
    "outputId": "75917648-f506-49f9-f079-8a1aa60b69b3"
   },
   "execution_count": 55,
   "outputs": [
    {
     "output_type": "stream",
     "name": "stdout",
     "text": [
      "Notebook runtime: 7 min 6.71 sec\n"
     ]
    }
   ]
  }
 ]
}
